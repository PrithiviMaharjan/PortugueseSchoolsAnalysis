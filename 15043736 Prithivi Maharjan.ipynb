{
 "cells": [
  {
   "cell_type": "markdown",
   "metadata": {},
   "source": [
    "# Importing required Python libraries "
   ]
  },
  {
   "cell_type": "code",
   "execution_count": 1,
   "metadata": {},
   "outputs": [],
   "source": [
    "import pandas as pd\n",
    "import numpy as np\n",
    "from sqlalchemy import create_engine"
   ]
  },
  {
   "cell_type": "markdown",
   "metadata": {},
   "source": [
    "# Task 1: Data Preparation\n",
    "### a) GP student data extraction\n"
   ]
  },
  {
   "cell_type": "code",
   "execution_count": 2,
   "metadata": {},
   "outputs": [
    {
     "data": {
      "text/html": [
       "<div>\n",
       "<style scoped>\n",
       "    .dataframe tbody tr th:only-of-type {\n",
       "        vertical-align: middle;\n",
       "    }\n",
       "\n",
       "    .dataframe tbody tr th {\n",
       "        vertical-align: top;\n",
       "    }\n",
       "\n",
       "    .dataframe thead th {\n",
       "        text-align: right;\n",
       "    }\n",
       "</style>\n",
       "<table border=\"1\" class=\"dataframe\">\n",
       "  <thead>\n",
       "    <tr style=\"text-align: right;\">\n",
       "      <th></th>\n",
       "      <th>studentID</th>\n",
       "      <th>G1</th>\n",
       "      <th>G2</th>\n",
       "      <th>G3</th>\n",
       "    </tr>\n",
       "  </thead>\n",
       "  <tbody>\n",
       "    <tr>\n",
       "      <th>0</th>\n",
       "      <td>GP1</td>\n",
       "      <td>5</td>\n",
       "      <td>6</td>\n",
       "      <td>6</td>\n",
       "    </tr>\n",
       "    <tr>\n",
       "      <th>1</th>\n",
       "      <td>GP2</td>\n",
       "      <td>5</td>\n",
       "      <td>5</td>\n",
       "      <td>6</td>\n",
       "    </tr>\n",
       "    <tr>\n",
       "      <th>2</th>\n",
       "      <td>GP3</td>\n",
       "      <td>7</td>\n",
       "      <td>8</td>\n",
       "      <td>10</td>\n",
       "    </tr>\n",
       "    <tr>\n",
       "      <th>3</th>\n",
       "      <td>GP4</td>\n",
       "      <td>15</td>\n",
       "      <td>14</td>\n",
       "      <td>15</td>\n",
       "    </tr>\n",
       "    <tr>\n",
       "      <th>4</th>\n",
       "      <td>GP5</td>\n",
       "      <td>6</td>\n",
       "      <td>10</td>\n",
       "      <td>10</td>\n",
       "    </tr>\n",
       "    <tr>\n",
       "      <th>...</th>\n",
       "      <td>...</td>\n",
       "      <td>...</td>\n",
       "      <td>...</td>\n",
       "      <td>...</td>\n",
       "    </tr>\n",
       "    <tr>\n",
       "      <th>344</th>\n",
       "      <td>GP345</td>\n",
       "      <td>11</td>\n",
       "      <td>10</td>\n",
       "      <td>10</td>\n",
       "    </tr>\n",
       "    <tr>\n",
       "      <th>345</th>\n",
       "      <td>GP346</td>\n",
       "      <td>13</td>\n",
       "      <td>13</td>\n",
       "      <td>14</td>\n",
       "    </tr>\n",
       "    <tr>\n",
       "      <th>346</th>\n",
       "      <td>GP347</td>\n",
       "      <td>16</td>\n",
       "      <td>15</td>\n",
       "      <td>16</td>\n",
       "    </tr>\n",
       "    <tr>\n",
       "      <th>347</th>\n",
       "      <td>GP348</td>\n",
       "      <td>10</td>\n",
       "      <td>10</td>\n",
       "      <td>9</td>\n",
       "    </tr>\n",
       "    <tr>\n",
       "      <th>348</th>\n",
       "      <td>GP349</td>\n",
       "      <td>13</td>\n",
       "      <td>15</td>\n",
       "      <td>15</td>\n",
       "    </tr>\n",
       "  </tbody>\n",
       "</table>\n",
       "<p>349 rows × 4 columns</p>\n",
       "</div>"
      ],
      "text/plain": [
       "    studentID  G1  G2  G3\n",
       "0         GP1   5   6   6\n",
       "1         GP2   5   5   6\n",
       "2         GP3   7   8  10\n",
       "3         GP4  15  14  15\n",
       "4         GP5   6  10  10\n",
       "..        ...  ..  ..  ..\n",
       "344     GP345  11  10  10\n",
       "345     GP346  13  13  14\n",
       "346     GP347  16  15  16\n",
       "347     GP348  10  10   9\n",
       "348     GP349  13  15  15\n",
       "\n",
       "[349 rows x 4 columns]"
      ]
     },
     "execution_count": 2,
     "metadata": {},
     "output_type": "execute_result"
    }
   ],
   "source": [
    "# Reading data from excel file\n",
    "gp_marks = pd.read_excel('GP_marks.xlsx')\n",
    "gp_marks"
   ]
  },
  {
   "cell_type": "code",
   "execution_count": 3,
   "metadata": {},
   "outputs": [
    {
     "name": "stdout",
     "output_type": "stream",
     "text": [
      "Rows: 349 | Column: 30\n"
     ]
    }
   ],
   "source": [
    "# Reading data from csv file\n",
    "gp_student_info = pd.read_csv('GP_student_info.csv')\n",
    "print(\"Rows:\",len(gp_student_info.axes[0]), \n",
    "      \"| Column:\",len(gp_student_info.axes[1]))"
   ]
  },
  {
   "cell_type": "markdown",
   "metadata": {},
   "source": [
    "### b) MS school data extraction"
   ]
  },
  {
   "cell_type": "code",
   "execution_count": 4,
   "metadata": {},
   "outputs": [
    {
     "name": "stdout",
     "output_type": "stream",
     "text": [
      "Rows: 46 | Column: 4\n"
     ]
    }
   ],
   "source": [
    "# Reading from a json file\n",
    "ms_marks = pd.read_json('MS_marks.json')\n",
    "print(\"Rows:\",len(ms_marks.axes[0]), \n",
    "      \"| Column:\",len(ms_marks.axes[1]))"
   ]
  },
  {
   "cell_type": "code",
   "execution_count": 5,
   "metadata": {},
   "outputs": [
    {
     "name": "stdout",
     "output_type": "stream",
     "text": [
      "Rows: 46 | Column: 30\n"
     ]
    }
   ],
   "source": [
    "#Reading data from sql file\n",
    "engine = create_engine('mysql+pymysql://root:@localhost:3306/school')\n",
    "ms_student_info = pd.read_sql('select * from student_details', engine)\n",
    "print(\"Rows:\",len(ms_student_info.axes[0]), \n",
    "      \"| Column:\",len(ms_student_info.axes[1]))"
   ]
  },
  {
   "cell_type": "markdown",
   "metadata": {},
   "source": [
    "### c) Combining each school data according to studentID  "
   ]
  },
  {
   "cell_type": "code",
   "execution_count": 6,
   "metadata": {},
   "outputs": [
    {
     "data": {
      "text/html": [
       "<div>\n",
       "<style scoped>\n",
       "    .dataframe tbody tr th:only-of-type {\n",
       "        vertical-align: middle;\n",
       "    }\n",
       "\n",
       "    .dataframe tbody tr th {\n",
       "        vertical-align: top;\n",
       "    }\n",
       "\n",
       "    .dataframe thead th {\n",
       "        text-align: right;\n",
       "    }\n",
       "</style>\n",
       "<table border=\"1\" class=\"dataframe\">\n",
       "  <thead>\n",
       "    <tr style=\"text-align: right;\">\n",
       "      <th></th>\n",
       "      <th>studentID</th>\n",
       "      <th>sex</th>\n",
       "      <th>age</th>\n",
       "      <th>address</th>\n",
       "      <th>famsize</th>\n",
       "      <th>Pstatus</th>\n",
       "      <th>Medu</th>\n",
       "      <th>Fedu</th>\n",
       "      <th>Mjob</th>\n",
       "      <th>Fjob</th>\n",
       "      <th>...</th>\n",
       "      <th>famrel</th>\n",
       "      <th>freetime</th>\n",
       "      <th>goout</th>\n",
       "      <th>Dalc</th>\n",
       "      <th>Walc</th>\n",
       "      <th>health</th>\n",
       "      <th>absences</th>\n",
       "      <th>G1</th>\n",
       "      <th>G2</th>\n",
       "      <th>G3</th>\n",
       "    </tr>\n",
       "  </thead>\n",
       "  <tbody>\n",
       "    <tr>\n",
       "      <th>0</th>\n",
       "      <td>GP1</td>\n",
       "      <td>F</td>\n",
       "      <td>18</td>\n",
       "      <td>U</td>\n",
       "      <td>GT3</td>\n",
       "      <td>A</td>\n",
       "      <td>higher education</td>\n",
       "      <td>higher education</td>\n",
       "      <td>at_home</td>\n",
       "      <td>teacher</td>\n",
       "      <td>...</td>\n",
       "      <td>very good</td>\n",
       "      <td>medium</td>\n",
       "      <td>high</td>\n",
       "      <td>very low</td>\n",
       "      <td>very low</td>\n",
       "      <td>good</td>\n",
       "      <td>6</td>\n",
       "      <td>5</td>\n",
       "      <td>6</td>\n",
       "      <td>6</td>\n",
       "    </tr>\n",
       "    <tr>\n",
       "      <th>1</th>\n",
       "      <td>GP2</td>\n",
       "      <td>F</td>\n",
       "      <td>17</td>\n",
       "      <td>U</td>\n",
       "      <td>GT3</td>\n",
       "      <td>T</td>\n",
       "      <td>primary education (4th grade)</td>\n",
       "      <td>primary education (4th grade)</td>\n",
       "      <td>at_home</td>\n",
       "      <td>other</td>\n",
       "      <td>...</td>\n",
       "      <td>excellent</td>\n",
       "      <td>medium</td>\n",
       "      <td>medium</td>\n",
       "      <td>very low</td>\n",
       "      <td>very low</td>\n",
       "      <td>good</td>\n",
       "      <td>4</td>\n",
       "      <td>5</td>\n",
       "      <td>5</td>\n",
       "      <td>6</td>\n",
       "    </tr>\n",
       "  </tbody>\n",
       "</table>\n",
       "<p>2 rows × 33 columns</p>\n",
       "</div>"
      ],
      "text/plain": [
       "  studentID sex  age address famsize Pstatus                           Medu  \\\n",
       "0       GP1   F   18       U     GT3       A               higher education   \n",
       "1       GP2   F   17       U     GT3       T  primary education (4th grade)   \n",
       "\n",
       "                            Fedu     Mjob     Fjob  ...     famrel freetime  \\\n",
       "0               higher education  at_home  teacher  ...  very good   medium   \n",
       "1  primary education (4th grade)  at_home    other  ...  excellent   medium   \n",
       "\n",
       "    goout      Dalc      Walc health absences G1 G2 G3  \n",
       "0    high  very low  very low   good        6  5  6  6  \n",
       "1  medium  very low  very low   good        4  5  5  6  \n",
       "\n",
       "[2 rows x 33 columns]"
      ]
     },
     "execution_count": 6,
     "metadata": {},
     "output_type": "execute_result"
    }
   ],
   "source": [
    "#combined data of gp school\n",
    "gp_student_marks_info = pd.merge(gp_student_info, gp_marks, on=\"studentID\")\n",
    "gp_student_marks_info.head(2)"
   ]
  },
  {
   "cell_type": "code",
   "execution_count": 7,
   "metadata": {},
   "outputs": [
    {
     "data": {
      "text/html": [
       "<div>\n",
       "<style scoped>\n",
       "    .dataframe tbody tr th:only-of-type {\n",
       "        vertical-align: middle;\n",
       "    }\n",
       "\n",
       "    .dataframe tbody tr th {\n",
       "        vertical-align: top;\n",
       "    }\n",
       "\n",
       "    .dataframe thead th {\n",
       "        text-align: right;\n",
       "    }\n",
       "</style>\n",
       "<table border=\"1\" class=\"dataframe\">\n",
       "  <thead>\n",
       "    <tr style=\"text-align: right;\">\n",
       "      <th></th>\n",
       "      <th>studentID</th>\n",
       "      <th>sex</th>\n",
       "      <th>age</th>\n",
       "      <th>address</th>\n",
       "      <th>famsize</th>\n",
       "      <th>Pstatus</th>\n",
       "      <th>Medu</th>\n",
       "      <th>Fedu</th>\n",
       "      <th>Mjob</th>\n",
       "      <th>Fjob</th>\n",
       "      <th>...</th>\n",
       "      <th>famrel</th>\n",
       "      <th>freetime</th>\n",
       "      <th>goout</th>\n",
       "      <th>Dalc</th>\n",
       "      <th>Walc</th>\n",
       "      <th>health</th>\n",
       "      <th>absences</th>\n",
       "      <th>G1</th>\n",
       "      <th>G2</th>\n",
       "      <th>G3</th>\n",
       "    </tr>\n",
       "  </thead>\n",
       "  <tbody>\n",
       "    <tr>\n",
       "      <th>0</th>\n",
       "      <td>MS1</td>\n",
       "      <td>M</td>\n",
       "      <td>18</td>\n",
       "      <td>R</td>\n",
       "      <td>GT3</td>\n",
       "      <td>T</td>\n",
       "      <td>secondary education</td>\n",
       "      <td>5th to 9th grade</td>\n",
       "      <td>other</td>\n",
       "      <td>other</td>\n",
       "      <td>...</td>\n",
       "      <td>bad</td>\n",
       "      <td>very high</td>\n",
       "      <td>very high</td>\n",
       "      <td>very high</td>\n",
       "      <td>very high</td>\n",
       "      <td>excellent</td>\n",
       "      <td>10</td>\n",
       "      <td>11</td>\n",
       "      <td>13</td>\n",
       "      <td>13</td>\n",
       "    </tr>\n",
       "    <tr>\n",
       "      <th>1</th>\n",
       "      <td>MS2</td>\n",
       "      <td>M</td>\n",
       "      <td>19</td>\n",
       "      <td>R</td>\n",
       "      <td>GT3</td>\n",
       "      <td>T</td>\n",
       "      <td>primary education (4th grade)</td>\n",
       "      <td>primary education (4th grade)</td>\n",
       "      <td>other</td>\n",
       "      <td>services</td>\n",
       "      <td>...</td>\n",
       "      <td>excellent</td>\n",
       "      <td>high</td>\n",
       "      <td>high</td>\n",
       "      <td>medium</td>\n",
       "      <td>medium</td>\n",
       "      <td>bad</td>\n",
       "      <td>8</td>\n",
       "      <td>8</td>\n",
       "      <td>7</td>\n",
       "      <td>8</td>\n",
       "    </tr>\n",
       "  </tbody>\n",
       "</table>\n",
       "<p>2 rows × 33 columns</p>\n",
       "</div>"
      ],
      "text/plain": [
       "  studentID sex  age address famsize Pstatus                           Medu  \\\n",
       "0       MS1   M   18       R     GT3       T            secondary education   \n",
       "1       MS2   M   19       R     GT3       T  primary education (4th grade)   \n",
       "\n",
       "                            Fedu   Mjob      Fjob  ...     famrel   freetime  \\\n",
       "0               5th to 9th grade  other     other  ...        bad  very high   \n",
       "1  primary education (4th grade)  other  services  ...  excellent       high   \n",
       "\n",
       "       goout       Dalc       Walc     health absences  G1  G2  G3  \n",
       "0  very high  very high  very high  excellent       10  11  13  13  \n",
       "1       high     medium     medium        bad        8   8   7   8  \n",
       "\n",
       "[2 rows x 33 columns]"
      ]
     },
     "execution_count": 7,
     "metadata": {},
     "output_type": "execute_result"
    }
   ],
   "source": [
    "#combined data of ms school\n",
    "ms_student_marks_info = pd.merge(ms_student_info, ms_marks, on=\"studentID\")\n",
    "ms_student_marks_info.head(2)"
   ]
  },
  {
   "cell_type": "markdown",
   "metadata": {},
   "source": [
    "### d) Adding new column “school” in both dataset"
   ]
  },
  {
   "cell_type": "code",
   "execution_count": 8,
   "metadata": {},
   "outputs": [
    {
     "data": {
      "text/html": [
       "<div>\n",
       "<style scoped>\n",
       "    .dataframe tbody tr th:only-of-type {\n",
       "        vertical-align: middle;\n",
       "    }\n",
       "\n",
       "    .dataframe tbody tr th {\n",
       "        vertical-align: top;\n",
       "    }\n",
       "\n",
       "    .dataframe thead th {\n",
       "        text-align: right;\n",
       "    }\n",
       "</style>\n",
       "<table border=\"1\" class=\"dataframe\">\n",
       "  <thead>\n",
       "    <tr style=\"text-align: right;\">\n",
       "      <th></th>\n",
       "      <th>school</th>\n",
       "      <th>studentID</th>\n",
       "      <th>sex</th>\n",
       "      <th>age</th>\n",
       "      <th>address</th>\n",
       "      <th>famsize</th>\n",
       "      <th>Pstatus</th>\n",
       "      <th>Medu</th>\n",
       "      <th>Fedu</th>\n",
       "      <th>Mjob</th>\n",
       "      <th>...</th>\n",
       "      <th>famrel</th>\n",
       "      <th>freetime</th>\n",
       "      <th>goout</th>\n",
       "      <th>Dalc</th>\n",
       "      <th>Walc</th>\n",
       "      <th>health</th>\n",
       "      <th>absences</th>\n",
       "      <th>G1</th>\n",
       "      <th>G2</th>\n",
       "      <th>G3</th>\n",
       "    </tr>\n",
       "  </thead>\n",
       "  <tbody>\n",
       "    <tr>\n",
       "      <th>0</th>\n",
       "      <td>GP</td>\n",
       "      <td>GP1</td>\n",
       "      <td>F</td>\n",
       "      <td>18</td>\n",
       "      <td>U</td>\n",
       "      <td>GT3</td>\n",
       "      <td>A</td>\n",
       "      <td>higher education</td>\n",
       "      <td>higher education</td>\n",
       "      <td>at_home</td>\n",
       "      <td>...</td>\n",
       "      <td>very good</td>\n",
       "      <td>medium</td>\n",
       "      <td>high</td>\n",
       "      <td>very low</td>\n",
       "      <td>very low</td>\n",
       "      <td>good</td>\n",
       "      <td>6</td>\n",
       "      <td>5</td>\n",
       "      <td>6</td>\n",
       "      <td>6</td>\n",
       "    </tr>\n",
       "    <tr>\n",
       "      <th>1</th>\n",
       "      <td>GP</td>\n",
       "      <td>GP2</td>\n",
       "      <td>F</td>\n",
       "      <td>17</td>\n",
       "      <td>U</td>\n",
       "      <td>GT3</td>\n",
       "      <td>T</td>\n",
       "      <td>primary education (4th grade)</td>\n",
       "      <td>primary education (4th grade)</td>\n",
       "      <td>at_home</td>\n",
       "      <td>...</td>\n",
       "      <td>excellent</td>\n",
       "      <td>medium</td>\n",
       "      <td>medium</td>\n",
       "      <td>very low</td>\n",
       "      <td>very low</td>\n",
       "      <td>good</td>\n",
       "      <td>4</td>\n",
       "      <td>5</td>\n",
       "      <td>5</td>\n",
       "      <td>6</td>\n",
       "    </tr>\n",
       "    <tr>\n",
       "      <th>2</th>\n",
       "      <td>GP</td>\n",
       "      <td>GP3</td>\n",
       "      <td>F</td>\n",
       "      <td>15</td>\n",
       "      <td>U</td>\n",
       "      <td>LE3</td>\n",
       "      <td>T</td>\n",
       "      <td>primary education (4th grade)</td>\n",
       "      <td>primary education (4th grade)</td>\n",
       "      <td>at_home</td>\n",
       "      <td>...</td>\n",
       "      <td>very good</td>\n",
       "      <td>medium</td>\n",
       "      <td>low</td>\n",
       "      <td>low</td>\n",
       "      <td>medium</td>\n",
       "      <td>good</td>\n",
       "      <td>10</td>\n",
       "      <td>7</td>\n",
       "      <td>8</td>\n",
       "      <td>10</td>\n",
       "    </tr>\n",
       "    <tr>\n",
       "      <th>3</th>\n",
       "      <td>GP</td>\n",
       "      <td>GP4</td>\n",
       "      <td>F</td>\n",
       "      <td>15</td>\n",
       "      <td>U</td>\n",
       "      <td>GT3</td>\n",
       "      <td>T</td>\n",
       "      <td>higher education</td>\n",
       "      <td>5th to 9th grade</td>\n",
       "      <td>health</td>\n",
       "      <td>...</td>\n",
       "      <td>good</td>\n",
       "      <td>low</td>\n",
       "      <td>low</td>\n",
       "      <td>very low</td>\n",
       "      <td>very low</td>\n",
       "      <td>excellent</td>\n",
       "      <td>2</td>\n",
       "      <td>15</td>\n",
       "      <td>14</td>\n",
       "      <td>15</td>\n",
       "    </tr>\n",
       "    <tr>\n",
       "      <th>4</th>\n",
       "      <td>GP</td>\n",
       "      <td>GP5</td>\n",
       "      <td>F</td>\n",
       "      <td>16</td>\n",
       "      <td>U</td>\n",
       "      <td>GT3</td>\n",
       "      <td>T</td>\n",
       "      <td>secondary education</td>\n",
       "      <td>secondary education</td>\n",
       "      <td>other</td>\n",
       "      <td>...</td>\n",
       "      <td>very good</td>\n",
       "      <td>medium</td>\n",
       "      <td>low</td>\n",
       "      <td>very low</td>\n",
       "      <td>low</td>\n",
       "      <td>excellent</td>\n",
       "      <td>4</td>\n",
       "      <td>6</td>\n",
       "      <td>10</td>\n",
       "      <td>10</td>\n",
       "    </tr>\n",
       "  </tbody>\n",
       "</table>\n",
       "<p>5 rows × 34 columns</p>\n",
       "</div>"
      ],
      "text/plain": [
       "  school studentID sex  age address famsize Pstatus  \\\n",
       "0     GP       GP1   F   18       U     GT3       A   \n",
       "1     GP       GP2   F   17       U     GT3       T   \n",
       "2     GP       GP3   F   15       U     LE3       T   \n",
       "3     GP       GP4   F   15       U     GT3       T   \n",
       "4     GP       GP5   F   16       U     GT3       T   \n",
       "\n",
       "                            Medu                           Fedu     Mjob  ...  \\\n",
       "0               higher education               higher education  at_home  ...   \n",
       "1  primary education (4th grade)  primary education (4th grade)  at_home  ...   \n",
       "2  primary education (4th grade)  primary education (4th grade)  at_home  ...   \n",
       "3               higher education               5th to 9th grade   health  ...   \n",
       "4            secondary education            secondary education    other  ...   \n",
       "\n",
       "      famrel freetime   goout      Dalc      Walc     health absences  G1  G2  \\\n",
       "0  very good   medium    high  very low  very low       good        6   5   6   \n",
       "1  excellent   medium  medium  very low  very low       good        4   5   5   \n",
       "2  very good   medium     low       low    medium       good       10   7   8   \n",
       "3       good      low     low  very low  very low  excellent        2  15  14   \n",
       "4  very good   medium     low  very low       low  excellent        4   6  10   \n",
       "\n",
       "   G3  \n",
       "0   6  \n",
       "1   6  \n",
       "2  10  \n",
       "3  15  \n",
       "4  10  \n",
       "\n",
       "[5 rows x 34 columns]"
      ]
     },
     "execution_count": 8,
     "metadata": {},
     "output_type": "execute_result"
    }
   ],
   "source": [
    "#Adding a new attribute (column) \"school\" for Gabriel Pereira data set\n",
    "gp_student_marks_info.insert(loc=0, column=\"school\", value=\"GP\")\n",
    "gp_student_marks_info.head()"
   ]
  },
  {
   "cell_type": "code",
   "execution_count": 9,
   "metadata": {},
   "outputs": [
    {
     "data": {
      "text/html": [
       "<div>\n",
       "<style scoped>\n",
       "    .dataframe tbody tr th:only-of-type {\n",
       "        vertical-align: middle;\n",
       "    }\n",
       "\n",
       "    .dataframe tbody tr th {\n",
       "        vertical-align: top;\n",
       "    }\n",
       "\n",
       "    .dataframe thead th {\n",
       "        text-align: right;\n",
       "    }\n",
       "</style>\n",
       "<table border=\"1\" class=\"dataframe\">\n",
       "  <thead>\n",
       "    <tr style=\"text-align: right;\">\n",
       "      <th></th>\n",
       "      <th>school</th>\n",
       "      <th>studentID</th>\n",
       "      <th>sex</th>\n",
       "      <th>age</th>\n",
       "      <th>address</th>\n",
       "      <th>famsize</th>\n",
       "      <th>Pstatus</th>\n",
       "      <th>Medu</th>\n",
       "      <th>Fedu</th>\n",
       "      <th>Mjob</th>\n",
       "      <th>...</th>\n",
       "      <th>famrel</th>\n",
       "      <th>freetime</th>\n",
       "      <th>goout</th>\n",
       "      <th>Dalc</th>\n",
       "      <th>Walc</th>\n",
       "      <th>health</th>\n",
       "      <th>absences</th>\n",
       "      <th>G1</th>\n",
       "      <th>G2</th>\n",
       "      <th>G3</th>\n",
       "    </tr>\n",
       "  </thead>\n",
       "  <tbody>\n",
       "    <tr>\n",
       "      <th>0</th>\n",
       "      <td>MS</td>\n",
       "      <td>MS1</td>\n",
       "      <td>M</td>\n",
       "      <td>18</td>\n",
       "      <td>R</td>\n",
       "      <td>GT3</td>\n",
       "      <td>T</td>\n",
       "      <td>secondary education</td>\n",
       "      <td>5th to 9th grade</td>\n",
       "      <td>other</td>\n",
       "      <td>...</td>\n",
       "      <td>bad</td>\n",
       "      <td>very high</td>\n",
       "      <td>very high</td>\n",
       "      <td>very high</td>\n",
       "      <td>very high</td>\n",
       "      <td>excellent</td>\n",
       "      <td>10</td>\n",
       "      <td>11</td>\n",
       "      <td>13</td>\n",
       "      <td>13</td>\n",
       "    </tr>\n",
       "    <tr>\n",
       "      <th>1</th>\n",
       "      <td>MS</td>\n",
       "      <td>MS2</td>\n",
       "      <td>M</td>\n",
       "      <td>19</td>\n",
       "      <td>R</td>\n",
       "      <td>GT3</td>\n",
       "      <td>T</td>\n",
       "      <td>primary education (4th grade)</td>\n",
       "      <td>primary education (4th grade)</td>\n",
       "      <td>other</td>\n",
       "      <td>...</td>\n",
       "      <td>excellent</td>\n",
       "      <td>high</td>\n",
       "      <td>high</td>\n",
       "      <td>medium</td>\n",
       "      <td>medium</td>\n",
       "      <td>bad</td>\n",
       "      <td>8</td>\n",
       "      <td>8</td>\n",
       "      <td>7</td>\n",
       "      <td>8</td>\n",
       "    </tr>\n",
       "    <tr>\n",
       "      <th>2</th>\n",
       "      <td>MS</td>\n",
       "      <td>MS3</td>\n",
       "      <td>M</td>\n",
       "      <td>17</td>\n",
       "      <td>U</td>\n",
       "      <td>GT3</td>\n",
       "      <td>T</td>\n",
       "      <td>secondary education</td>\n",
       "      <td>secondary education</td>\n",
       "      <td>health</td>\n",
       "      <td>...</td>\n",
       "      <td>very good</td>\n",
       "      <td>very high</td>\n",
       "      <td>high</td>\n",
       "      <td>low</td>\n",
       "      <td>medium</td>\n",
       "      <td>good</td>\n",
       "      <td>2</td>\n",
       "      <td>13</td>\n",
       "      <td>13</td>\n",
       "      <td>13</td>\n",
       "    </tr>\n",
       "    <tr>\n",
       "      <th>3</th>\n",
       "      <td>MS</td>\n",
       "      <td>MS4</td>\n",
       "      <td>M</td>\n",
       "      <td>18</td>\n",
       "      <td>U</td>\n",
       "      <td>LE3</td>\n",
       "      <td>T</td>\n",
       "      <td>primary education (4th grade)</td>\n",
       "      <td>secondary education</td>\n",
       "      <td>at_home</td>\n",
       "      <td>...</td>\n",
       "      <td>very good</td>\n",
       "      <td>medium</td>\n",
       "      <td>medium</td>\n",
       "      <td>low</td>\n",
       "      <td>medium</td>\n",
       "      <td>good</td>\n",
       "      <td>7</td>\n",
       "      <td>8</td>\n",
       "      <td>7</td>\n",
       "      <td>8</td>\n",
       "    </tr>\n",
       "    <tr>\n",
       "      <th>4</th>\n",
       "      <td>MS</td>\n",
       "      <td>MS5</td>\n",
       "      <td>M</td>\n",
       "      <td>19</td>\n",
       "      <td>R</td>\n",
       "      <td>GT3</td>\n",
       "      <td>T</td>\n",
       "      <td>primary education (4th grade)</td>\n",
       "      <td>primary education (4th grade)</td>\n",
       "      <td>other</td>\n",
       "      <td>...</td>\n",
       "      <td>very good</td>\n",
       "      <td>high</td>\n",
       "      <td>high</td>\n",
       "      <td>medium</td>\n",
       "      <td>medium</td>\n",
       "      <td>excellent</td>\n",
       "      <td>4</td>\n",
       "      <td>8</td>\n",
       "      <td>8</td>\n",
       "      <td>8</td>\n",
       "    </tr>\n",
       "  </tbody>\n",
       "</table>\n",
       "<p>5 rows × 34 columns</p>\n",
       "</div>"
      ],
      "text/plain": [
       "  school studentID sex  age address famsize Pstatus  \\\n",
       "0     MS       MS1   M   18       R     GT3       T   \n",
       "1     MS       MS2   M   19       R     GT3       T   \n",
       "2     MS       MS3   M   17       U     GT3       T   \n",
       "3     MS       MS4   M   18       U     LE3       T   \n",
       "4     MS       MS5   M   19       R     GT3       T   \n",
       "\n",
       "                            Medu                           Fedu     Mjob  ...  \\\n",
       "0            secondary education               5th to 9th grade    other  ...   \n",
       "1  primary education (4th grade)  primary education (4th grade)    other  ...   \n",
       "2            secondary education            secondary education   health  ...   \n",
       "3  primary education (4th grade)            secondary education  at_home  ...   \n",
       "4  primary education (4th grade)  primary education (4th grade)    other  ...   \n",
       "\n",
       "      famrel   freetime      goout       Dalc       Walc     health absences  \\\n",
       "0        bad  very high  very high  very high  very high  excellent       10   \n",
       "1  excellent       high       high     medium     medium        bad        8   \n",
       "2  very good  very high       high        low     medium       good        2   \n",
       "3  very good     medium     medium        low     medium       good        7   \n",
       "4  very good       high       high     medium     medium  excellent        4   \n",
       "\n",
       "   G1  G2  G3  \n",
       "0  11  13  13  \n",
       "1   8   7   8  \n",
       "2  13  13  13  \n",
       "3   8   7   8  \n",
       "4   8   8   8  \n",
       "\n",
       "[5 rows x 34 columns]"
      ]
     },
     "execution_count": 9,
     "metadata": {},
     "output_type": "execute_result"
    }
   ],
   "source": [
    "#Adding a new attribute (column) \"school\" for Mousinho da Silveira data set\n",
    "ms_student_marks_info.insert(loc=0, column=\"school\", value=\"MS\")\n",
    "ms_student_marks_info.head()"
   ]
  },
  {
   "cell_type": "markdown",
   "metadata": {},
   "source": [
    "### e) Combining all dataset into a single dataset"
   ]
  },
  {
   "cell_type": "code",
   "execution_count": 10,
   "metadata": {},
   "outputs": [
    {
     "data": {
      "text/html": [
       "<div>\n",
       "<style scoped>\n",
       "    .dataframe tbody tr th:only-of-type {\n",
       "        vertical-align: middle;\n",
       "    }\n",
       "\n",
       "    .dataframe tbody tr th {\n",
       "        vertical-align: top;\n",
       "    }\n",
       "\n",
       "    .dataframe thead th {\n",
       "        text-align: right;\n",
       "    }\n",
       "</style>\n",
       "<table border=\"1\" class=\"dataframe\">\n",
       "  <thead>\n",
       "    <tr style=\"text-align: right;\">\n",
       "      <th></th>\n",
       "      <th>school</th>\n",
       "      <th>studentID</th>\n",
       "      <th>sex</th>\n",
       "      <th>age</th>\n",
       "      <th>address</th>\n",
       "      <th>famsize</th>\n",
       "      <th>Pstatus</th>\n",
       "      <th>Medu</th>\n",
       "      <th>Fedu</th>\n",
       "      <th>Mjob</th>\n",
       "      <th>...</th>\n",
       "      <th>famrel</th>\n",
       "      <th>freetime</th>\n",
       "      <th>goout</th>\n",
       "      <th>Dalc</th>\n",
       "      <th>Walc</th>\n",
       "      <th>health</th>\n",
       "      <th>absences</th>\n",
       "      <th>G1</th>\n",
       "      <th>G2</th>\n",
       "      <th>G3</th>\n",
       "    </tr>\n",
       "  </thead>\n",
       "  <tbody>\n",
       "    <tr>\n",
       "      <th>0</th>\n",
       "      <td>GP</td>\n",
       "      <td>GP1</td>\n",
       "      <td>F</td>\n",
       "      <td>18</td>\n",
       "      <td>U</td>\n",
       "      <td>GT3</td>\n",
       "      <td>A</td>\n",
       "      <td>higher education</td>\n",
       "      <td>higher education</td>\n",
       "      <td>at_home</td>\n",
       "      <td>...</td>\n",
       "      <td>very good</td>\n",
       "      <td>medium</td>\n",
       "      <td>high</td>\n",
       "      <td>very low</td>\n",
       "      <td>very low</td>\n",
       "      <td>good</td>\n",
       "      <td>6</td>\n",
       "      <td>5</td>\n",
       "      <td>6</td>\n",
       "      <td>6</td>\n",
       "    </tr>\n",
       "    <tr>\n",
       "      <th>1</th>\n",
       "      <td>GP</td>\n",
       "      <td>GP2</td>\n",
       "      <td>F</td>\n",
       "      <td>17</td>\n",
       "      <td>U</td>\n",
       "      <td>GT3</td>\n",
       "      <td>T</td>\n",
       "      <td>primary education (4th grade)</td>\n",
       "      <td>primary education (4th grade)</td>\n",
       "      <td>at_home</td>\n",
       "      <td>...</td>\n",
       "      <td>excellent</td>\n",
       "      <td>medium</td>\n",
       "      <td>medium</td>\n",
       "      <td>very low</td>\n",
       "      <td>very low</td>\n",
       "      <td>good</td>\n",
       "      <td>4</td>\n",
       "      <td>5</td>\n",
       "      <td>5</td>\n",
       "      <td>6</td>\n",
       "    </tr>\n",
       "    <tr>\n",
       "      <th>2</th>\n",
       "      <td>GP</td>\n",
       "      <td>GP3</td>\n",
       "      <td>F</td>\n",
       "      <td>15</td>\n",
       "      <td>U</td>\n",
       "      <td>LE3</td>\n",
       "      <td>T</td>\n",
       "      <td>primary education (4th grade)</td>\n",
       "      <td>primary education (4th grade)</td>\n",
       "      <td>at_home</td>\n",
       "      <td>...</td>\n",
       "      <td>very good</td>\n",
       "      <td>medium</td>\n",
       "      <td>low</td>\n",
       "      <td>low</td>\n",
       "      <td>medium</td>\n",
       "      <td>good</td>\n",
       "      <td>10</td>\n",
       "      <td>7</td>\n",
       "      <td>8</td>\n",
       "      <td>10</td>\n",
       "    </tr>\n",
       "    <tr>\n",
       "      <th>3</th>\n",
       "      <td>GP</td>\n",
       "      <td>GP4</td>\n",
       "      <td>F</td>\n",
       "      <td>15</td>\n",
       "      <td>U</td>\n",
       "      <td>GT3</td>\n",
       "      <td>T</td>\n",
       "      <td>higher education</td>\n",
       "      <td>5th to 9th grade</td>\n",
       "      <td>health</td>\n",
       "      <td>...</td>\n",
       "      <td>good</td>\n",
       "      <td>low</td>\n",
       "      <td>low</td>\n",
       "      <td>very low</td>\n",
       "      <td>very low</td>\n",
       "      <td>excellent</td>\n",
       "      <td>2</td>\n",
       "      <td>15</td>\n",
       "      <td>14</td>\n",
       "      <td>15</td>\n",
       "    </tr>\n",
       "    <tr>\n",
       "      <th>4</th>\n",
       "      <td>GP</td>\n",
       "      <td>GP5</td>\n",
       "      <td>F</td>\n",
       "      <td>16</td>\n",
       "      <td>U</td>\n",
       "      <td>GT3</td>\n",
       "      <td>T</td>\n",
       "      <td>secondary education</td>\n",
       "      <td>secondary education</td>\n",
       "      <td>other</td>\n",
       "      <td>...</td>\n",
       "      <td>very good</td>\n",
       "      <td>medium</td>\n",
       "      <td>low</td>\n",
       "      <td>very low</td>\n",
       "      <td>low</td>\n",
       "      <td>excellent</td>\n",
       "      <td>4</td>\n",
       "      <td>6</td>\n",
       "      <td>10</td>\n",
       "      <td>10</td>\n",
       "    </tr>\n",
       "    <tr>\n",
       "      <th>...</th>\n",
       "      <td>...</td>\n",
       "      <td>...</td>\n",
       "      <td>...</td>\n",
       "      <td>...</td>\n",
       "      <td>...</td>\n",
       "      <td>...</td>\n",
       "      <td>...</td>\n",
       "      <td>...</td>\n",
       "      <td>...</td>\n",
       "      <td>...</td>\n",
       "      <td>...</td>\n",
       "      <td>...</td>\n",
       "      <td>...</td>\n",
       "      <td>...</td>\n",
       "      <td>...</td>\n",
       "      <td>...</td>\n",
       "      <td>...</td>\n",
       "      <td>...</td>\n",
       "      <td>...</td>\n",
       "      <td>...</td>\n",
       "      <td>...</td>\n",
       "    </tr>\n",
       "    <tr>\n",
       "      <th>41</th>\n",
       "      <td>MS</td>\n",
       "      <td>MS42</td>\n",
       "      <td>M</td>\n",
       "      <td>20</td>\n",
       "      <td>U</td>\n",
       "      <td>LE3</td>\n",
       "      <td>A</td>\n",
       "      <td>5th to 9th grade</td>\n",
       "      <td>5th to 9th grade</td>\n",
       "      <td>services</td>\n",
       "      <td>...</td>\n",
       "      <td>excellent</td>\n",
       "      <td>very high</td>\n",
       "      <td>high</td>\n",
       "      <td>high</td>\n",
       "      <td>very high</td>\n",
       "      <td>very good</td>\n",
       "      <td>11</td>\n",
       "      <td>9</td>\n",
       "      <td>9</td>\n",
       "      <td>9</td>\n",
       "    </tr>\n",
       "    <tr>\n",
       "      <th>42</th>\n",
       "      <td>MS</td>\n",
       "      <td>MS43</td>\n",
       "      <td>M</td>\n",
       "      <td>17</td>\n",
       "      <td>U</td>\n",
       "      <td>LE3</td>\n",
       "      <td>T</td>\n",
       "      <td>secondary education</td>\n",
       "      <td>primary education (4th grade)</td>\n",
       "      <td>services</td>\n",
       "      <td>...</td>\n",
       "      <td>bad</td>\n",
       "      <td>high</td>\n",
       "      <td>very high</td>\n",
       "      <td>medium</td>\n",
       "      <td>high</td>\n",
       "      <td>bad</td>\n",
       "      <td>3</td>\n",
       "      <td>14</td>\n",
       "      <td>16</td>\n",
       "      <td>16</td>\n",
       "    </tr>\n",
       "    <tr>\n",
       "      <th>43</th>\n",
       "      <td>MS</td>\n",
       "      <td>MS44</td>\n",
       "      <td>M</td>\n",
       "      <td>21</td>\n",
       "      <td>R</td>\n",
       "      <td>GT3</td>\n",
       "      <td>T</td>\n",
       "      <td>primary education (4th grade)</td>\n",
       "      <td>primary education (4th grade)</td>\n",
       "      <td>other</td>\n",
       "      <td>...</td>\n",
       "      <td>excellent</td>\n",
       "      <td>very high</td>\n",
       "      <td>medium</td>\n",
       "      <td>medium</td>\n",
       "      <td>medium</td>\n",
       "      <td>good</td>\n",
       "      <td>3</td>\n",
       "      <td>10</td>\n",
       "      <td>8</td>\n",
       "      <td>7</td>\n",
       "    </tr>\n",
       "    <tr>\n",
       "      <th>44</th>\n",
       "      <td>MS</td>\n",
       "      <td>MS45</td>\n",
       "      <td>M</td>\n",
       "      <td>18</td>\n",
       "      <td>R</td>\n",
       "      <td>LE3</td>\n",
       "      <td>T</td>\n",
       "      <td>secondary education</td>\n",
       "      <td>5th to 9th grade</td>\n",
       "      <td>services</td>\n",
       "      <td>...</td>\n",
       "      <td>very good</td>\n",
       "      <td>high</td>\n",
       "      <td>very low</td>\n",
       "      <td>medium</td>\n",
       "      <td>high</td>\n",
       "      <td>excellent</td>\n",
       "      <td>0</td>\n",
       "      <td>11</td>\n",
       "      <td>12</td>\n",
       "      <td>10</td>\n",
       "    </tr>\n",
       "    <tr>\n",
       "      <th>45</th>\n",
       "      <td>MS</td>\n",
       "      <td>MS46</td>\n",
       "      <td>M</td>\n",
       "      <td>19</td>\n",
       "      <td>U</td>\n",
       "      <td>LE3</td>\n",
       "      <td>T</td>\n",
       "      <td>primary education (4th grade)</td>\n",
       "      <td>primary education (4th grade)</td>\n",
       "      <td>other</td>\n",
       "      <td>...</td>\n",
       "      <td>good</td>\n",
       "      <td>low</td>\n",
       "      <td>medium</td>\n",
       "      <td>medium</td>\n",
       "      <td>medium</td>\n",
       "      <td>excellent</td>\n",
       "      <td>5</td>\n",
       "      <td>8</td>\n",
       "      <td>9</td>\n",
       "      <td>9</td>\n",
       "    </tr>\n",
       "  </tbody>\n",
       "</table>\n",
       "<p>395 rows × 34 columns</p>\n",
       "</div>"
      ],
      "text/plain": [
       "   school studentID sex  age address famsize Pstatus  \\\n",
       "0      GP       GP1   F   18       U     GT3       A   \n",
       "1      GP       GP2   F   17       U     GT3       T   \n",
       "2      GP       GP3   F   15       U     LE3       T   \n",
       "3      GP       GP4   F   15       U     GT3       T   \n",
       "4      GP       GP5   F   16       U     GT3       T   \n",
       "..    ...       ...  ..  ...     ...     ...     ...   \n",
       "41     MS      MS42   M   20       U     LE3       A   \n",
       "42     MS      MS43   M   17       U     LE3       T   \n",
       "43     MS      MS44   M   21       R     GT3       T   \n",
       "44     MS      MS45   M   18       R     LE3       T   \n",
       "45     MS      MS46   M   19       U     LE3       T   \n",
       "\n",
       "                             Medu                           Fedu      Mjob  \\\n",
       "0                higher education               higher education   at_home   \n",
       "1   primary education (4th grade)  primary education (4th grade)   at_home   \n",
       "2   primary education (4th grade)  primary education (4th grade)   at_home   \n",
       "3                higher education               5th to 9th grade    health   \n",
       "4             secondary education            secondary education     other   \n",
       "..                            ...                            ...       ...   \n",
       "41               5th to 9th grade               5th to 9th grade  services   \n",
       "42            secondary education  primary education (4th grade)  services   \n",
       "43  primary education (4th grade)  primary education (4th grade)     other   \n",
       "44            secondary education               5th to 9th grade  services   \n",
       "45  primary education (4th grade)  primary education (4th grade)     other   \n",
       "\n",
       "    ...     famrel   freetime      goout      Dalc       Walc     health  \\\n",
       "0   ...  very good     medium       high  very low   very low       good   \n",
       "1   ...  excellent     medium     medium  very low   very low       good   \n",
       "2   ...  very good     medium        low       low     medium       good   \n",
       "3   ...       good        low        low  very low   very low  excellent   \n",
       "4   ...  very good     medium        low  very low        low  excellent   \n",
       "..  ...        ...        ...        ...       ...        ...        ...   \n",
       "41  ...  excellent  very high       high      high  very high  very good   \n",
       "42  ...        bad       high  very high    medium       high        bad   \n",
       "43  ...  excellent  very high     medium    medium     medium       good   \n",
       "44  ...  very good       high   very low    medium       high  excellent   \n",
       "45  ...       good        low     medium    medium     medium  excellent   \n",
       "\n",
       "   absences  G1  G2  G3  \n",
       "0         6   5   6   6  \n",
       "1         4   5   5   6  \n",
       "2        10   7   8  10  \n",
       "3         2  15  14  15  \n",
       "4         4   6  10  10  \n",
       "..      ...  ..  ..  ..  \n",
       "41       11   9   9   9  \n",
       "42        3  14  16  16  \n",
       "43        3  10   8   7  \n",
       "44        0  11  12  10  \n",
       "45        5   8   9   9  \n",
       "\n",
       "[395 rows x 34 columns]"
      ]
     },
     "execution_count": 10,
     "metadata": {},
     "output_type": "execute_result"
    }
   ],
   "source": [
    "#Combining all data sets into one\n",
    "data = pd.concat([gp_student_marks_info, ms_student_marks_info])\n",
    "data"
   ]
  },
  {
   "cell_type": "code",
   "execution_count": 11,
   "metadata": {},
   "outputs": [
    {
     "data": {
      "text/plain": [
       "4114"
      ]
     },
     "execution_count": 11,
     "metadata": {},
     "output_type": "execute_result"
    }
   ],
   "source": [
    "#Sum of the last column (G3)\n",
    "data[\"G3\"].sum()"
   ]
  },
  {
   "cell_type": "markdown",
   "metadata": {},
   "source": [
    "# Task 2: Data Understanding"
   ]
  },
  {
   "cell_type": "code",
   "execution_count": 12,
   "metadata": {},
   "outputs": [
    {
     "name": "stdout",
     "output_type": "stream",
     "text": [
      "<class 'pandas.core.frame.DataFrame'>\n",
      "Int64Index: 395 entries, 0 to 45\n",
      "Data columns (total 34 columns):\n",
      " #   Column      Non-Null Count  Dtype \n",
      "---  ------      --------------  ----- \n",
      " 0   school      395 non-null    object\n",
      " 1   studentID   395 non-null    object\n",
      " 2   sex         395 non-null    object\n",
      " 3   age         395 non-null    int64 \n",
      " 4   address     395 non-null    object\n",
      " 5   famsize     395 non-null    object\n",
      " 6   Pstatus     395 non-null    object\n",
      " 7   Medu        395 non-null    object\n",
      " 8   Fedu        395 non-null    object\n",
      " 9   Mjob        395 non-null    object\n",
      " 10  Fjob        395 non-null    object\n",
      " 11  reason      395 non-null    object\n",
      " 12  guardian    395 non-null    object\n",
      " 13  traveltime  395 non-null    object\n",
      " 14  studytime   395 non-null    object\n",
      " 15  failures    395 non-null    int64 \n",
      " 16  schoolsup   395 non-null    object\n",
      " 17  famsup      395 non-null    object\n",
      " 18  paid        395 non-null    object\n",
      " 19  activities  395 non-null    object\n",
      " 20  nursery     395 non-null    object\n",
      " 21  higher      395 non-null    object\n",
      " 22  internet    395 non-null    object\n",
      " 23  romantic    395 non-null    object\n",
      " 24  famrel      395 non-null    object\n",
      " 25  freetime    395 non-null    object\n",
      " 26  goout       395 non-null    object\n",
      " 27  Dalc        395 non-null    object\n",
      " 28  Walc        395 non-null    object\n",
      " 29  health      395 non-null    object\n",
      " 30  absences    395 non-null    int64 \n",
      " 31  G1          395 non-null    int64 \n",
      " 32  G2          395 non-null    int64 \n",
      " 33  G3          395 non-null    int64 \n",
      "dtypes: int64(6), object(28)\n",
      "memory usage: 108.0+ KB\n"
     ]
    }
   ],
   "source": [
    "data.info()"
   ]
  },
  {
   "cell_type": "markdown",
   "metadata": {},
   "source": [
    "# Task 3: Data Transformation\n",
    "### a) school, sex, address, famsize, Pstatus, schoolsup, famsup, paid, activities,  nursery, higher, internet and romantic into binary; 0 or 1 (create new columns without overwriting the existing ones) (1+1+1+1+1+1+1+1+1+1+1+1+1 = 13 marks)\n",
    "\n",
    "##### i) converting school variables into 0 or 1 and adding values to the new school_native column."
   ]
  },
  {
   "cell_type": "code",
   "execution_count": 13,
   "metadata": {},
   "outputs": [
    {
     "data": {
      "text/plain": [
       "array(['GP', 'MS'], dtype=object)"
      ]
     },
     "execution_count": 13,
     "metadata": {},
     "output_type": "execute_result"
    }
   ],
   "source": [
    "data_school = data[\"school\"].unique() # sorting out the unique elements of school column\n",
    "data_school # displaying the unique element of school column"
   ]
  },
  {
   "cell_type": "code",
   "execution_count": 14,
   "metadata": {},
   "outputs": [
    {
     "data": {
      "text/plain": [
       "{'GP': 0, 'MS': 1}"
      ]
     },
     "execution_count": 14,
     "metadata": {},
     "output_type": "execute_result"
    }
   ],
   "source": [
    "school_dict = dict(zip(data_school,range(len(data_school)))) # assigning the unique elements with binary values to school elements\n",
    "school_dict # displaying assigned (0 and 1) binary value output "
   ]
  },
  {
   "cell_type": "code",
   "execution_count": 15,
   "metadata": {},
   "outputs": [
    {
     "data": {
      "text/html": [
       "<div>\n",
       "<style scoped>\n",
       "    .dataframe tbody tr th:only-of-type {\n",
       "        vertical-align: middle;\n",
       "    }\n",
       "\n",
       "    .dataframe tbody tr th {\n",
       "        vertical-align: top;\n",
       "    }\n",
       "\n",
       "    .dataframe thead th {\n",
       "        text-align: right;\n",
       "    }\n",
       "</style>\n",
       "<table border=\"1\" class=\"dataframe\">\n",
       "  <thead>\n",
       "    <tr style=\"text-align: right;\">\n",
       "      <th></th>\n",
       "      <th>school</th>\n",
       "      <th>school_native</th>\n",
       "    </tr>\n",
       "  </thead>\n",
       "  <tbody>\n",
       "    <tr>\n",
       "      <th>0</th>\n",
       "      <td>GP</td>\n",
       "      <td>0</td>\n",
       "    </tr>\n",
       "    <tr>\n",
       "      <th>1</th>\n",
       "      <td>GP</td>\n",
       "      <td>0</td>\n",
       "    </tr>\n",
       "    <tr>\n",
       "      <th>2</th>\n",
       "      <td>GP</td>\n",
       "      <td>0</td>\n",
       "    </tr>\n",
       "    <tr>\n",
       "      <th>3</th>\n",
       "      <td>GP</td>\n",
       "      <td>0</td>\n",
       "    </tr>\n",
       "    <tr>\n",
       "      <th>4</th>\n",
       "      <td>GP</td>\n",
       "      <td>0</td>\n",
       "    </tr>\n",
       "    <tr>\n",
       "      <th>...</th>\n",
       "      <td>...</td>\n",
       "      <td>...</td>\n",
       "    </tr>\n",
       "    <tr>\n",
       "      <th>41</th>\n",
       "      <td>MS</td>\n",
       "      <td>1</td>\n",
       "    </tr>\n",
       "    <tr>\n",
       "      <th>42</th>\n",
       "      <td>MS</td>\n",
       "      <td>1</td>\n",
       "    </tr>\n",
       "    <tr>\n",
       "      <th>43</th>\n",
       "      <td>MS</td>\n",
       "      <td>1</td>\n",
       "    </tr>\n",
       "    <tr>\n",
       "      <th>44</th>\n",
       "      <td>MS</td>\n",
       "      <td>1</td>\n",
       "    </tr>\n",
       "    <tr>\n",
       "      <th>45</th>\n",
       "      <td>MS</td>\n",
       "      <td>1</td>\n",
       "    </tr>\n",
       "  </tbody>\n",
       "</table>\n",
       "<p>395 rows × 2 columns</p>\n",
       "</div>"
      ],
      "text/plain": [
       "   school  school_native\n",
       "0      GP              0\n",
       "1      GP              0\n",
       "2      GP              0\n",
       "3      GP              0\n",
       "4      GP              0\n",
       "..    ...            ...\n",
       "41     MS              1\n",
       "42     MS              1\n",
       "43     MS              1\n",
       "44     MS              1\n",
       "45     MS              1\n",
       "\n",
       "[395 rows x 2 columns]"
      ]
     },
     "execution_count": 15,
     "metadata": {},
     "output_type": "execute_result"
    }
   ],
   "source": [
    "data[\"school_native\"] = data['school'].apply(lambda x:school_dict[x]) # adding a new column and assigning binary values (0 & 1) respectively\n",
    "data[[\"school\",\"school_native\"]] # output of the school and newly added (school_native) columns "
   ]
  },
  {
   "cell_type": "markdown",
   "metadata": {},
   "source": [
    "##### ii) converting sex variables into 0 or 1 and adding values to the new school_native column."
   ]
  },
  {
   "cell_type": "code",
   "execution_count": 16,
   "metadata": {},
   "outputs": [
    {
     "data": {
      "text/plain": [
       "array(['F', 'M'], dtype=object)"
      ]
     },
     "execution_count": 16,
     "metadata": {},
     "output_type": "execute_result"
    }
   ],
   "source": [
    "data_sex = data[\"sex\"].unique() # sorting out the unique elements of sex column\n",
    "data_sex # displaying the unique element of sex column"
   ]
  },
  {
   "cell_type": "code",
   "execution_count": 17,
   "metadata": {},
   "outputs": [
    {
     "data": {
      "text/plain": [
       "{'F': 0, 'M': 1}"
      ]
     },
     "execution_count": 17,
     "metadata": {},
     "output_type": "execute_result"
    }
   ],
   "source": [
    "sex_dict = dict(zip(data_sex,range(len(data_sex))))# assigning the unique elements with binary values to sex elements\n",
    "sex_dict # displaying assigned (0 and 1) binary value output "
   ]
  },
  {
   "cell_type": "code",
   "execution_count": 18,
   "metadata": {},
   "outputs": [
    {
     "data": {
      "text/html": [
       "<div>\n",
       "<style scoped>\n",
       "    .dataframe tbody tr th:only-of-type {\n",
       "        vertical-align: middle;\n",
       "    }\n",
       "\n",
       "    .dataframe tbody tr th {\n",
       "        vertical-align: top;\n",
       "    }\n",
       "\n",
       "    .dataframe thead th {\n",
       "        text-align: right;\n",
       "    }\n",
       "</style>\n",
       "<table border=\"1\" class=\"dataframe\">\n",
       "  <thead>\n",
       "    <tr style=\"text-align: right;\">\n",
       "      <th></th>\n",
       "      <th>sex</th>\n",
       "      <th>sex_native</th>\n",
       "    </tr>\n",
       "  </thead>\n",
       "  <tbody>\n",
       "    <tr>\n",
       "      <th>0</th>\n",
       "      <td>F</td>\n",
       "      <td>0</td>\n",
       "    </tr>\n",
       "    <tr>\n",
       "      <th>1</th>\n",
       "      <td>F</td>\n",
       "      <td>0</td>\n",
       "    </tr>\n",
       "    <tr>\n",
       "      <th>2</th>\n",
       "      <td>F</td>\n",
       "      <td>0</td>\n",
       "    </tr>\n",
       "    <tr>\n",
       "      <th>3</th>\n",
       "      <td>F</td>\n",
       "      <td>0</td>\n",
       "    </tr>\n",
       "    <tr>\n",
       "      <th>4</th>\n",
       "      <td>F</td>\n",
       "      <td>0</td>\n",
       "    </tr>\n",
       "    <tr>\n",
       "      <th>...</th>\n",
       "      <td>...</td>\n",
       "      <td>...</td>\n",
       "    </tr>\n",
       "    <tr>\n",
       "      <th>41</th>\n",
       "      <td>M</td>\n",
       "      <td>1</td>\n",
       "    </tr>\n",
       "    <tr>\n",
       "      <th>42</th>\n",
       "      <td>M</td>\n",
       "      <td>1</td>\n",
       "    </tr>\n",
       "    <tr>\n",
       "      <th>43</th>\n",
       "      <td>M</td>\n",
       "      <td>1</td>\n",
       "    </tr>\n",
       "    <tr>\n",
       "      <th>44</th>\n",
       "      <td>M</td>\n",
       "      <td>1</td>\n",
       "    </tr>\n",
       "    <tr>\n",
       "      <th>45</th>\n",
       "      <td>M</td>\n",
       "      <td>1</td>\n",
       "    </tr>\n",
       "  </tbody>\n",
       "</table>\n",
       "<p>395 rows × 2 columns</p>\n",
       "</div>"
      ],
      "text/plain": [
       "   sex  sex_native\n",
       "0    F           0\n",
       "1    F           0\n",
       "2    F           0\n",
       "3    F           0\n",
       "4    F           0\n",
       "..  ..         ...\n",
       "41   M           1\n",
       "42   M           1\n",
       "43   M           1\n",
       "44   M           1\n",
       "45   M           1\n",
       "\n",
       "[395 rows x 2 columns]"
      ]
     },
     "execution_count": 18,
     "metadata": {},
     "output_type": "execute_result"
    }
   ],
   "source": [
    "data[\"sex_native\"] = data[\"sex\"].apply(lambda x:sex_dict[x]) # adding a new column and assigning binary values (0 & 1) respectively\n",
    "data[[\"sex\",\"sex_native\"]] # output of the sex and newly added (sex_native) columns "
   ]
  },
  {
   "cell_type": "markdown",
   "metadata": {},
   "source": [
    "##### iii) converting address variables into 0 or 1 and adding values to the new school_native column."
   ]
  },
  {
   "cell_type": "code",
   "execution_count": 19,
   "metadata": {},
   "outputs": [
    {
     "data": {
      "text/plain": [
       "array(['U', 'R'], dtype=object)"
      ]
     },
     "execution_count": 19,
     "metadata": {},
     "output_type": "execute_result"
    }
   ],
   "source": [
    "data_address = data[\"address\"].unique() # sorting out the unique elements of address column\n",
    "data_address # displaying the unique element of address column"
   ]
  },
  {
   "cell_type": "code",
   "execution_count": 20,
   "metadata": {},
   "outputs": [
    {
     "data": {
      "text/plain": [
       "{'U': 0, 'R': 1}"
      ]
     },
     "execution_count": 20,
     "metadata": {},
     "output_type": "execute_result"
    }
   ],
   "source": [
    "address_dict = dict(zip(data_address,range(len(data_address))))# assigning the unique elements with binary values to address elements\n",
    "address_dict # displaying assigned (0 and 1) binary value output "
   ]
  },
  {
   "cell_type": "code",
   "execution_count": 21,
   "metadata": {},
   "outputs": [
    {
     "data": {
      "text/html": [
       "<div>\n",
       "<style scoped>\n",
       "    .dataframe tbody tr th:only-of-type {\n",
       "        vertical-align: middle;\n",
       "    }\n",
       "\n",
       "    .dataframe tbody tr th {\n",
       "        vertical-align: top;\n",
       "    }\n",
       "\n",
       "    .dataframe thead th {\n",
       "        text-align: right;\n",
       "    }\n",
       "</style>\n",
       "<table border=\"1\" class=\"dataframe\">\n",
       "  <thead>\n",
       "    <tr style=\"text-align: right;\">\n",
       "      <th></th>\n",
       "      <th>address</th>\n",
       "      <th>address_native</th>\n",
       "    </tr>\n",
       "  </thead>\n",
       "  <tbody>\n",
       "    <tr>\n",
       "      <th>0</th>\n",
       "      <td>U</td>\n",
       "      <td>0</td>\n",
       "    </tr>\n",
       "    <tr>\n",
       "      <th>1</th>\n",
       "      <td>U</td>\n",
       "      <td>0</td>\n",
       "    </tr>\n",
       "    <tr>\n",
       "      <th>2</th>\n",
       "      <td>U</td>\n",
       "      <td>0</td>\n",
       "    </tr>\n",
       "    <tr>\n",
       "      <th>3</th>\n",
       "      <td>U</td>\n",
       "      <td>0</td>\n",
       "    </tr>\n",
       "    <tr>\n",
       "      <th>4</th>\n",
       "      <td>U</td>\n",
       "      <td>0</td>\n",
       "    </tr>\n",
       "    <tr>\n",
       "      <th>...</th>\n",
       "      <td>...</td>\n",
       "      <td>...</td>\n",
       "    </tr>\n",
       "    <tr>\n",
       "      <th>41</th>\n",
       "      <td>U</td>\n",
       "      <td>0</td>\n",
       "    </tr>\n",
       "    <tr>\n",
       "      <th>42</th>\n",
       "      <td>U</td>\n",
       "      <td>0</td>\n",
       "    </tr>\n",
       "    <tr>\n",
       "      <th>43</th>\n",
       "      <td>R</td>\n",
       "      <td>1</td>\n",
       "    </tr>\n",
       "    <tr>\n",
       "      <th>44</th>\n",
       "      <td>R</td>\n",
       "      <td>1</td>\n",
       "    </tr>\n",
       "    <tr>\n",
       "      <th>45</th>\n",
       "      <td>U</td>\n",
       "      <td>0</td>\n",
       "    </tr>\n",
       "  </tbody>\n",
       "</table>\n",
       "<p>395 rows × 2 columns</p>\n",
       "</div>"
      ],
      "text/plain": [
       "   address  address_native\n",
       "0        U               0\n",
       "1        U               0\n",
       "2        U               0\n",
       "3        U               0\n",
       "4        U               0\n",
       "..     ...             ...\n",
       "41       U               0\n",
       "42       U               0\n",
       "43       R               1\n",
       "44       R               1\n",
       "45       U               0\n",
       "\n",
       "[395 rows x 2 columns]"
      ]
     },
     "execution_count": 21,
     "metadata": {},
     "output_type": "execute_result"
    }
   ],
   "source": [
    "data[\"address_native\"] = data[\"address\"].apply(lambda x: address_dict[x]) # adding a new column and assigning binary values (0 & 1) respectively\n",
    "data[[\"address\",\"address_native\"]] # output of the address and newly added (address_native) columns "
   ]
  },
  {
   "cell_type": "markdown",
   "metadata": {},
   "source": [
    "##### iv) converting famsize variables into 0 or 1 and adding values to the new school_native column."
   ]
  },
  {
   "cell_type": "code",
   "execution_count": 22,
   "metadata": {},
   "outputs": [
    {
     "data": {
      "text/plain": [
       "array(['GT3', 'LE3'], dtype=object)"
      ]
     },
     "execution_count": 22,
     "metadata": {},
     "output_type": "execute_result"
    }
   ],
   "source": [
    "data_famsize = data[\"famsize\"].unique() # sorting out the unique elements of famsize column\n",
    "data_famsize # displaying the unique element of famsize column"
   ]
  },
  {
   "cell_type": "code",
   "execution_count": 23,
   "metadata": {},
   "outputs": [
    {
     "data": {
      "text/plain": [
       "{'GT3': 0, 'LE3': 1}"
      ]
     },
     "execution_count": 23,
     "metadata": {},
     "output_type": "execute_result"
    }
   ],
   "source": [
    "famsize_dict = dict(zip(data_famsize,range(len(data_famsize)))) # assigning the unique elements with binary values to famsize elements\n",
    "famsize_dict # displaying assigned (0 and 1) binary value output "
   ]
  },
  {
   "cell_type": "code",
   "execution_count": 24,
   "metadata": {},
   "outputs": [
    {
     "data": {
      "text/html": [
       "<div>\n",
       "<style scoped>\n",
       "    .dataframe tbody tr th:only-of-type {\n",
       "        vertical-align: middle;\n",
       "    }\n",
       "\n",
       "    .dataframe tbody tr th {\n",
       "        vertical-align: top;\n",
       "    }\n",
       "\n",
       "    .dataframe thead th {\n",
       "        text-align: right;\n",
       "    }\n",
       "</style>\n",
       "<table border=\"1\" class=\"dataframe\">\n",
       "  <thead>\n",
       "    <tr style=\"text-align: right;\">\n",
       "      <th></th>\n",
       "      <th>famsize</th>\n",
       "      <th>famsize_native</th>\n",
       "    </tr>\n",
       "  </thead>\n",
       "  <tbody>\n",
       "    <tr>\n",
       "      <th>0</th>\n",
       "      <td>GT3</td>\n",
       "      <td>0</td>\n",
       "    </tr>\n",
       "    <tr>\n",
       "      <th>1</th>\n",
       "      <td>GT3</td>\n",
       "      <td>0</td>\n",
       "    </tr>\n",
       "    <tr>\n",
       "      <th>2</th>\n",
       "      <td>LE3</td>\n",
       "      <td>1</td>\n",
       "    </tr>\n",
       "    <tr>\n",
       "      <th>3</th>\n",
       "      <td>GT3</td>\n",
       "      <td>0</td>\n",
       "    </tr>\n",
       "    <tr>\n",
       "      <th>4</th>\n",
       "      <td>GT3</td>\n",
       "      <td>0</td>\n",
       "    </tr>\n",
       "    <tr>\n",
       "      <th>...</th>\n",
       "      <td>...</td>\n",
       "      <td>...</td>\n",
       "    </tr>\n",
       "    <tr>\n",
       "      <th>41</th>\n",
       "      <td>LE3</td>\n",
       "      <td>1</td>\n",
       "    </tr>\n",
       "    <tr>\n",
       "      <th>42</th>\n",
       "      <td>LE3</td>\n",
       "      <td>1</td>\n",
       "    </tr>\n",
       "    <tr>\n",
       "      <th>43</th>\n",
       "      <td>GT3</td>\n",
       "      <td>0</td>\n",
       "    </tr>\n",
       "    <tr>\n",
       "      <th>44</th>\n",
       "      <td>LE3</td>\n",
       "      <td>1</td>\n",
       "    </tr>\n",
       "    <tr>\n",
       "      <th>45</th>\n",
       "      <td>LE3</td>\n",
       "      <td>1</td>\n",
       "    </tr>\n",
       "  </tbody>\n",
       "</table>\n",
       "<p>395 rows × 2 columns</p>\n",
       "</div>"
      ],
      "text/plain": [
       "   famsize  famsize_native\n",
       "0      GT3               0\n",
       "1      GT3               0\n",
       "2      LE3               1\n",
       "3      GT3               0\n",
       "4      GT3               0\n",
       "..     ...             ...\n",
       "41     LE3               1\n",
       "42     LE3               1\n",
       "43     GT3               0\n",
       "44     LE3               1\n",
       "45     LE3               1\n",
       "\n",
       "[395 rows x 2 columns]"
      ]
     },
     "execution_count": 24,
     "metadata": {},
     "output_type": "execute_result"
    }
   ],
   "source": [
    "data[\"famsize_native\"] = data[\"famsize\"].apply(lambda x: famsize_dict[x]) # adding a new column and assigning binary values (0 & 1) respectively\n",
    "data[[\"famsize\",\"famsize_native\"]] # output of the famsize and newly added (famsize_native) columns "
   ]
  },
  {
   "cell_type": "markdown",
   "metadata": {},
   "source": [
    "##### v) converting Pstatus variables into 0 or 1 and adding values to the new school_native column."
   ]
  },
  {
   "cell_type": "code",
   "execution_count": 25,
   "metadata": {},
   "outputs": [
    {
     "data": {
      "text/plain": [
       "array(['A', 'T'], dtype=object)"
      ]
     },
     "execution_count": 25,
     "metadata": {},
     "output_type": "execute_result"
    }
   ],
   "source": [
    "data_Pstatus = data[\"Pstatus\"].unique() # sorting out the unique elements of Pstatus column\n",
    "data_Pstatus # displaying the unique element of Pstatus column"
   ]
  },
  {
   "cell_type": "code",
   "execution_count": 26,
   "metadata": {},
   "outputs": [
    {
     "data": {
      "text/plain": [
       "{'A': 0, 'T': 1}"
      ]
     },
     "execution_count": 26,
     "metadata": {},
     "output_type": "execute_result"
    }
   ],
   "source": [
    "Pstatus_dict = dict(zip(data_Pstatus,range(len(data_Pstatus)))) # assigning the unique elements with binary values to Pstatus elements\n",
    "Pstatus_dict # displaying assigned (0 and 1) binary value output "
   ]
  },
  {
   "cell_type": "code",
   "execution_count": 27,
   "metadata": {},
   "outputs": [
    {
     "data": {
      "text/html": [
       "<div>\n",
       "<style scoped>\n",
       "    .dataframe tbody tr th:only-of-type {\n",
       "        vertical-align: middle;\n",
       "    }\n",
       "\n",
       "    .dataframe tbody tr th {\n",
       "        vertical-align: top;\n",
       "    }\n",
       "\n",
       "    .dataframe thead th {\n",
       "        text-align: right;\n",
       "    }\n",
       "</style>\n",
       "<table border=\"1\" class=\"dataframe\">\n",
       "  <thead>\n",
       "    <tr style=\"text-align: right;\">\n",
       "      <th></th>\n",
       "      <th>Pstatus</th>\n",
       "      <th>Pstatus_native</th>\n",
       "    </tr>\n",
       "  </thead>\n",
       "  <tbody>\n",
       "    <tr>\n",
       "      <th>0</th>\n",
       "      <td>A</td>\n",
       "      <td>0</td>\n",
       "    </tr>\n",
       "    <tr>\n",
       "      <th>1</th>\n",
       "      <td>T</td>\n",
       "      <td>1</td>\n",
       "    </tr>\n",
       "    <tr>\n",
       "      <th>2</th>\n",
       "      <td>T</td>\n",
       "      <td>1</td>\n",
       "    </tr>\n",
       "    <tr>\n",
       "      <th>3</th>\n",
       "      <td>T</td>\n",
       "      <td>1</td>\n",
       "    </tr>\n",
       "    <tr>\n",
       "      <th>4</th>\n",
       "      <td>T</td>\n",
       "      <td>1</td>\n",
       "    </tr>\n",
       "    <tr>\n",
       "      <th>...</th>\n",
       "      <td>...</td>\n",
       "      <td>...</td>\n",
       "    </tr>\n",
       "    <tr>\n",
       "      <th>41</th>\n",
       "      <td>A</td>\n",
       "      <td>0</td>\n",
       "    </tr>\n",
       "    <tr>\n",
       "      <th>42</th>\n",
       "      <td>T</td>\n",
       "      <td>1</td>\n",
       "    </tr>\n",
       "    <tr>\n",
       "      <th>43</th>\n",
       "      <td>T</td>\n",
       "      <td>1</td>\n",
       "    </tr>\n",
       "    <tr>\n",
       "      <th>44</th>\n",
       "      <td>T</td>\n",
       "      <td>1</td>\n",
       "    </tr>\n",
       "    <tr>\n",
       "      <th>45</th>\n",
       "      <td>T</td>\n",
       "      <td>1</td>\n",
       "    </tr>\n",
       "  </tbody>\n",
       "</table>\n",
       "<p>395 rows × 2 columns</p>\n",
       "</div>"
      ],
      "text/plain": [
       "   Pstatus  Pstatus_native\n",
       "0        A               0\n",
       "1        T               1\n",
       "2        T               1\n",
       "3        T               1\n",
       "4        T               1\n",
       "..     ...             ...\n",
       "41       A               0\n",
       "42       T               1\n",
       "43       T               1\n",
       "44       T               1\n",
       "45       T               1\n",
       "\n",
       "[395 rows x 2 columns]"
      ]
     },
     "execution_count": 27,
     "metadata": {},
     "output_type": "execute_result"
    }
   ],
   "source": [
    "data[\"Pstatus_native\"] = data[\"Pstatus\"].apply(lambda x: Pstatus_dict[x]) # adding a new column and assigning binary values (0 & 1) respectively\n",
    "data[[\"Pstatus\",\"Pstatus_native\"]] # output of the Pstatus and newly added (Pstatus_native) columns "
   ]
  },
  {
   "cell_type": "markdown",
   "metadata": {},
   "source": [
    "##### vi) converting schoolsup variables into 0 or 1 and adding values to the new school_native column."
   ]
  },
  {
   "cell_type": "code",
   "execution_count": 28,
   "metadata": {},
   "outputs": [
    {
     "data": {
      "text/plain": [
       "array(['yes', 'no'], dtype=object)"
      ]
     },
     "execution_count": 28,
     "metadata": {},
     "output_type": "execute_result"
    }
   ],
   "source": [
    "data_schoolsup = data[\"schoolsup\"].unique() # sorting out the unique elements of schoolsup column\n",
    "data_schoolsup # displaying the unique element of schoolsup column"
   ]
  },
  {
   "cell_type": "code",
   "execution_count": 29,
   "metadata": {},
   "outputs": [
    {
     "data": {
      "text/plain": [
       "{'yes': 0, 'no': 1}"
      ]
     },
     "execution_count": 29,
     "metadata": {},
     "output_type": "execute_result"
    }
   ],
   "source": [
    "schoolsup_dict = dict(zip(data_schoolsup,range(len(data_schoolsup)))) # assigning the unique elements with binary values to schoolsup elements\n",
    "schoolsup_dict # displaying assigned (0 and 1) binary value output "
   ]
  },
  {
   "cell_type": "code",
   "execution_count": 30,
   "metadata": {},
   "outputs": [
    {
     "data": {
      "text/html": [
       "<div>\n",
       "<style scoped>\n",
       "    .dataframe tbody tr th:only-of-type {\n",
       "        vertical-align: middle;\n",
       "    }\n",
       "\n",
       "    .dataframe tbody tr th {\n",
       "        vertical-align: top;\n",
       "    }\n",
       "\n",
       "    .dataframe thead th {\n",
       "        text-align: right;\n",
       "    }\n",
       "</style>\n",
       "<table border=\"1\" class=\"dataframe\">\n",
       "  <thead>\n",
       "    <tr style=\"text-align: right;\">\n",
       "      <th></th>\n",
       "      <th>schoolsup</th>\n",
       "      <th>schoolsup_native</th>\n",
       "    </tr>\n",
       "  </thead>\n",
       "  <tbody>\n",
       "    <tr>\n",
       "      <th>0</th>\n",
       "      <td>yes</td>\n",
       "      <td>0</td>\n",
       "    </tr>\n",
       "    <tr>\n",
       "      <th>1</th>\n",
       "      <td>no</td>\n",
       "      <td>1</td>\n",
       "    </tr>\n",
       "    <tr>\n",
       "      <th>2</th>\n",
       "      <td>yes</td>\n",
       "      <td>0</td>\n",
       "    </tr>\n",
       "    <tr>\n",
       "      <th>3</th>\n",
       "      <td>no</td>\n",
       "      <td>1</td>\n",
       "    </tr>\n",
       "    <tr>\n",
       "      <th>4</th>\n",
       "      <td>no</td>\n",
       "      <td>1</td>\n",
       "    </tr>\n",
       "    <tr>\n",
       "      <th>...</th>\n",
       "      <td>...</td>\n",
       "      <td>...</td>\n",
       "    </tr>\n",
       "    <tr>\n",
       "      <th>41</th>\n",
       "      <td>no</td>\n",
       "      <td>1</td>\n",
       "    </tr>\n",
       "    <tr>\n",
       "      <th>42</th>\n",
       "      <td>no</td>\n",
       "      <td>1</td>\n",
       "    </tr>\n",
       "    <tr>\n",
       "      <th>43</th>\n",
       "      <td>no</td>\n",
       "      <td>1</td>\n",
       "    </tr>\n",
       "    <tr>\n",
       "      <th>44</th>\n",
       "      <td>no</td>\n",
       "      <td>1</td>\n",
       "    </tr>\n",
       "    <tr>\n",
       "      <th>45</th>\n",
       "      <td>no</td>\n",
       "      <td>1</td>\n",
       "    </tr>\n",
       "  </tbody>\n",
       "</table>\n",
       "<p>395 rows × 2 columns</p>\n",
       "</div>"
      ],
      "text/plain": [
       "   schoolsup  schoolsup_native\n",
       "0        yes                 0\n",
       "1         no                 1\n",
       "2        yes                 0\n",
       "3         no                 1\n",
       "4         no                 1\n",
       "..       ...               ...\n",
       "41        no                 1\n",
       "42        no                 1\n",
       "43        no                 1\n",
       "44        no                 1\n",
       "45        no                 1\n",
       "\n",
       "[395 rows x 2 columns]"
      ]
     },
     "execution_count": 30,
     "metadata": {},
     "output_type": "execute_result"
    }
   ],
   "source": [
    "data[\"schoolsup_native\"] = data[\"schoolsup\"].apply(lambda x: schoolsup_dict[x]) # adding a new column and assigning binary values (0 & 1) respectively\n",
    "data[[\"schoolsup\",\"schoolsup_native\"]] # output of the schoolsup and newly added (schoolsup_native) columns "
   ]
  },
  {
   "cell_type": "markdown",
   "metadata": {},
   "source": [
    "##### vii) converting famsup variables into 0 or 1 and adding values to the new school_native column."
   ]
  },
  {
   "cell_type": "code",
   "execution_count": 31,
   "metadata": {},
   "outputs": [
    {
     "data": {
      "text/plain": [
       "array(['no', 'yes'], dtype=object)"
      ]
     },
     "execution_count": 31,
     "metadata": {},
     "output_type": "execute_result"
    }
   ],
   "source": [
    "data_famsup = data[\"famsup\"].unique() # sorting out the unique elements of famsup column\n",
    "data_famsup # displaying the unique element of famsup column"
   ]
  },
  {
   "cell_type": "code",
   "execution_count": 32,
   "metadata": {},
   "outputs": [
    {
     "data": {
      "text/plain": [
       "{'no': 0, 'yes': 1}"
      ]
     },
     "execution_count": 32,
     "metadata": {},
     "output_type": "execute_result"
    }
   ],
   "source": [
    "famsup_dict = dict(zip(data_famsup,range(len(data_famsup)))) # assigning the unique elements with binary values to famsup elements\n",
    "famsup_dict # displaying assigned (0 and 1) binary value output "
   ]
  },
  {
   "cell_type": "code",
   "execution_count": 33,
   "metadata": {},
   "outputs": [
    {
     "data": {
      "text/html": [
       "<div>\n",
       "<style scoped>\n",
       "    .dataframe tbody tr th:only-of-type {\n",
       "        vertical-align: middle;\n",
       "    }\n",
       "\n",
       "    .dataframe tbody tr th {\n",
       "        vertical-align: top;\n",
       "    }\n",
       "\n",
       "    .dataframe thead th {\n",
       "        text-align: right;\n",
       "    }\n",
       "</style>\n",
       "<table border=\"1\" class=\"dataframe\">\n",
       "  <thead>\n",
       "    <tr style=\"text-align: right;\">\n",
       "      <th></th>\n",
       "      <th>famsup</th>\n",
       "      <th>famsup_native</th>\n",
       "    </tr>\n",
       "  </thead>\n",
       "  <tbody>\n",
       "    <tr>\n",
       "      <th>0</th>\n",
       "      <td>no</td>\n",
       "      <td>0</td>\n",
       "    </tr>\n",
       "    <tr>\n",
       "      <th>1</th>\n",
       "      <td>yes</td>\n",
       "      <td>1</td>\n",
       "    </tr>\n",
       "    <tr>\n",
       "      <th>2</th>\n",
       "      <td>no</td>\n",
       "      <td>0</td>\n",
       "    </tr>\n",
       "    <tr>\n",
       "      <th>3</th>\n",
       "      <td>yes</td>\n",
       "      <td>1</td>\n",
       "    </tr>\n",
       "    <tr>\n",
       "      <th>4</th>\n",
       "      <td>yes</td>\n",
       "      <td>1</td>\n",
       "    </tr>\n",
       "    <tr>\n",
       "      <th>...</th>\n",
       "      <td>...</td>\n",
       "      <td>...</td>\n",
       "    </tr>\n",
       "    <tr>\n",
       "      <th>41</th>\n",
       "      <td>yes</td>\n",
       "      <td>1</td>\n",
       "    </tr>\n",
       "    <tr>\n",
       "      <th>42</th>\n",
       "      <td>no</td>\n",
       "      <td>0</td>\n",
       "    </tr>\n",
       "    <tr>\n",
       "      <th>43</th>\n",
       "      <td>no</td>\n",
       "      <td>0</td>\n",
       "    </tr>\n",
       "    <tr>\n",
       "      <th>44</th>\n",
       "      <td>no</td>\n",
       "      <td>0</td>\n",
       "    </tr>\n",
       "    <tr>\n",
       "      <th>45</th>\n",
       "      <td>no</td>\n",
       "      <td>0</td>\n",
       "    </tr>\n",
       "  </tbody>\n",
       "</table>\n",
       "<p>395 rows × 2 columns</p>\n",
       "</div>"
      ],
      "text/plain": [
       "   famsup  famsup_native\n",
       "0      no              0\n",
       "1     yes              1\n",
       "2      no              0\n",
       "3     yes              1\n",
       "4     yes              1\n",
       "..    ...            ...\n",
       "41    yes              1\n",
       "42     no              0\n",
       "43     no              0\n",
       "44     no              0\n",
       "45     no              0\n",
       "\n",
       "[395 rows x 2 columns]"
      ]
     },
     "execution_count": 33,
     "metadata": {},
     "output_type": "execute_result"
    }
   ],
   "source": [
    "data[\"famsup_native\"] = data[\"famsup\"].apply(lambda x: famsup_dict[x]) # adding a new column and assigning binary values (0 & 1) respectively\n",
    "data[[\"famsup\",\"famsup_native\"]] # output of the famsup and newly added (famsup_native) columns "
   ]
  },
  {
   "cell_type": "markdown",
   "metadata": {},
   "source": [
    "##### viii) converting paid variables into 0 or 1 and adding values to the new school_native column."
   ]
  },
  {
   "cell_type": "code",
   "execution_count": 34,
   "metadata": {},
   "outputs": [
    {
     "data": {
      "text/plain": [
       "array(['no', 'yes'], dtype=object)"
      ]
     },
     "execution_count": 34,
     "metadata": {},
     "output_type": "execute_result"
    }
   ],
   "source": [
    "data_paid = data[\"paid\"].unique() # sorting out the unique elements of paid column\n",
    "data_paid # displaying the unique element of paid column"
   ]
  },
  {
   "cell_type": "code",
   "execution_count": 35,
   "metadata": {},
   "outputs": [
    {
     "data": {
      "text/plain": [
       "{'no': 0, 'yes': 1}"
      ]
     },
     "execution_count": 35,
     "metadata": {},
     "output_type": "execute_result"
    }
   ],
   "source": [
    "paid_dict = dict(zip(data_paid,range(len(data_paid)))) # assigning the unique elements with binary values to paid elements\n",
    "paid_dict # displaying assigned (0 and 1) binary value output "
   ]
  },
  {
   "cell_type": "code",
   "execution_count": 36,
   "metadata": {},
   "outputs": [
    {
     "data": {
      "text/html": [
       "<div>\n",
       "<style scoped>\n",
       "    .dataframe tbody tr th:only-of-type {\n",
       "        vertical-align: middle;\n",
       "    }\n",
       "\n",
       "    .dataframe tbody tr th {\n",
       "        vertical-align: top;\n",
       "    }\n",
       "\n",
       "    .dataframe thead th {\n",
       "        text-align: right;\n",
       "    }\n",
       "</style>\n",
       "<table border=\"1\" class=\"dataframe\">\n",
       "  <thead>\n",
       "    <tr style=\"text-align: right;\">\n",
       "      <th></th>\n",
       "      <th>paid</th>\n",
       "      <th>paid_native</th>\n",
       "    </tr>\n",
       "  </thead>\n",
       "  <tbody>\n",
       "    <tr>\n",
       "      <th>0</th>\n",
       "      <td>no</td>\n",
       "      <td>0</td>\n",
       "    </tr>\n",
       "    <tr>\n",
       "      <th>1</th>\n",
       "      <td>no</td>\n",
       "      <td>0</td>\n",
       "    </tr>\n",
       "    <tr>\n",
       "      <th>2</th>\n",
       "      <td>yes</td>\n",
       "      <td>1</td>\n",
       "    </tr>\n",
       "    <tr>\n",
       "      <th>3</th>\n",
       "      <td>yes</td>\n",
       "      <td>1</td>\n",
       "    </tr>\n",
       "    <tr>\n",
       "      <th>4</th>\n",
       "      <td>yes</td>\n",
       "      <td>1</td>\n",
       "    </tr>\n",
       "    <tr>\n",
       "      <th>...</th>\n",
       "      <td>...</td>\n",
       "      <td>...</td>\n",
       "    </tr>\n",
       "    <tr>\n",
       "      <th>41</th>\n",
       "      <td>yes</td>\n",
       "      <td>1</td>\n",
       "    </tr>\n",
       "    <tr>\n",
       "      <th>42</th>\n",
       "      <td>no</td>\n",
       "      <td>0</td>\n",
       "    </tr>\n",
       "    <tr>\n",
       "      <th>43</th>\n",
       "      <td>no</td>\n",
       "      <td>0</td>\n",
       "    </tr>\n",
       "    <tr>\n",
       "      <th>44</th>\n",
       "      <td>no</td>\n",
       "      <td>0</td>\n",
       "    </tr>\n",
       "    <tr>\n",
       "      <th>45</th>\n",
       "      <td>no</td>\n",
       "      <td>0</td>\n",
       "    </tr>\n",
       "  </tbody>\n",
       "</table>\n",
       "<p>395 rows × 2 columns</p>\n",
       "</div>"
      ],
      "text/plain": [
       "   paid  paid_native\n",
       "0    no            0\n",
       "1    no            0\n",
       "2   yes            1\n",
       "3   yes            1\n",
       "4   yes            1\n",
       "..  ...          ...\n",
       "41  yes            1\n",
       "42   no            0\n",
       "43   no            0\n",
       "44   no            0\n",
       "45   no            0\n",
       "\n",
       "[395 rows x 2 columns]"
      ]
     },
     "execution_count": 36,
     "metadata": {},
     "output_type": "execute_result"
    }
   ],
   "source": [
    "data[\"paid_native\"] = data[\"paid\"].apply(lambda x: paid_dict[x]) # adding a new column and assigning binary values (0 & 1) respectively\n",
    "data[[\"paid\",\"paid_native\"]] # output of the paid and newly added (paid_native) columns "
   ]
  },
  {
   "cell_type": "markdown",
   "metadata": {},
   "source": [
    "##### ix) converting activities variables into 0 or 1 and adding values to the new school_native column."
   ]
  },
  {
   "cell_type": "code",
   "execution_count": 37,
   "metadata": {},
   "outputs": [
    {
     "data": {
      "text/plain": [
       "array(['no', 'yes'], dtype=object)"
      ]
     },
     "execution_count": 37,
     "metadata": {},
     "output_type": "execute_result"
    }
   ],
   "source": [
    "data_activities = data[\"activities\"].unique() # sorting out the unique elements of activities column\n",
    "data_activities # displaying the unique element of activities column"
   ]
  },
  {
   "cell_type": "code",
   "execution_count": 38,
   "metadata": {},
   "outputs": [
    {
     "data": {
      "text/plain": [
       "{'no': 0, 'yes': 1}"
      ]
     },
     "execution_count": 38,
     "metadata": {},
     "output_type": "execute_result"
    }
   ],
   "source": [
    "activities_dict = dict(zip(data_activities,range(len(data_activities)))) # assigning the unique elements with binary values to activities elements\n",
    "activities_dict # displaying assigned (0 and 1) binary value output "
   ]
  },
  {
   "cell_type": "code",
   "execution_count": 39,
   "metadata": {},
   "outputs": [
    {
     "data": {
      "text/html": [
       "<div>\n",
       "<style scoped>\n",
       "    .dataframe tbody tr th:only-of-type {\n",
       "        vertical-align: middle;\n",
       "    }\n",
       "\n",
       "    .dataframe tbody tr th {\n",
       "        vertical-align: top;\n",
       "    }\n",
       "\n",
       "    .dataframe thead th {\n",
       "        text-align: right;\n",
       "    }\n",
       "</style>\n",
       "<table border=\"1\" class=\"dataframe\">\n",
       "  <thead>\n",
       "    <tr style=\"text-align: right;\">\n",
       "      <th></th>\n",
       "      <th>activities</th>\n",
       "      <th>activities_native</th>\n",
       "    </tr>\n",
       "  </thead>\n",
       "  <tbody>\n",
       "    <tr>\n",
       "      <th>0</th>\n",
       "      <td>no</td>\n",
       "      <td>0</td>\n",
       "    </tr>\n",
       "    <tr>\n",
       "      <th>1</th>\n",
       "      <td>no</td>\n",
       "      <td>0</td>\n",
       "    </tr>\n",
       "    <tr>\n",
       "      <th>2</th>\n",
       "      <td>no</td>\n",
       "      <td>0</td>\n",
       "    </tr>\n",
       "    <tr>\n",
       "      <th>3</th>\n",
       "      <td>yes</td>\n",
       "      <td>1</td>\n",
       "    </tr>\n",
       "    <tr>\n",
       "      <th>4</th>\n",
       "      <td>no</td>\n",
       "      <td>0</td>\n",
       "    </tr>\n",
       "    <tr>\n",
       "      <th>...</th>\n",
       "      <td>...</td>\n",
       "      <td>...</td>\n",
       "    </tr>\n",
       "    <tr>\n",
       "      <th>41</th>\n",
       "      <td>no</td>\n",
       "      <td>0</td>\n",
       "    </tr>\n",
       "    <tr>\n",
       "      <th>42</th>\n",
       "      <td>no</td>\n",
       "      <td>0</td>\n",
       "    </tr>\n",
       "    <tr>\n",
       "      <th>43</th>\n",
       "      <td>no</td>\n",
       "      <td>0</td>\n",
       "    </tr>\n",
       "    <tr>\n",
       "      <th>44</th>\n",
       "      <td>no</td>\n",
       "      <td>0</td>\n",
       "    </tr>\n",
       "    <tr>\n",
       "      <th>45</th>\n",
       "      <td>no</td>\n",
       "      <td>0</td>\n",
       "    </tr>\n",
       "  </tbody>\n",
       "</table>\n",
       "<p>395 rows × 2 columns</p>\n",
       "</div>"
      ],
      "text/plain": [
       "   activities  activities_native\n",
       "0          no                  0\n",
       "1          no                  0\n",
       "2          no                  0\n",
       "3         yes                  1\n",
       "4          no                  0\n",
       "..        ...                ...\n",
       "41         no                  0\n",
       "42         no                  0\n",
       "43         no                  0\n",
       "44         no                  0\n",
       "45         no                  0\n",
       "\n",
       "[395 rows x 2 columns]"
      ]
     },
     "execution_count": 39,
     "metadata": {},
     "output_type": "execute_result"
    }
   ],
   "source": [
    "data[\"activities_native\"] = data[\"activities\"].apply(lambda x: activities_dict[x]) # adding a new column and assigning binary values (0 & 1) respectively\n",
    "data[[\"activities\",\"activities_native\"]] # output of the activities and newly added (activities_native) columns "
   ]
  },
  {
   "cell_type": "markdown",
   "metadata": {},
   "source": [
    "##### x) converting nursery variables into 0 or 1 and adding values to the new school_native column."
   ]
  },
  {
   "cell_type": "code",
   "execution_count": 40,
   "metadata": {},
   "outputs": [
    {
     "data": {
      "text/plain": [
       "array(['yes', 'no'], dtype=object)"
      ]
     },
     "execution_count": 40,
     "metadata": {},
     "output_type": "execute_result"
    }
   ],
   "source": [
    "data_nursery = data[\"nursery\"].unique() # sorting out the unique elements of nursery column\n",
    "data_nursery # displaying the unique element of nursery column"
   ]
  },
  {
   "cell_type": "code",
   "execution_count": 41,
   "metadata": {},
   "outputs": [
    {
     "data": {
      "text/plain": [
       "{'yes': 0, 'no': 1}"
      ]
     },
     "execution_count": 41,
     "metadata": {},
     "output_type": "execute_result"
    }
   ],
   "source": [
    "nursery_dict = dict(zip(data_nursery,range(len(data_nursery)))) # assigning the unique elements with binary values to nursery elements\n",
    "nursery_dict # displaying assigned (0 and 1) binary value output "
   ]
  },
  {
   "cell_type": "code",
   "execution_count": 42,
   "metadata": {},
   "outputs": [
    {
     "data": {
      "text/html": [
       "<div>\n",
       "<style scoped>\n",
       "    .dataframe tbody tr th:only-of-type {\n",
       "        vertical-align: middle;\n",
       "    }\n",
       "\n",
       "    .dataframe tbody tr th {\n",
       "        vertical-align: top;\n",
       "    }\n",
       "\n",
       "    .dataframe thead th {\n",
       "        text-align: right;\n",
       "    }\n",
       "</style>\n",
       "<table border=\"1\" class=\"dataframe\">\n",
       "  <thead>\n",
       "    <tr style=\"text-align: right;\">\n",
       "      <th></th>\n",
       "      <th>nursery</th>\n",
       "      <th>nursery_native</th>\n",
       "    </tr>\n",
       "  </thead>\n",
       "  <tbody>\n",
       "    <tr>\n",
       "      <th>0</th>\n",
       "      <td>yes</td>\n",
       "      <td>0</td>\n",
       "    </tr>\n",
       "    <tr>\n",
       "      <th>1</th>\n",
       "      <td>no</td>\n",
       "      <td>1</td>\n",
       "    </tr>\n",
       "    <tr>\n",
       "      <th>2</th>\n",
       "      <td>yes</td>\n",
       "      <td>0</td>\n",
       "    </tr>\n",
       "    <tr>\n",
       "      <th>3</th>\n",
       "      <td>yes</td>\n",
       "      <td>0</td>\n",
       "    </tr>\n",
       "    <tr>\n",
       "      <th>4</th>\n",
       "      <td>yes</td>\n",
       "      <td>0</td>\n",
       "    </tr>\n",
       "    <tr>\n",
       "      <th>...</th>\n",
       "      <td>...</td>\n",
       "      <td>...</td>\n",
       "    </tr>\n",
       "    <tr>\n",
       "      <th>41</th>\n",
       "      <td>yes</td>\n",
       "      <td>0</td>\n",
       "    </tr>\n",
       "    <tr>\n",
       "      <th>42</th>\n",
       "      <td>no</td>\n",
       "      <td>1</td>\n",
       "    </tr>\n",
       "    <tr>\n",
       "      <th>43</th>\n",
       "      <td>no</td>\n",
       "      <td>1</td>\n",
       "    </tr>\n",
       "    <tr>\n",
       "      <th>44</th>\n",
       "      <td>no</td>\n",
       "      <td>1</td>\n",
       "    </tr>\n",
       "    <tr>\n",
       "      <th>45</th>\n",
       "      <td>yes</td>\n",
       "      <td>0</td>\n",
       "    </tr>\n",
       "  </tbody>\n",
       "</table>\n",
       "<p>395 rows × 2 columns</p>\n",
       "</div>"
      ],
      "text/plain": [
       "   nursery  nursery_native\n",
       "0      yes               0\n",
       "1       no               1\n",
       "2      yes               0\n",
       "3      yes               0\n",
       "4      yes               0\n",
       "..     ...             ...\n",
       "41     yes               0\n",
       "42      no               1\n",
       "43      no               1\n",
       "44      no               1\n",
       "45     yes               0\n",
       "\n",
       "[395 rows x 2 columns]"
      ]
     },
     "execution_count": 42,
     "metadata": {},
     "output_type": "execute_result"
    }
   ],
   "source": [
    "data[\"nursery_native\"] = data[\"nursery\"].apply(lambda x: nursery_dict[x]) # adding a new column and assigning binary values (0 & 1) respectively\n",
    "data[[\"nursery\",\"nursery_native\"]] # output of the nursery and newly added (nursery_native) columns "
   ]
  },
  {
   "cell_type": "markdown",
   "metadata": {},
   "source": [
    "##### xi) converting higher variables into 0 or 1 and adding values to the new school_native column."
   ]
  },
  {
   "cell_type": "code",
   "execution_count": 43,
   "metadata": {},
   "outputs": [
    {
     "data": {
      "text/plain": [
       "array(['yes', 'no'], dtype=object)"
      ]
     },
     "execution_count": 43,
     "metadata": {},
     "output_type": "execute_result"
    }
   ],
   "source": [
    "data_higher = data[\"higher\"].unique() # sorting out the unique elements of higher column\n",
    "data_higher # displaying the unique element of higher column"
   ]
  },
  {
   "cell_type": "code",
   "execution_count": 44,
   "metadata": {},
   "outputs": [
    {
     "data": {
      "text/plain": [
       "{'yes': 0, 'no': 1}"
      ]
     },
     "execution_count": 44,
     "metadata": {},
     "output_type": "execute_result"
    }
   ],
   "source": [
    "higher_dict = dict(zip(data_higher,range(len(data_higher)))) # assigning the unique elements with binary values to higher elements\n",
    "higher_dict # displaying assigned (0 and 1) binary value output "
   ]
  },
  {
   "cell_type": "code",
   "execution_count": 45,
   "metadata": {},
   "outputs": [
    {
     "data": {
      "text/html": [
       "<div>\n",
       "<style scoped>\n",
       "    .dataframe tbody tr th:only-of-type {\n",
       "        vertical-align: middle;\n",
       "    }\n",
       "\n",
       "    .dataframe tbody tr th {\n",
       "        vertical-align: top;\n",
       "    }\n",
       "\n",
       "    .dataframe thead th {\n",
       "        text-align: right;\n",
       "    }\n",
       "</style>\n",
       "<table border=\"1\" class=\"dataframe\">\n",
       "  <thead>\n",
       "    <tr style=\"text-align: right;\">\n",
       "      <th></th>\n",
       "      <th>higher</th>\n",
       "      <th>higher_native</th>\n",
       "    </tr>\n",
       "  </thead>\n",
       "  <tbody>\n",
       "    <tr>\n",
       "      <th>0</th>\n",
       "      <td>yes</td>\n",
       "      <td>0</td>\n",
       "    </tr>\n",
       "    <tr>\n",
       "      <th>1</th>\n",
       "      <td>yes</td>\n",
       "      <td>0</td>\n",
       "    </tr>\n",
       "    <tr>\n",
       "      <th>2</th>\n",
       "      <td>yes</td>\n",
       "      <td>0</td>\n",
       "    </tr>\n",
       "    <tr>\n",
       "      <th>3</th>\n",
       "      <td>yes</td>\n",
       "      <td>0</td>\n",
       "    </tr>\n",
       "    <tr>\n",
       "      <th>4</th>\n",
       "      <td>yes</td>\n",
       "      <td>0</td>\n",
       "    </tr>\n",
       "    <tr>\n",
       "      <th>...</th>\n",
       "      <td>...</td>\n",
       "      <td>...</td>\n",
       "    </tr>\n",
       "    <tr>\n",
       "      <th>41</th>\n",
       "      <td>yes</td>\n",
       "      <td>0</td>\n",
       "    </tr>\n",
       "    <tr>\n",
       "      <th>42</th>\n",
       "      <td>yes</td>\n",
       "      <td>0</td>\n",
       "    </tr>\n",
       "    <tr>\n",
       "      <th>43</th>\n",
       "      <td>yes</td>\n",
       "      <td>0</td>\n",
       "    </tr>\n",
       "    <tr>\n",
       "      <th>44</th>\n",
       "      <td>yes</td>\n",
       "      <td>0</td>\n",
       "    </tr>\n",
       "    <tr>\n",
       "      <th>45</th>\n",
       "      <td>yes</td>\n",
       "      <td>0</td>\n",
       "    </tr>\n",
       "  </tbody>\n",
       "</table>\n",
       "<p>395 rows × 2 columns</p>\n",
       "</div>"
      ],
      "text/plain": [
       "   higher  higher_native\n",
       "0     yes              0\n",
       "1     yes              0\n",
       "2     yes              0\n",
       "3     yes              0\n",
       "4     yes              0\n",
       "..    ...            ...\n",
       "41    yes              0\n",
       "42    yes              0\n",
       "43    yes              0\n",
       "44    yes              0\n",
       "45    yes              0\n",
       "\n",
       "[395 rows x 2 columns]"
      ]
     },
     "execution_count": 45,
     "metadata": {},
     "output_type": "execute_result"
    }
   ],
   "source": [
    "data[\"higher_native\"] = data[\"higher\"].apply(lambda x: higher_dict[x]) # adding a new column and assigning binary values (0 & 1) respectively\n",
    "data[[\"higher\",\"higher_native\"]] # output of the higher and newly added (higher_native) columns "
   ]
  },
  {
   "cell_type": "markdown",
   "metadata": {},
   "source": [
    "##### xii) converting internet variables into 0 or 1 and adding values to the new school_native column."
   ]
  },
  {
   "cell_type": "code",
   "execution_count": 46,
   "metadata": {},
   "outputs": [
    {
     "data": {
      "text/plain": [
       "array(['no', 'yes'], dtype=object)"
      ]
     },
     "execution_count": 46,
     "metadata": {},
     "output_type": "execute_result"
    }
   ],
   "source": [
    "data_internet = data[\"internet\"].unique() # sorting out the unique elements of internet column\n",
    "data_internet # displaying the unique element of internet column"
   ]
  },
  {
   "cell_type": "code",
   "execution_count": 47,
   "metadata": {},
   "outputs": [
    {
     "data": {
      "text/plain": [
       "{'no': 0, 'yes': 1}"
      ]
     },
     "execution_count": 47,
     "metadata": {},
     "output_type": "execute_result"
    }
   ],
   "source": [
    "internet_dict = dict(zip(data_internet,range(len(data_internet)))) # assigning the unique elements with binary values to internet elements\n",
    "internet_dict # displaying assigned (0 and 1) binary value output "
   ]
  },
  {
   "cell_type": "code",
   "execution_count": 48,
   "metadata": {},
   "outputs": [
    {
     "data": {
      "text/html": [
       "<div>\n",
       "<style scoped>\n",
       "    .dataframe tbody tr th:only-of-type {\n",
       "        vertical-align: middle;\n",
       "    }\n",
       "\n",
       "    .dataframe tbody tr th {\n",
       "        vertical-align: top;\n",
       "    }\n",
       "\n",
       "    .dataframe thead th {\n",
       "        text-align: right;\n",
       "    }\n",
       "</style>\n",
       "<table border=\"1\" class=\"dataframe\">\n",
       "  <thead>\n",
       "    <tr style=\"text-align: right;\">\n",
       "      <th></th>\n",
       "      <th>internet</th>\n",
       "      <th>internet_native</th>\n",
       "    </tr>\n",
       "  </thead>\n",
       "  <tbody>\n",
       "    <tr>\n",
       "      <th>0</th>\n",
       "      <td>no</td>\n",
       "      <td>0</td>\n",
       "    </tr>\n",
       "    <tr>\n",
       "      <th>1</th>\n",
       "      <td>yes</td>\n",
       "      <td>1</td>\n",
       "    </tr>\n",
       "    <tr>\n",
       "      <th>2</th>\n",
       "      <td>yes</td>\n",
       "      <td>1</td>\n",
       "    </tr>\n",
       "    <tr>\n",
       "      <th>3</th>\n",
       "      <td>yes</td>\n",
       "      <td>1</td>\n",
       "    </tr>\n",
       "    <tr>\n",
       "      <th>4</th>\n",
       "      <td>no</td>\n",
       "      <td>0</td>\n",
       "    </tr>\n",
       "    <tr>\n",
       "      <th>...</th>\n",
       "      <td>...</td>\n",
       "      <td>...</td>\n",
       "    </tr>\n",
       "    <tr>\n",
       "      <th>41</th>\n",
       "      <td>no</td>\n",
       "      <td>0</td>\n",
       "    </tr>\n",
       "    <tr>\n",
       "      <th>42</th>\n",
       "      <td>yes</td>\n",
       "      <td>1</td>\n",
       "    </tr>\n",
       "    <tr>\n",
       "      <th>43</th>\n",
       "      <td>no</td>\n",
       "      <td>0</td>\n",
       "    </tr>\n",
       "    <tr>\n",
       "      <th>44</th>\n",
       "      <td>yes</td>\n",
       "      <td>1</td>\n",
       "    </tr>\n",
       "    <tr>\n",
       "      <th>45</th>\n",
       "      <td>yes</td>\n",
       "      <td>1</td>\n",
       "    </tr>\n",
       "  </tbody>\n",
       "</table>\n",
       "<p>395 rows × 2 columns</p>\n",
       "</div>"
      ],
      "text/plain": [
       "   internet  internet_native\n",
       "0        no                0\n",
       "1       yes                1\n",
       "2       yes                1\n",
       "3       yes                1\n",
       "4        no                0\n",
       "..      ...              ...\n",
       "41       no                0\n",
       "42      yes                1\n",
       "43       no                0\n",
       "44      yes                1\n",
       "45      yes                1\n",
       "\n",
       "[395 rows x 2 columns]"
      ]
     },
     "execution_count": 48,
     "metadata": {},
     "output_type": "execute_result"
    }
   ],
   "source": [
    "data[\"internet_native\"] = data[\"internet\"].apply(lambda x: internet_dict[x]) # adding a new column and assigning binary values (0 & 1) respectively\n",
    "data[[\"internet\",\"internet_native\"]] # output of the internet and newly added (internet_native) columns "
   ]
  },
  {
   "cell_type": "markdown",
   "metadata": {},
   "source": [
    "##### xiii) converting romantic variables into 0 or 1 and adding values to the new school_native column."
   ]
  },
  {
   "cell_type": "code",
   "execution_count": 49,
   "metadata": {},
   "outputs": [
    {
     "data": {
      "text/plain": [
       "array(['no', 'yes'], dtype=object)"
      ]
     },
     "execution_count": 49,
     "metadata": {},
     "output_type": "execute_result"
    }
   ],
   "source": [
    "data_romantic = data[\"romantic\"].unique() # sorting out the unique elements of romantic column\n",
    "data_romantic # displaying the unique element of romantic column"
   ]
  },
  {
   "cell_type": "code",
   "execution_count": 50,
   "metadata": {},
   "outputs": [
    {
     "data": {
      "text/plain": [
       "{'no': 0, 'yes': 1}"
      ]
     },
     "execution_count": 50,
     "metadata": {},
     "output_type": "execute_result"
    }
   ],
   "source": [
    "romantic_dict = dict(zip(data_romantic,range(len(data_romantic)))) # assigning the unique elements with binary values to romantic elements\n",
    "romantic_dict # displaying assigned (0 and 1) binary value output "
   ]
  },
  {
   "cell_type": "code",
   "execution_count": 51,
   "metadata": {},
   "outputs": [
    {
     "data": {
      "text/html": [
       "<div>\n",
       "<style scoped>\n",
       "    .dataframe tbody tr th:only-of-type {\n",
       "        vertical-align: middle;\n",
       "    }\n",
       "\n",
       "    .dataframe tbody tr th {\n",
       "        vertical-align: top;\n",
       "    }\n",
       "\n",
       "    .dataframe thead th {\n",
       "        text-align: right;\n",
       "    }\n",
       "</style>\n",
       "<table border=\"1\" class=\"dataframe\">\n",
       "  <thead>\n",
       "    <tr style=\"text-align: right;\">\n",
       "      <th></th>\n",
       "      <th>romantic</th>\n",
       "      <th>romantic_native</th>\n",
       "    </tr>\n",
       "  </thead>\n",
       "  <tbody>\n",
       "    <tr>\n",
       "      <th>0</th>\n",
       "      <td>no</td>\n",
       "      <td>0</td>\n",
       "    </tr>\n",
       "    <tr>\n",
       "      <th>1</th>\n",
       "      <td>no</td>\n",
       "      <td>0</td>\n",
       "    </tr>\n",
       "    <tr>\n",
       "      <th>2</th>\n",
       "      <td>no</td>\n",
       "      <td>0</td>\n",
       "    </tr>\n",
       "    <tr>\n",
       "      <th>3</th>\n",
       "      <td>yes</td>\n",
       "      <td>1</td>\n",
       "    </tr>\n",
       "    <tr>\n",
       "      <th>4</th>\n",
       "      <td>no</td>\n",
       "      <td>0</td>\n",
       "    </tr>\n",
       "    <tr>\n",
       "      <th>...</th>\n",
       "      <td>...</td>\n",
       "      <td>...</td>\n",
       "    </tr>\n",
       "    <tr>\n",
       "      <th>41</th>\n",
       "      <td>no</td>\n",
       "      <td>0</td>\n",
       "    </tr>\n",
       "    <tr>\n",
       "      <th>42</th>\n",
       "      <td>no</td>\n",
       "      <td>0</td>\n",
       "    </tr>\n",
       "    <tr>\n",
       "      <th>43</th>\n",
       "      <td>no</td>\n",
       "      <td>0</td>\n",
       "    </tr>\n",
       "    <tr>\n",
       "      <th>44</th>\n",
       "      <td>no</td>\n",
       "      <td>0</td>\n",
       "    </tr>\n",
       "    <tr>\n",
       "      <th>45</th>\n",
       "      <td>no</td>\n",
       "      <td>0</td>\n",
       "    </tr>\n",
       "  </tbody>\n",
       "</table>\n",
       "<p>395 rows × 2 columns</p>\n",
       "</div>"
      ],
      "text/plain": [
       "   romantic  romantic_native\n",
       "0        no                0\n",
       "1        no                0\n",
       "2        no                0\n",
       "3       yes                1\n",
       "4        no                0\n",
       "..      ...              ...\n",
       "41       no                0\n",
       "42       no                0\n",
       "43       no                0\n",
       "44       no                0\n",
       "45       no                0\n",
       "\n",
       "[395 rows x 2 columns]"
      ]
     },
     "execution_count": 51,
     "metadata": {},
     "output_type": "execute_result"
    }
   ],
   "source": [
    "data[\"romantic_native\"] = data[\"romantic\"].apply(lambda x: romantic_dict[x]) # adding a new column (romantic_native) and assigning binary values (0 & 1) respectively\n",
    "data[[\"romantic\",\"romantic_native\"]] # output of the romantic and newly added (romantic_native) columns "
   ]
  },
  {
   "cell_type": "markdown",
   "metadata": {},
   "source": [
    "### b) Medu, Fedu, Mjob, Fjob, reason, guardian, traveltime, studytime, famrel, freetime, gout, Dalc, Walc and health into ordinal numbers based on number of cases in the data set (create new columns without overwriting the existing ones). (1+1+1+1+1+1+1+1+1+1+1+1+1+1 = 14 marks)\n",
    "\n",
    "#### i) Changing Medu variables to ordinary numbers based on number of cases in the data set and adding the new column Medu_native and its values. "
   ]
  },
  {
   "cell_type": "code",
   "execution_count": 52,
   "metadata": {},
   "outputs": [
    {
     "data": {
      "text/plain": [
       "array(['higher education', 'primary education (4th grade)',\n",
       "       'secondary education', '5th to 9th grade', 'none'], dtype=object)"
      ]
     },
     "execution_count": 52,
     "metadata": {},
     "output_type": "execute_result"
    }
   ],
   "source": [
    "data_Medu = data[\"Medu\"].unique()  # sorting out the unique elements of Medu column\n",
    "data_Medu # displaying the unique element of Medu column"
   ]
  },
  {
   "cell_type": "code",
   "execution_count": 53,
   "metadata": {},
   "outputs": [
    {
     "data": {
      "text/plain": [
       "{'higher education': 0,\n",
       " 'primary education (4th grade)': 1,\n",
       " 'secondary education': 2,\n",
       " '5th to 9th grade': 3,\n",
       " 'none': 4}"
      ]
     },
     "execution_count": 53,
     "metadata": {},
     "output_type": "execute_result"
    }
   ],
   "source": [
    "Medu_dict = dict(zip(data_Medu,range(len(data_Medu)))) # assigning the unique elements with binary values to Medu elements\n",
    "Medu_dict # displaying assigned (0 and 1) binary value output "
   ]
  },
  {
   "cell_type": "code",
   "execution_count": 54,
   "metadata": {},
   "outputs": [
    {
     "data": {
      "text/html": [
       "<div>\n",
       "<style scoped>\n",
       "    .dataframe tbody tr th:only-of-type {\n",
       "        vertical-align: middle;\n",
       "    }\n",
       "\n",
       "    .dataframe tbody tr th {\n",
       "        vertical-align: top;\n",
       "    }\n",
       "\n",
       "    .dataframe thead th {\n",
       "        text-align: right;\n",
       "    }\n",
       "</style>\n",
       "<table border=\"1\" class=\"dataframe\">\n",
       "  <thead>\n",
       "    <tr style=\"text-align: right;\">\n",
       "      <th></th>\n",
       "      <th>Medu</th>\n",
       "      <th>Medu_native</th>\n",
       "    </tr>\n",
       "  </thead>\n",
       "  <tbody>\n",
       "    <tr>\n",
       "      <th>0</th>\n",
       "      <td>higher education</td>\n",
       "      <td>0</td>\n",
       "    </tr>\n",
       "    <tr>\n",
       "      <th>1</th>\n",
       "      <td>primary education (4th grade)</td>\n",
       "      <td>1</td>\n",
       "    </tr>\n",
       "    <tr>\n",
       "      <th>2</th>\n",
       "      <td>primary education (4th grade)</td>\n",
       "      <td>1</td>\n",
       "    </tr>\n",
       "    <tr>\n",
       "      <th>3</th>\n",
       "      <td>higher education</td>\n",
       "      <td>0</td>\n",
       "    </tr>\n",
       "    <tr>\n",
       "      <th>4</th>\n",
       "      <td>secondary education</td>\n",
       "      <td>2</td>\n",
       "    </tr>\n",
       "    <tr>\n",
       "      <th>...</th>\n",
       "      <td>...</td>\n",
       "      <td>...</td>\n",
       "    </tr>\n",
       "    <tr>\n",
       "      <th>41</th>\n",
       "      <td>5th to 9th grade</td>\n",
       "      <td>3</td>\n",
       "    </tr>\n",
       "    <tr>\n",
       "      <th>42</th>\n",
       "      <td>secondary education</td>\n",
       "      <td>2</td>\n",
       "    </tr>\n",
       "    <tr>\n",
       "      <th>43</th>\n",
       "      <td>primary education (4th grade)</td>\n",
       "      <td>1</td>\n",
       "    </tr>\n",
       "    <tr>\n",
       "      <th>44</th>\n",
       "      <td>secondary education</td>\n",
       "      <td>2</td>\n",
       "    </tr>\n",
       "    <tr>\n",
       "      <th>45</th>\n",
       "      <td>primary education (4th grade)</td>\n",
       "      <td>1</td>\n",
       "    </tr>\n",
       "  </tbody>\n",
       "</table>\n",
       "<p>395 rows × 2 columns</p>\n",
       "</div>"
      ],
      "text/plain": [
       "                             Medu  Medu_native\n",
       "0                higher education            0\n",
       "1   primary education (4th grade)            1\n",
       "2   primary education (4th grade)            1\n",
       "3                higher education            0\n",
       "4             secondary education            2\n",
       "..                            ...          ...\n",
       "41               5th to 9th grade            3\n",
       "42            secondary education            2\n",
       "43  primary education (4th grade)            1\n",
       "44            secondary education            2\n",
       "45  primary education (4th grade)            1\n",
       "\n",
       "[395 rows x 2 columns]"
      ]
     },
     "execution_count": 54,
     "metadata": {},
     "output_type": "execute_result"
    }
   ],
   "source": [
    "data[\"Medu_native\"] = data[\"Medu\"].apply(lambda x: Medu_dict[x])# adding a new column (Medu_native) and assigning binary values (0 & 1) respectively\n",
    "data[[\"Medu\", \"Medu_native\"]] # output of the Medu and newly added (Medu_native) columns "
   ]
  },
  {
   "cell_type": "markdown",
   "metadata": {},
   "source": [
    "#### ii) Changing Fedu variables to ordinary numbers based on number of cases in the data set and adding the new column Fedu_native and its values. "
   ]
  },
  {
   "cell_type": "code",
   "execution_count": 55,
   "metadata": {},
   "outputs": [
    {
     "data": {
      "text/plain": [
       "array(['higher education', 'primary education (4th grade)',\n",
       "       '5th to 9th grade', 'secondary education', 'none'], dtype=object)"
      ]
     },
     "execution_count": 55,
     "metadata": {},
     "output_type": "execute_result"
    }
   ],
   "source": [
    "data_Fedu = data[\"Fedu\"].unique()  # sorting out the unique elements of Fedu column\n",
    "data_Fedu # displaying the unique element of Fedu column"
   ]
  },
  {
   "cell_type": "code",
   "execution_count": 56,
   "metadata": {},
   "outputs": [
    {
     "data": {
      "text/plain": [
       "{'higher education': 0,\n",
       " 'primary education (4th grade)': 1,\n",
       " '5th to 9th grade': 2,\n",
       " 'secondary education': 3,\n",
       " 'none': 4}"
      ]
     },
     "execution_count": 56,
     "metadata": {},
     "output_type": "execute_result"
    }
   ],
   "source": [
    "Fedu_dict = dict(zip(data_Fedu,range(len(data_Fedu)))) # assigning the unique elements with binary values to Fedu elements\n",
    "Fedu_dict # displaying assigned (0 and 1) binary value output "
   ]
  },
  {
   "cell_type": "code",
   "execution_count": 57,
   "metadata": {},
   "outputs": [
    {
     "data": {
      "text/html": [
       "<div>\n",
       "<style scoped>\n",
       "    .dataframe tbody tr th:only-of-type {\n",
       "        vertical-align: middle;\n",
       "    }\n",
       "\n",
       "    .dataframe tbody tr th {\n",
       "        vertical-align: top;\n",
       "    }\n",
       "\n",
       "    .dataframe thead th {\n",
       "        text-align: right;\n",
       "    }\n",
       "</style>\n",
       "<table border=\"1\" class=\"dataframe\">\n",
       "  <thead>\n",
       "    <tr style=\"text-align: right;\">\n",
       "      <th></th>\n",
       "      <th>Fedu</th>\n",
       "      <th>Fedu_native</th>\n",
       "    </tr>\n",
       "  </thead>\n",
       "  <tbody>\n",
       "    <tr>\n",
       "      <th>0</th>\n",
       "      <td>higher education</td>\n",
       "      <td>0</td>\n",
       "    </tr>\n",
       "    <tr>\n",
       "      <th>1</th>\n",
       "      <td>primary education (4th grade)</td>\n",
       "      <td>1</td>\n",
       "    </tr>\n",
       "    <tr>\n",
       "      <th>2</th>\n",
       "      <td>primary education (4th grade)</td>\n",
       "      <td>1</td>\n",
       "    </tr>\n",
       "    <tr>\n",
       "      <th>3</th>\n",
       "      <td>5th to 9th grade</td>\n",
       "      <td>2</td>\n",
       "    </tr>\n",
       "    <tr>\n",
       "      <th>4</th>\n",
       "      <td>secondary education</td>\n",
       "      <td>3</td>\n",
       "    </tr>\n",
       "    <tr>\n",
       "      <th>...</th>\n",
       "      <td>...</td>\n",
       "      <td>...</td>\n",
       "    </tr>\n",
       "    <tr>\n",
       "      <th>41</th>\n",
       "      <td>5th to 9th grade</td>\n",
       "      <td>2</td>\n",
       "    </tr>\n",
       "    <tr>\n",
       "      <th>42</th>\n",
       "      <td>primary education (4th grade)</td>\n",
       "      <td>1</td>\n",
       "    </tr>\n",
       "    <tr>\n",
       "      <th>43</th>\n",
       "      <td>primary education (4th grade)</td>\n",
       "      <td>1</td>\n",
       "    </tr>\n",
       "    <tr>\n",
       "      <th>44</th>\n",
       "      <td>5th to 9th grade</td>\n",
       "      <td>2</td>\n",
       "    </tr>\n",
       "    <tr>\n",
       "      <th>45</th>\n",
       "      <td>primary education (4th grade)</td>\n",
       "      <td>1</td>\n",
       "    </tr>\n",
       "  </tbody>\n",
       "</table>\n",
       "<p>395 rows × 2 columns</p>\n",
       "</div>"
      ],
      "text/plain": [
       "                             Fedu  Fedu_native\n",
       "0                higher education            0\n",
       "1   primary education (4th grade)            1\n",
       "2   primary education (4th grade)            1\n",
       "3                5th to 9th grade            2\n",
       "4             secondary education            3\n",
       "..                            ...          ...\n",
       "41               5th to 9th grade            2\n",
       "42  primary education (4th grade)            1\n",
       "43  primary education (4th grade)            1\n",
       "44               5th to 9th grade            2\n",
       "45  primary education (4th grade)            1\n",
       "\n",
       "[395 rows x 2 columns]"
      ]
     },
     "execution_count": 57,
     "metadata": {},
     "output_type": "execute_result"
    }
   ],
   "source": [
    "data[\"Fedu_native\"] = data[\"Fedu\"].apply(lambda x: Fedu_dict[x])# adding a new column (Fedu_native) and assigning binary values (0 & 1) respectively\n",
    "data[[\"Fedu\", \"Fedu_native\"]] # output of the Fedu and newly added (Fedu_native) columns "
   ]
  },
  {
   "cell_type": "markdown",
   "metadata": {},
   "source": [
    "#### iii) Changing Mjob variables to ordinary numbers based on number of cases in the data set and adding the new column Mjob_native and its values. "
   ]
  },
  {
   "cell_type": "code",
   "execution_count": 58,
   "metadata": {},
   "outputs": [
    {
     "data": {
      "text/plain": [
       "array(['at_home', 'health', 'other', 'services', 'teacher'], dtype=object)"
      ]
     },
     "execution_count": 58,
     "metadata": {},
     "output_type": "execute_result"
    }
   ],
   "source": [
    "data_Mjob = data[\"Mjob\"].unique()  # sorting out the unique elements of Mjob column\n",
    "data_Mjob # displaying the unique element of Mjob column"
   ]
  },
  {
   "cell_type": "code",
   "execution_count": 59,
   "metadata": {},
   "outputs": [
    {
     "data": {
      "text/plain": [
       "{'at_home': 0, 'health': 1, 'other': 2, 'services': 3, 'teacher': 4}"
      ]
     },
     "execution_count": 59,
     "metadata": {},
     "output_type": "execute_result"
    }
   ],
   "source": [
    "Mjob_dict = dict(zip(data_Mjob,range(len(data_Mjob)))) # assigning the unique elements with binary values to Mjob elements\n",
    "Mjob_dict # displaying assigned (0 and 1) binary value output "
   ]
  },
  {
   "cell_type": "code",
   "execution_count": 60,
   "metadata": {},
   "outputs": [
    {
     "data": {
      "text/html": [
       "<div>\n",
       "<style scoped>\n",
       "    .dataframe tbody tr th:only-of-type {\n",
       "        vertical-align: middle;\n",
       "    }\n",
       "\n",
       "    .dataframe tbody tr th {\n",
       "        vertical-align: top;\n",
       "    }\n",
       "\n",
       "    .dataframe thead th {\n",
       "        text-align: right;\n",
       "    }\n",
       "</style>\n",
       "<table border=\"1\" class=\"dataframe\">\n",
       "  <thead>\n",
       "    <tr style=\"text-align: right;\">\n",
       "      <th></th>\n",
       "      <th>Mjob</th>\n",
       "      <th>Mjob_native</th>\n",
       "    </tr>\n",
       "  </thead>\n",
       "  <tbody>\n",
       "    <tr>\n",
       "      <th>0</th>\n",
       "      <td>at_home</td>\n",
       "      <td>0</td>\n",
       "    </tr>\n",
       "    <tr>\n",
       "      <th>1</th>\n",
       "      <td>at_home</td>\n",
       "      <td>0</td>\n",
       "    </tr>\n",
       "    <tr>\n",
       "      <th>2</th>\n",
       "      <td>at_home</td>\n",
       "      <td>0</td>\n",
       "    </tr>\n",
       "    <tr>\n",
       "      <th>3</th>\n",
       "      <td>health</td>\n",
       "      <td>1</td>\n",
       "    </tr>\n",
       "    <tr>\n",
       "      <th>4</th>\n",
       "      <td>other</td>\n",
       "      <td>2</td>\n",
       "    </tr>\n",
       "    <tr>\n",
       "      <th>...</th>\n",
       "      <td>...</td>\n",
       "      <td>...</td>\n",
       "    </tr>\n",
       "    <tr>\n",
       "      <th>41</th>\n",
       "      <td>services</td>\n",
       "      <td>3</td>\n",
       "    </tr>\n",
       "    <tr>\n",
       "      <th>42</th>\n",
       "      <td>services</td>\n",
       "      <td>3</td>\n",
       "    </tr>\n",
       "    <tr>\n",
       "      <th>43</th>\n",
       "      <td>other</td>\n",
       "      <td>2</td>\n",
       "    </tr>\n",
       "    <tr>\n",
       "      <th>44</th>\n",
       "      <td>services</td>\n",
       "      <td>3</td>\n",
       "    </tr>\n",
       "    <tr>\n",
       "      <th>45</th>\n",
       "      <td>other</td>\n",
       "      <td>2</td>\n",
       "    </tr>\n",
       "  </tbody>\n",
       "</table>\n",
       "<p>395 rows × 2 columns</p>\n",
       "</div>"
      ],
      "text/plain": [
       "        Mjob  Mjob_native\n",
       "0    at_home            0\n",
       "1    at_home            0\n",
       "2    at_home            0\n",
       "3     health            1\n",
       "4      other            2\n",
       "..       ...          ...\n",
       "41  services            3\n",
       "42  services            3\n",
       "43     other            2\n",
       "44  services            3\n",
       "45     other            2\n",
       "\n",
       "[395 rows x 2 columns]"
      ]
     },
     "execution_count": 60,
     "metadata": {},
     "output_type": "execute_result"
    }
   ],
   "source": [
    "data[\"Mjob_native\"] = data[\"Mjob\"].apply(lambda x: Mjob_dict[x])# adding a new column (Mjob_native) and assigning binary values (0 & 1) respectively\n",
    "data[[\"Mjob\", \"Mjob_native\"]] # output of the Mjob and newly added (Mjob_native) columns "
   ]
  },
  {
   "cell_type": "markdown",
   "metadata": {},
   "source": [
    "#### iv) Changing Fjob variables to ordinary numbers based on number of cases in the data set and adding the new column Fjob_native and its values. "
   ]
  },
  {
   "cell_type": "code",
   "execution_count": 61,
   "metadata": {},
   "outputs": [
    {
     "data": {
      "text/plain": [
       "array(['teacher', 'other', 'services', 'health', 'at_home'], dtype=object)"
      ]
     },
     "execution_count": 61,
     "metadata": {},
     "output_type": "execute_result"
    }
   ],
   "source": [
    "data_Fjob = data[\"Fjob\"].unique()  # sorting out the unique elements of Fjob column\n",
    "data_Fjob # displaying the unique element of Fjob column"
   ]
  },
  {
   "cell_type": "code",
   "execution_count": 62,
   "metadata": {},
   "outputs": [
    {
     "data": {
      "text/plain": [
       "{'teacher': 0, 'other': 1, 'services': 2, 'health': 3, 'at_home': 4}"
      ]
     },
     "execution_count": 62,
     "metadata": {},
     "output_type": "execute_result"
    }
   ],
   "source": [
    "Fjob_dict = dict(zip(data_Fjob,range(len(data_Fjob)))) # assigning the unique elements with binary values to Fjob elements\n",
    "Fjob_dict # displaying assigned (0 and 1) binary value output "
   ]
  },
  {
   "cell_type": "code",
   "execution_count": 63,
   "metadata": {},
   "outputs": [
    {
     "data": {
      "text/html": [
       "<div>\n",
       "<style scoped>\n",
       "    .dataframe tbody tr th:only-of-type {\n",
       "        vertical-align: middle;\n",
       "    }\n",
       "\n",
       "    .dataframe tbody tr th {\n",
       "        vertical-align: top;\n",
       "    }\n",
       "\n",
       "    .dataframe thead th {\n",
       "        text-align: right;\n",
       "    }\n",
       "</style>\n",
       "<table border=\"1\" class=\"dataframe\">\n",
       "  <thead>\n",
       "    <tr style=\"text-align: right;\">\n",
       "      <th></th>\n",
       "      <th>Fjob</th>\n",
       "      <th>Fjob_native</th>\n",
       "    </tr>\n",
       "  </thead>\n",
       "  <tbody>\n",
       "    <tr>\n",
       "      <th>0</th>\n",
       "      <td>teacher</td>\n",
       "      <td>0</td>\n",
       "    </tr>\n",
       "    <tr>\n",
       "      <th>1</th>\n",
       "      <td>other</td>\n",
       "      <td>1</td>\n",
       "    </tr>\n",
       "    <tr>\n",
       "      <th>2</th>\n",
       "      <td>other</td>\n",
       "      <td>1</td>\n",
       "    </tr>\n",
       "    <tr>\n",
       "      <th>3</th>\n",
       "      <td>services</td>\n",
       "      <td>2</td>\n",
       "    </tr>\n",
       "    <tr>\n",
       "      <th>4</th>\n",
       "      <td>other</td>\n",
       "      <td>1</td>\n",
       "    </tr>\n",
       "    <tr>\n",
       "      <th>...</th>\n",
       "      <td>...</td>\n",
       "      <td>...</td>\n",
       "    </tr>\n",
       "    <tr>\n",
       "      <th>41</th>\n",
       "      <td>services</td>\n",
       "      <td>2</td>\n",
       "    </tr>\n",
       "    <tr>\n",
       "      <th>42</th>\n",
       "      <td>services</td>\n",
       "      <td>2</td>\n",
       "    </tr>\n",
       "    <tr>\n",
       "      <th>43</th>\n",
       "      <td>other</td>\n",
       "      <td>1</td>\n",
       "    </tr>\n",
       "    <tr>\n",
       "      <th>44</th>\n",
       "      <td>other</td>\n",
       "      <td>1</td>\n",
       "    </tr>\n",
       "    <tr>\n",
       "      <th>45</th>\n",
       "      <td>at_home</td>\n",
       "      <td>4</td>\n",
       "    </tr>\n",
       "  </tbody>\n",
       "</table>\n",
       "<p>395 rows × 2 columns</p>\n",
       "</div>"
      ],
      "text/plain": [
       "        Fjob  Fjob_native\n",
       "0    teacher            0\n",
       "1      other            1\n",
       "2      other            1\n",
       "3   services            2\n",
       "4      other            1\n",
       "..       ...          ...\n",
       "41  services            2\n",
       "42  services            2\n",
       "43     other            1\n",
       "44     other            1\n",
       "45   at_home            4\n",
       "\n",
       "[395 rows x 2 columns]"
      ]
     },
     "execution_count": 63,
     "metadata": {},
     "output_type": "execute_result"
    }
   ],
   "source": [
    "data[\"Fjob_native\"] = data[\"Fjob\"].apply(lambda x: Fjob_dict[x])# adding a new column (Fjob_native) and assigning binary values (0 & 1) respectively\n",
    "data[[\"Fjob\", \"Fjob_native\"]] # output of the Fjob and newly added (Fjob_native) columns "
   ]
  },
  {
   "cell_type": "markdown",
   "metadata": {},
   "source": [
    "#### v) Changing reason variables to ordinary numbers based on number of cases in the data set and adding the new column reason_native and its values. "
   ]
  },
  {
   "cell_type": "code",
   "execution_count": 64,
   "metadata": {},
   "outputs": [
    {
     "data": {
      "text/plain": [
       "array(['course', 'other', 'home', 'reputation'], dtype=object)"
      ]
     },
     "execution_count": 64,
     "metadata": {},
     "output_type": "execute_result"
    }
   ],
   "source": [
    "data_reason = data[\"reason\"].unique()  # sorting out the unique elements of reason column\n",
    "data_reason # displaying the unique element of reason column"
   ]
  },
  {
   "cell_type": "code",
   "execution_count": 65,
   "metadata": {},
   "outputs": [
    {
     "data": {
      "text/plain": [
       "{'course': 0, 'other': 1, 'home': 2, 'reputation': 3}"
      ]
     },
     "execution_count": 65,
     "metadata": {},
     "output_type": "execute_result"
    }
   ],
   "source": [
    "reason_dict = dict(zip(data_reason,range(len(data_reason)))) # assigning the unique elements with binary values to reason elements\n",
    "reason_dict # displaying assigned (0 and 1) binary value output "
   ]
  },
  {
   "cell_type": "code",
   "execution_count": 66,
   "metadata": {},
   "outputs": [
    {
     "data": {
      "text/html": [
       "<div>\n",
       "<style scoped>\n",
       "    .dataframe tbody tr th:only-of-type {\n",
       "        vertical-align: middle;\n",
       "    }\n",
       "\n",
       "    .dataframe tbody tr th {\n",
       "        vertical-align: top;\n",
       "    }\n",
       "\n",
       "    .dataframe thead th {\n",
       "        text-align: right;\n",
       "    }\n",
       "</style>\n",
       "<table border=\"1\" class=\"dataframe\">\n",
       "  <thead>\n",
       "    <tr style=\"text-align: right;\">\n",
       "      <th></th>\n",
       "      <th>reason</th>\n",
       "      <th>reason_native</th>\n",
       "    </tr>\n",
       "  </thead>\n",
       "  <tbody>\n",
       "    <tr>\n",
       "      <th>0</th>\n",
       "      <td>course</td>\n",
       "      <td>0</td>\n",
       "    </tr>\n",
       "    <tr>\n",
       "      <th>1</th>\n",
       "      <td>course</td>\n",
       "      <td>0</td>\n",
       "    </tr>\n",
       "    <tr>\n",
       "      <th>2</th>\n",
       "      <td>other</td>\n",
       "      <td>1</td>\n",
       "    </tr>\n",
       "    <tr>\n",
       "      <th>3</th>\n",
       "      <td>home</td>\n",
       "      <td>2</td>\n",
       "    </tr>\n",
       "    <tr>\n",
       "      <th>4</th>\n",
       "      <td>home</td>\n",
       "      <td>2</td>\n",
       "    </tr>\n",
       "    <tr>\n",
       "      <th>...</th>\n",
       "      <td>...</td>\n",
       "      <td>...</td>\n",
       "    </tr>\n",
       "    <tr>\n",
       "      <th>41</th>\n",
       "      <td>course</td>\n",
       "      <td>0</td>\n",
       "    </tr>\n",
       "    <tr>\n",
       "      <th>42</th>\n",
       "      <td>course</td>\n",
       "      <td>0</td>\n",
       "    </tr>\n",
       "    <tr>\n",
       "      <th>43</th>\n",
       "      <td>course</td>\n",
       "      <td>0</td>\n",
       "    </tr>\n",
       "    <tr>\n",
       "      <th>44</th>\n",
       "      <td>course</td>\n",
       "      <td>0</td>\n",
       "    </tr>\n",
       "    <tr>\n",
       "      <th>45</th>\n",
       "      <td>course</td>\n",
       "      <td>0</td>\n",
       "    </tr>\n",
       "  </tbody>\n",
       "</table>\n",
       "<p>395 rows × 2 columns</p>\n",
       "</div>"
      ],
      "text/plain": [
       "    reason  reason_native\n",
       "0   course              0\n",
       "1   course              0\n",
       "2    other              1\n",
       "3     home              2\n",
       "4     home              2\n",
       "..     ...            ...\n",
       "41  course              0\n",
       "42  course              0\n",
       "43  course              0\n",
       "44  course              0\n",
       "45  course              0\n",
       "\n",
       "[395 rows x 2 columns]"
      ]
     },
     "execution_count": 66,
     "metadata": {},
     "output_type": "execute_result"
    }
   ],
   "source": [
    "data[\"reason_native\"] = data[\"reason\"].apply(lambda x: reason_dict[x])# adding a new column (reason_native) and assigning binary values (0 & 1) respectively\n",
    "data[[\"reason\", \"reason_native\"]] # output of the reason and newly added (reason_native) columns "
   ]
  },
  {
   "cell_type": "markdown",
   "metadata": {},
   "source": [
    "#### vi) Changing guardian variables to ordinary numbers based on number of cases in the data set and adding the new column guardian_native and its values. "
   ]
  },
  {
   "cell_type": "code",
   "execution_count": 67,
   "metadata": {},
   "outputs": [
    {
     "data": {
      "text/plain": [
       "array(['mother', 'father', 'other'], dtype=object)"
      ]
     },
     "execution_count": 67,
     "metadata": {},
     "output_type": "execute_result"
    }
   ],
   "source": [
    "data_guardian = data[\"guardian\"].unique()  # sorting out the unique elements of guardian column\n",
    "data_guardian # displaying the unique element of guardian column"
   ]
  },
  {
   "cell_type": "code",
   "execution_count": 68,
   "metadata": {},
   "outputs": [
    {
     "data": {
      "text/plain": [
       "{'mother': 0, 'father': 1, 'other': 2}"
      ]
     },
     "execution_count": 68,
     "metadata": {},
     "output_type": "execute_result"
    }
   ],
   "source": [
    "guardian_dict = dict(zip(data_guardian,range(len(data_guardian)))) # assigning the unique elements with binary values to guardian elements\n",
    "guardian_dict # displaying assigned (0 and 1) binary value output "
   ]
  },
  {
   "cell_type": "code",
   "execution_count": 69,
   "metadata": {},
   "outputs": [
    {
     "data": {
      "text/html": [
       "<div>\n",
       "<style scoped>\n",
       "    .dataframe tbody tr th:only-of-type {\n",
       "        vertical-align: middle;\n",
       "    }\n",
       "\n",
       "    .dataframe tbody tr th {\n",
       "        vertical-align: top;\n",
       "    }\n",
       "\n",
       "    .dataframe thead th {\n",
       "        text-align: right;\n",
       "    }\n",
       "</style>\n",
       "<table border=\"1\" class=\"dataframe\">\n",
       "  <thead>\n",
       "    <tr style=\"text-align: right;\">\n",
       "      <th></th>\n",
       "      <th>guardian</th>\n",
       "      <th>guardian_native</th>\n",
       "    </tr>\n",
       "  </thead>\n",
       "  <tbody>\n",
       "    <tr>\n",
       "      <th>0</th>\n",
       "      <td>mother</td>\n",
       "      <td>0</td>\n",
       "    </tr>\n",
       "    <tr>\n",
       "      <th>1</th>\n",
       "      <td>father</td>\n",
       "      <td>1</td>\n",
       "    </tr>\n",
       "    <tr>\n",
       "      <th>2</th>\n",
       "      <td>mother</td>\n",
       "      <td>0</td>\n",
       "    </tr>\n",
       "    <tr>\n",
       "      <th>3</th>\n",
       "      <td>mother</td>\n",
       "      <td>0</td>\n",
       "    </tr>\n",
       "    <tr>\n",
       "      <th>4</th>\n",
       "      <td>father</td>\n",
       "      <td>1</td>\n",
       "    </tr>\n",
       "    <tr>\n",
       "      <th>...</th>\n",
       "      <td>...</td>\n",
       "      <td>...</td>\n",
       "    </tr>\n",
       "    <tr>\n",
       "      <th>41</th>\n",
       "      <td>other</td>\n",
       "      <td>2</td>\n",
       "    </tr>\n",
       "    <tr>\n",
       "      <th>42</th>\n",
       "      <td>mother</td>\n",
       "      <td>0</td>\n",
       "    </tr>\n",
       "    <tr>\n",
       "      <th>43</th>\n",
       "      <td>other</td>\n",
       "      <td>2</td>\n",
       "    </tr>\n",
       "    <tr>\n",
       "      <th>44</th>\n",
       "      <td>mother</td>\n",
       "      <td>0</td>\n",
       "    </tr>\n",
       "    <tr>\n",
       "      <th>45</th>\n",
       "      <td>father</td>\n",
       "      <td>1</td>\n",
       "    </tr>\n",
       "  </tbody>\n",
       "</table>\n",
       "<p>395 rows × 2 columns</p>\n",
       "</div>"
      ],
      "text/plain": [
       "   guardian  guardian_native\n",
       "0    mother                0\n",
       "1    father                1\n",
       "2    mother                0\n",
       "3    mother                0\n",
       "4    father                1\n",
       "..      ...              ...\n",
       "41    other                2\n",
       "42   mother                0\n",
       "43    other                2\n",
       "44   mother                0\n",
       "45   father                1\n",
       "\n",
       "[395 rows x 2 columns]"
      ]
     },
     "execution_count": 69,
     "metadata": {},
     "output_type": "execute_result"
    }
   ],
   "source": [
    "data[\"guardian_native\"] = data[\"guardian\"].apply(lambda x: guardian_dict[x])# adding a new column (guardian_native) and assigning binary values (0 & 1) respectively\n",
    "data[[\"guardian\", \"guardian_native\"]] # output of the guardian and newly added (guardian_native) columns "
   ]
  },
  {
   "cell_type": "markdown",
   "metadata": {},
   "source": [
    "#### vii) Changing traveltime variables to ordinary numbers based on number of cases in the data set and adding the new column traveltime_native and its values. "
   ]
  },
  {
   "cell_type": "code",
   "execution_count": 70,
   "metadata": {},
   "outputs": [
    {
     "data": {
      "text/plain": [
       "array(['15 to 30 min.', '<15 min.', '30 min. to 1 hour', '>1 hour'],\n",
       "      dtype=object)"
      ]
     },
     "execution_count": 70,
     "metadata": {},
     "output_type": "execute_result"
    }
   ],
   "source": [
    "data_traveltime = data[\"traveltime\"].unique()  # sorting out the unique elements of traveltime column\n",
    "data_traveltime # displaying the unique element of traveltime column"
   ]
  },
  {
   "cell_type": "code",
   "execution_count": 71,
   "metadata": {},
   "outputs": [
    {
     "data": {
      "text/plain": [
       "{'15 to 30 min.': 0, '<15 min.': 1, '30 min. to 1 hour': 2, '>1 hour': 3}"
      ]
     },
     "execution_count": 71,
     "metadata": {},
     "output_type": "execute_result"
    }
   ],
   "source": [
    "traveltime_dict = dict(zip(data_traveltime,range(len(data_traveltime)))) # assigning the unique elements with binary values to traveltime elements\n",
    "traveltime_dict # displaying assigned (0 and 1) binary value output "
   ]
  },
  {
   "cell_type": "code",
   "execution_count": 72,
   "metadata": {},
   "outputs": [
    {
     "data": {
      "text/html": [
       "<div>\n",
       "<style scoped>\n",
       "    .dataframe tbody tr th:only-of-type {\n",
       "        vertical-align: middle;\n",
       "    }\n",
       "\n",
       "    .dataframe tbody tr th {\n",
       "        vertical-align: top;\n",
       "    }\n",
       "\n",
       "    .dataframe thead th {\n",
       "        text-align: right;\n",
       "    }\n",
       "</style>\n",
       "<table border=\"1\" class=\"dataframe\">\n",
       "  <thead>\n",
       "    <tr style=\"text-align: right;\">\n",
       "      <th></th>\n",
       "      <th>traveltime</th>\n",
       "      <th>traveltime_native</th>\n",
       "    </tr>\n",
       "  </thead>\n",
       "  <tbody>\n",
       "    <tr>\n",
       "      <th>0</th>\n",
       "      <td>15 to 30 min.</td>\n",
       "      <td>0</td>\n",
       "    </tr>\n",
       "    <tr>\n",
       "      <th>1</th>\n",
       "      <td>&lt;15 min.</td>\n",
       "      <td>1</td>\n",
       "    </tr>\n",
       "    <tr>\n",
       "      <th>2</th>\n",
       "      <td>&lt;15 min.</td>\n",
       "      <td>1</td>\n",
       "    </tr>\n",
       "    <tr>\n",
       "      <th>3</th>\n",
       "      <td>&lt;15 min.</td>\n",
       "      <td>1</td>\n",
       "    </tr>\n",
       "    <tr>\n",
       "      <th>4</th>\n",
       "      <td>&lt;15 min.</td>\n",
       "      <td>1</td>\n",
       "    </tr>\n",
       "    <tr>\n",
       "      <th>...</th>\n",
       "      <td>...</td>\n",
       "      <td>...</td>\n",
       "    </tr>\n",
       "    <tr>\n",
       "      <th>41</th>\n",
       "      <td>&lt;15 min.</td>\n",
       "      <td>1</td>\n",
       "    </tr>\n",
       "    <tr>\n",
       "      <th>42</th>\n",
       "      <td>15 to 30 min.</td>\n",
       "      <td>0</td>\n",
       "    </tr>\n",
       "    <tr>\n",
       "      <th>43</th>\n",
       "      <td>&lt;15 min.</td>\n",
       "      <td>1</td>\n",
       "    </tr>\n",
       "    <tr>\n",
       "      <th>44</th>\n",
       "      <td>30 min. to 1 hour</td>\n",
       "      <td>2</td>\n",
       "    </tr>\n",
       "    <tr>\n",
       "      <th>45</th>\n",
       "      <td>&lt;15 min.</td>\n",
       "      <td>1</td>\n",
       "    </tr>\n",
       "  </tbody>\n",
       "</table>\n",
       "<p>395 rows × 2 columns</p>\n",
       "</div>"
      ],
      "text/plain": [
       "           traveltime  traveltime_native\n",
       "0       15 to 30 min.                  0\n",
       "1            <15 min.                  1\n",
       "2            <15 min.                  1\n",
       "3            <15 min.                  1\n",
       "4            <15 min.                  1\n",
       "..                ...                ...\n",
       "41           <15 min.                  1\n",
       "42      15 to 30 min.                  0\n",
       "43           <15 min.                  1\n",
       "44  30 min. to 1 hour                  2\n",
       "45           <15 min.                  1\n",
       "\n",
       "[395 rows x 2 columns]"
      ]
     },
     "execution_count": 72,
     "metadata": {},
     "output_type": "execute_result"
    }
   ],
   "source": [
    "data[\"traveltime_native\"] = data[\"traveltime\"].apply(lambda x: traveltime_dict[x])# adding a new column (traveltime_native) and assigning binary values (0 & 1) respectively\n",
    "data[[\"traveltime\", \"traveltime_native\"]] # output of the traveltime and newly added (traveltime_native) columns "
   ]
  },
  {
   "cell_type": "markdown",
   "metadata": {},
   "source": [
    "#### viii) Changing studytime variables to ordinary numbers based on number of cases in the data set and adding the new column studytime_native and its values. "
   ]
  },
  {
   "cell_type": "code",
   "execution_count": 73,
   "metadata": {},
   "outputs": [
    {
     "data": {
      "text/plain": [
       "array(['2 to 5 hours', '5 to 10 hours', '<2 hours', '>10 hours'],\n",
       "      dtype=object)"
      ]
     },
     "execution_count": 73,
     "metadata": {},
     "output_type": "execute_result"
    }
   ],
   "source": [
    "data_studytime = data[\"studytime\"].unique()  # sorting out the unique elements of studytime column\n",
    "data_studytime # displaying the unique element of studytime column"
   ]
  },
  {
   "cell_type": "code",
   "execution_count": 74,
   "metadata": {},
   "outputs": [
    {
     "data": {
      "text/plain": [
       "{'2 to 5 hours': 0, '5 to 10 hours': 1, '<2 hours': 2, '>10 hours': 3}"
      ]
     },
     "execution_count": 74,
     "metadata": {},
     "output_type": "execute_result"
    }
   ],
   "source": [
    "studytime_dict = dict(zip(data_studytime,range(len(data_studytime)))) # assigning the unique elements with binary values to studytime elements\n",
    "studytime_dict # displaying assigned (0 and 1) binary value output "
   ]
  },
  {
   "cell_type": "code",
   "execution_count": 75,
   "metadata": {},
   "outputs": [
    {
     "data": {
      "text/html": [
       "<div>\n",
       "<style scoped>\n",
       "    .dataframe tbody tr th:only-of-type {\n",
       "        vertical-align: middle;\n",
       "    }\n",
       "\n",
       "    .dataframe tbody tr th {\n",
       "        vertical-align: top;\n",
       "    }\n",
       "\n",
       "    .dataframe thead th {\n",
       "        text-align: right;\n",
       "    }\n",
       "</style>\n",
       "<table border=\"1\" class=\"dataframe\">\n",
       "  <thead>\n",
       "    <tr style=\"text-align: right;\">\n",
       "      <th></th>\n",
       "      <th>studytime</th>\n",
       "      <th>studytime_native</th>\n",
       "    </tr>\n",
       "  </thead>\n",
       "  <tbody>\n",
       "    <tr>\n",
       "      <th>0</th>\n",
       "      <td>2 to 5 hours</td>\n",
       "      <td>0</td>\n",
       "    </tr>\n",
       "    <tr>\n",
       "      <th>1</th>\n",
       "      <td>2 to 5 hours</td>\n",
       "      <td>0</td>\n",
       "    </tr>\n",
       "    <tr>\n",
       "      <th>2</th>\n",
       "      <td>2 to 5 hours</td>\n",
       "      <td>0</td>\n",
       "    </tr>\n",
       "    <tr>\n",
       "      <th>3</th>\n",
       "      <td>5 to 10 hours</td>\n",
       "      <td>1</td>\n",
       "    </tr>\n",
       "    <tr>\n",
       "      <th>4</th>\n",
       "      <td>2 to 5 hours</td>\n",
       "      <td>0</td>\n",
       "    </tr>\n",
       "    <tr>\n",
       "      <th>...</th>\n",
       "      <td>...</td>\n",
       "      <td>...</td>\n",
       "    </tr>\n",
       "    <tr>\n",
       "      <th>41</th>\n",
       "      <td>2 to 5 hours</td>\n",
       "      <td>0</td>\n",
       "    </tr>\n",
       "    <tr>\n",
       "      <th>42</th>\n",
       "      <td>&lt;2 hours</td>\n",
       "      <td>2</td>\n",
       "    </tr>\n",
       "    <tr>\n",
       "      <th>43</th>\n",
       "      <td>&lt;2 hours</td>\n",
       "      <td>2</td>\n",
       "    </tr>\n",
       "    <tr>\n",
       "      <th>44</th>\n",
       "      <td>&lt;2 hours</td>\n",
       "      <td>2</td>\n",
       "    </tr>\n",
       "    <tr>\n",
       "      <th>45</th>\n",
       "      <td>&lt;2 hours</td>\n",
       "      <td>2</td>\n",
       "    </tr>\n",
       "  </tbody>\n",
       "</table>\n",
       "<p>395 rows × 2 columns</p>\n",
       "</div>"
      ],
      "text/plain": [
       "        studytime  studytime_native\n",
       "0    2 to 5 hours                 0\n",
       "1    2 to 5 hours                 0\n",
       "2    2 to 5 hours                 0\n",
       "3   5 to 10 hours                 1\n",
       "4    2 to 5 hours                 0\n",
       "..            ...               ...\n",
       "41   2 to 5 hours                 0\n",
       "42       <2 hours                 2\n",
       "43       <2 hours                 2\n",
       "44       <2 hours                 2\n",
       "45       <2 hours                 2\n",
       "\n",
       "[395 rows x 2 columns]"
      ]
     },
     "execution_count": 75,
     "metadata": {},
     "output_type": "execute_result"
    }
   ],
   "source": [
    "data[\"studytime_native\"] = data[\"studytime\"].apply(lambda x: studytime_dict[x])# adding a new column (studytime_native) and assigning binary values (0 & 1) respectively\n",
    "data[[\"studytime\", \"studytime_native\"]] # output of the studytime and newly added (studytime_native) columns "
   ]
  },
  {
   "cell_type": "markdown",
   "metadata": {},
   "source": [
    "#### ix) Changing famrel variables to ordinary numbers based on number of cases in the data set and adding the new column famrel_native and its values. "
   ]
  },
  {
   "cell_type": "code",
   "execution_count": 76,
   "metadata": {},
   "outputs": [
    {
     "data": {
      "text/plain": [
       "array(['very good', 'excellent', 'good', 'very bad', 'bad'], dtype=object)"
      ]
     },
     "execution_count": 76,
     "metadata": {},
     "output_type": "execute_result"
    }
   ],
   "source": [
    "data_famrel = data[\"famrel\"].unique()  # sorting out the unique elements of famrel column\n",
    "data_famrel # displaying the unique element of famrel column"
   ]
  },
  {
   "cell_type": "code",
   "execution_count": 77,
   "metadata": {},
   "outputs": [
    {
     "data": {
      "text/plain": [
       "{'very good': 0, 'excellent': 1, 'good': 2, 'very bad': 3, 'bad': 4}"
      ]
     },
     "execution_count": 77,
     "metadata": {},
     "output_type": "execute_result"
    }
   ],
   "source": [
    "famrel_dict = dict(zip(data_famrel,range(len(data_famrel)))) # assigning the unique elements with binary values to famrel elements\n",
    "famrel_dict # displaying assigned (0 and 1) binary value output "
   ]
  },
  {
   "cell_type": "code",
   "execution_count": 78,
   "metadata": {},
   "outputs": [
    {
     "data": {
      "text/html": [
       "<div>\n",
       "<style scoped>\n",
       "    .dataframe tbody tr th:only-of-type {\n",
       "        vertical-align: middle;\n",
       "    }\n",
       "\n",
       "    .dataframe tbody tr th {\n",
       "        vertical-align: top;\n",
       "    }\n",
       "\n",
       "    .dataframe thead th {\n",
       "        text-align: right;\n",
       "    }\n",
       "</style>\n",
       "<table border=\"1\" class=\"dataframe\">\n",
       "  <thead>\n",
       "    <tr style=\"text-align: right;\">\n",
       "      <th></th>\n",
       "      <th>famrel</th>\n",
       "      <th>famrel_native</th>\n",
       "    </tr>\n",
       "  </thead>\n",
       "  <tbody>\n",
       "    <tr>\n",
       "      <th>0</th>\n",
       "      <td>very good</td>\n",
       "      <td>0</td>\n",
       "    </tr>\n",
       "    <tr>\n",
       "      <th>1</th>\n",
       "      <td>excellent</td>\n",
       "      <td>1</td>\n",
       "    </tr>\n",
       "    <tr>\n",
       "      <th>2</th>\n",
       "      <td>very good</td>\n",
       "      <td>0</td>\n",
       "    </tr>\n",
       "    <tr>\n",
       "      <th>3</th>\n",
       "      <td>good</td>\n",
       "      <td>2</td>\n",
       "    </tr>\n",
       "    <tr>\n",
       "      <th>4</th>\n",
       "      <td>very good</td>\n",
       "      <td>0</td>\n",
       "    </tr>\n",
       "    <tr>\n",
       "      <th>...</th>\n",
       "      <td>...</td>\n",
       "      <td>...</td>\n",
       "    </tr>\n",
       "    <tr>\n",
       "      <th>41</th>\n",
       "      <td>excellent</td>\n",
       "      <td>1</td>\n",
       "    </tr>\n",
       "    <tr>\n",
       "      <th>42</th>\n",
       "      <td>bad</td>\n",
       "      <td>4</td>\n",
       "    </tr>\n",
       "    <tr>\n",
       "      <th>43</th>\n",
       "      <td>excellent</td>\n",
       "      <td>1</td>\n",
       "    </tr>\n",
       "    <tr>\n",
       "      <th>44</th>\n",
       "      <td>very good</td>\n",
       "      <td>0</td>\n",
       "    </tr>\n",
       "    <tr>\n",
       "      <th>45</th>\n",
       "      <td>good</td>\n",
       "      <td>2</td>\n",
       "    </tr>\n",
       "  </tbody>\n",
       "</table>\n",
       "<p>395 rows × 2 columns</p>\n",
       "</div>"
      ],
      "text/plain": [
       "       famrel  famrel_native\n",
       "0   very good              0\n",
       "1   excellent              1\n",
       "2   very good              0\n",
       "3        good              2\n",
       "4   very good              0\n",
       "..        ...            ...\n",
       "41  excellent              1\n",
       "42        bad              4\n",
       "43  excellent              1\n",
       "44  very good              0\n",
       "45       good              2\n",
       "\n",
       "[395 rows x 2 columns]"
      ]
     },
     "execution_count": 78,
     "metadata": {},
     "output_type": "execute_result"
    }
   ],
   "source": [
    "data[\"famrel_native\"] = data[\"famrel\"].apply(lambda x: famrel_dict[x])# adding a new column (famrel_native) and assigning binary values (0 & 1) respectively\n",
    "data[[\"famrel\", \"famrel_native\"]] # output of the famrel and newly added (famrel_native) columns "
   ]
  },
  {
   "cell_type": "markdown",
   "metadata": {},
   "source": [
    "#### x) Changing freetime variables to ordinary numbers based on number of cases in the data set and adding the new column freetime_native and its values. "
   ]
  },
  {
   "cell_type": "code",
   "execution_count": 79,
   "metadata": {},
   "outputs": [
    {
     "data": {
      "text/plain": [
       "array(['medium', 'low', 'high', 'very low', 'very high'], dtype=object)"
      ]
     },
     "execution_count": 79,
     "metadata": {},
     "output_type": "execute_result"
    }
   ],
   "source": [
    "data_freetime = data[\"freetime\"].unique()  # sorting out the unique elements of freetime column\n",
    "data_freetime # displaying the unique element of freetime column"
   ]
  },
  {
   "cell_type": "code",
   "execution_count": 80,
   "metadata": {},
   "outputs": [
    {
     "data": {
      "text/plain": [
       "{'medium': 0, 'low': 1, 'high': 2, 'very low': 3, 'very high': 4}"
      ]
     },
     "execution_count": 80,
     "metadata": {},
     "output_type": "execute_result"
    }
   ],
   "source": [
    "freetime_dict = dict(zip(data_freetime,range(len(data_freetime)))) # assigning the unique elements with binary values to freetime elements\n",
    "freetime_dict # displaying assigned (0 and 1) binary value output "
   ]
  },
  {
   "cell_type": "code",
   "execution_count": 81,
   "metadata": {},
   "outputs": [
    {
     "data": {
      "text/html": [
       "<div>\n",
       "<style scoped>\n",
       "    .dataframe tbody tr th:only-of-type {\n",
       "        vertical-align: middle;\n",
       "    }\n",
       "\n",
       "    .dataframe tbody tr th {\n",
       "        vertical-align: top;\n",
       "    }\n",
       "\n",
       "    .dataframe thead th {\n",
       "        text-align: right;\n",
       "    }\n",
       "</style>\n",
       "<table border=\"1\" class=\"dataframe\">\n",
       "  <thead>\n",
       "    <tr style=\"text-align: right;\">\n",
       "      <th></th>\n",
       "      <th>freetime</th>\n",
       "      <th>freetime_native</th>\n",
       "    </tr>\n",
       "  </thead>\n",
       "  <tbody>\n",
       "    <tr>\n",
       "      <th>0</th>\n",
       "      <td>medium</td>\n",
       "      <td>0</td>\n",
       "    </tr>\n",
       "    <tr>\n",
       "      <th>1</th>\n",
       "      <td>medium</td>\n",
       "      <td>0</td>\n",
       "    </tr>\n",
       "    <tr>\n",
       "      <th>2</th>\n",
       "      <td>medium</td>\n",
       "      <td>0</td>\n",
       "    </tr>\n",
       "    <tr>\n",
       "      <th>3</th>\n",
       "      <td>low</td>\n",
       "      <td>1</td>\n",
       "    </tr>\n",
       "    <tr>\n",
       "      <th>4</th>\n",
       "      <td>medium</td>\n",
       "      <td>0</td>\n",
       "    </tr>\n",
       "    <tr>\n",
       "      <th>...</th>\n",
       "      <td>...</td>\n",
       "      <td>...</td>\n",
       "    </tr>\n",
       "    <tr>\n",
       "      <th>41</th>\n",
       "      <td>very high</td>\n",
       "      <td>4</td>\n",
       "    </tr>\n",
       "    <tr>\n",
       "      <th>42</th>\n",
       "      <td>high</td>\n",
       "      <td>2</td>\n",
       "    </tr>\n",
       "    <tr>\n",
       "      <th>43</th>\n",
       "      <td>very high</td>\n",
       "      <td>4</td>\n",
       "    </tr>\n",
       "    <tr>\n",
       "      <th>44</th>\n",
       "      <td>high</td>\n",
       "      <td>2</td>\n",
       "    </tr>\n",
       "    <tr>\n",
       "      <th>45</th>\n",
       "      <td>low</td>\n",
       "      <td>1</td>\n",
       "    </tr>\n",
       "  </tbody>\n",
       "</table>\n",
       "<p>395 rows × 2 columns</p>\n",
       "</div>"
      ],
      "text/plain": [
       "     freetime  freetime_native\n",
       "0      medium                0\n",
       "1      medium                0\n",
       "2      medium                0\n",
       "3         low                1\n",
       "4      medium                0\n",
       "..        ...              ...\n",
       "41  very high                4\n",
       "42       high                2\n",
       "43  very high                4\n",
       "44       high                2\n",
       "45        low                1\n",
       "\n",
       "[395 rows x 2 columns]"
      ]
     },
     "execution_count": 81,
     "metadata": {},
     "output_type": "execute_result"
    }
   ],
   "source": [
    "data[\"freetime_native\"] = data[\"freetime\"].apply(lambda x: freetime_dict[x])# adding a new column (freetime_native) and assigning binary values (0 & 1) respectively\n",
    "data[[\"freetime\", \"freetime_native\"]] # output of the freetime and newly added (freetime_native) columns "
   ]
  },
  {
   "cell_type": "markdown",
   "metadata": {},
   "source": [
    "#### xi) Changing goout variables to ordinary numbers based on number of cases in the data set and adding the new column goout_native and its values. "
   ]
  },
  {
   "cell_type": "code",
   "execution_count": 82,
   "metadata": {},
   "outputs": [
    {
     "data": {
      "text/plain": [
       "array(['high', 'medium', 'low', 'very low', 'very high'], dtype=object)"
      ]
     },
     "execution_count": 82,
     "metadata": {},
     "output_type": "execute_result"
    }
   ],
   "source": [
    "data_goout = data[\"goout\"].unique()  # sorting out the unique elements of goout column\n",
    "data_goout # displaying the unique element of goout column"
   ]
  },
  {
   "cell_type": "code",
   "execution_count": 83,
   "metadata": {},
   "outputs": [
    {
     "data": {
      "text/plain": [
       "{'high': 0, 'medium': 1, 'low': 2, 'very low': 3, 'very high': 4}"
      ]
     },
     "execution_count": 83,
     "metadata": {},
     "output_type": "execute_result"
    }
   ],
   "source": [
    "goout_dict = dict(zip(data_goout,range(len(data_goout)))) # assigning the unique elements with binary values to goout elements\n",
    "goout_dict # displaying assigned (0 and 1) binary value output "
   ]
  },
  {
   "cell_type": "code",
   "execution_count": 84,
   "metadata": {},
   "outputs": [
    {
     "data": {
      "text/html": [
       "<div>\n",
       "<style scoped>\n",
       "    .dataframe tbody tr th:only-of-type {\n",
       "        vertical-align: middle;\n",
       "    }\n",
       "\n",
       "    .dataframe tbody tr th {\n",
       "        vertical-align: top;\n",
       "    }\n",
       "\n",
       "    .dataframe thead th {\n",
       "        text-align: right;\n",
       "    }\n",
       "</style>\n",
       "<table border=\"1\" class=\"dataframe\">\n",
       "  <thead>\n",
       "    <tr style=\"text-align: right;\">\n",
       "      <th></th>\n",
       "      <th>goout</th>\n",
       "      <th>goout_native</th>\n",
       "    </tr>\n",
       "  </thead>\n",
       "  <tbody>\n",
       "    <tr>\n",
       "      <th>0</th>\n",
       "      <td>high</td>\n",
       "      <td>0</td>\n",
       "    </tr>\n",
       "    <tr>\n",
       "      <th>1</th>\n",
       "      <td>medium</td>\n",
       "      <td>1</td>\n",
       "    </tr>\n",
       "    <tr>\n",
       "      <th>2</th>\n",
       "      <td>low</td>\n",
       "      <td>2</td>\n",
       "    </tr>\n",
       "    <tr>\n",
       "      <th>3</th>\n",
       "      <td>low</td>\n",
       "      <td>2</td>\n",
       "    </tr>\n",
       "    <tr>\n",
       "      <th>4</th>\n",
       "      <td>low</td>\n",
       "      <td>2</td>\n",
       "    </tr>\n",
       "    <tr>\n",
       "      <th>...</th>\n",
       "      <td>...</td>\n",
       "      <td>...</td>\n",
       "    </tr>\n",
       "    <tr>\n",
       "      <th>41</th>\n",
       "      <td>high</td>\n",
       "      <td>0</td>\n",
       "    </tr>\n",
       "    <tr>\n",
       "      <th>42</th>\n",
       "      <td>very high</td>\n",
       "      <td>4</td>\n",
       "    </tr>\n",
       "    <tr>\n",
       "      <th>43</th>\n",
       "      <td>medium</td>\n",
       "      <td>1</td>\n",
       "    </tr>\n",
       "    <tr>\n",
       "      <th>44</th>\n",
       "      <td>very low</td>\n",
       "      <td>3</td>\n",
       "    </tr>\n",
       "    <tr>\n",
       "      <th>45</th>\n",
       "      <td>medium</td>\n",
       "      <td>1</td>\n",
       "    </tr>\n",
       "  </tbody>\n",
       "</table>\n",
       "<p>395 rows × 2 columns</p>\n",
       "</div>"
      ],
      "text/plain": [
       "        goout  goout_native\n",
       "0        high             0\n",
       "1      medium             1\n",
       "2         low             2\n",
       "3         low             2\n",
       "4         low             2\n",
       "..        ...           ...\n",
       "41       high             0\n",
       "42  very high             4\n",
       "43     medium             1\n",
       "44   very low             3\n",
       "45     medium             1\n",
       "\n",
       "[395 rows x 2 columns]"
      ]
     },
     "execution_count": 84,
     "metadata": {},
     "output_type": "execute_result"
    }
   ],
   "source": [
    "data[\"goout_native\"] = data[\"goout\"].apply(lambda x: goout_dict[x])# adding a new column (goout_native) and assigning binary values (0 & 1) respectively\n",
    "data[[\"goout\", \"goout_native\"]] # output of the goout and newly added (goout_native) columns "
   ]
  },
  {
   "cell_type": "markdown",
   "metadata": {},
   "source": [
    "#### xii) Changing Dalc variables to ordinary numbers based on number of cases in the data set and adding the new column Dalc_native and its values. "
   ]
  },
  {
   "cell_type": "code",
   "execution_count": 85,
   "metadata": {},
   "outputs": [
    {
     "data": {
      "text/plain": [
       "array(['very low', 'low', 'very high', 'medium', 'high'], dtype=object)"
      ]
     },
     "execution_count": 85,
     "metadata": {},
     "output_type": "execute_result"
    }
   ],
   "source": [
    "data_Dalc = data[\"Dalc\"].unique()  # sorting out the unique elements of Dalc column\n",
    "data_Dalc # displaying the unique element of Dalc column"
   ]
  },
  {
   "cell_type": "code",
   "execution_count": 86,
   "metadata": {},
   "outputs": [
    {
     "data": {
      "text/plain": [
       "{'very low': 0, 'low': 1, 'very high': 2, 'medium': 3, 'high': 4}"
      ]
     },
     "execution_count": 86,
     "metadata": {},
     "output_type": "execute_result"
    }
   ],
   "source": [
    "Dalc_dict = dict(zip(data_Dalc,range(len(data_Dalc)))) # assigning the unique elements with binary values to Dalc elements\n",
    "Dalc_dict # displaying assigned (0 and 1) binary value output "
   ]
  },
  {
   "cell_type": "code",
   "execution_count": 87,
   "metadata": {},
   "outputs": [
    {
     "data": {
      "text/html": [
       "<div>\n",
       "<style scoped>\n",
       "    .dataframe tbody tr th:only-of-type {\n",
       "        vertical-align: middle;\n",
       "    }\n",
       "\n",
       "    .dataframe tbody tr th {\n",
       "        vertical-align: top;\n",
       "    }\n",
       "\n",
       "    .dataframe thead th {\n",
       "        text-align: right;\n",
       "    }\n",
       "</style>\n",
       "<table border=\"1\" class=\"dataframe\">\n",
       "  <thead>\n",
       "    <tr style=\"text-align: right;\">\n",
       "      <th></th>\n",
       "      <th>Dalc</th>\n",
       "      <th>Dalc_native</th>\n",
       "    </tr>\n",
       "  </thead>\n",
       "  <tbody>\n",
       "    <tr>\n",
       "      <th>0</th>\n",
       "      <td>very low</td>\n",
       "      <td>0</td>\n",
       "    </tr>\n",
       "    <tr>\n",
       "      <th>1</th>\n",
       "      <td>very low</td>\n",
       "      <td>0</td>\n",
       "    </tr>\n",
       "    <tr>\n",
       "      <th>2</th>\n",
       "      <td>low</td>\n",
       "      <td>1</td>\n",
       "    </tr>\n",
       "    <tr>\n",
       "      <th>3</th>\n",
       "      <td>very low</td>\n",
       "      <td>0</td>\n",
       "    </tr>\n",
       "    <tr>\n",
       "      <th>4</th>\n",
       "      <td>very low</td>\n",
       "      <td>0</td>\n",
       "    </tr>\n",
       "    <tr>\n",
       "      <th>...</th>\n",
       "      <td>...</td>\n",
       "      <td>...</td>\n",
       "    </tr>\n",
       "    <tr>\n",
       "      <th>41</th>\n",
       "      <td>high</td>\n",
       "      <td>4</td>\n",
       "    </tr>\n",
       "    <tr>\n",
       "      <th>42</th>\n",
       "      <td>medium</td>\n",
       "      <td>3</td>\n",
       "    </tr>\n",
       "    <tr>\n",
       "      <th>43</th>\n",
       "      <td>medium</td>\n",
       "      <td>3</td>\n",
       "    </tr>\n",
       "    <tr>\n",
       "      <th>44</th>\n",
       "      <td>medium</td>\n",
       "      <td>3</td>\n",
       "    </tr>\n",
       "    <tr>\n",
       "      <th>45</th>\n",
       "      <td>medium</td>\n",
       "      <td>3</td>\n",
       "    </tr>\n",
       "  </tbody>\n",
       "</table>\n",
       "<p>395 rows × 2 columns</p>\n",
       "</div>"
      ],
      "text/plain": [
       "        Dalc  Dalc_native\n",
       "0   very low            0\n",
       "1   very low            0\n",
       "2        low            1\n",
       "3   very low            0\n",
       "4   very low            0\n",
       "..       ...          ...\n",
       "41      high            4\n",
       "42    medium            3\n",
       "43    medium            3\n",
       "44    medium            3\n",
       "45    medium            3\n",
       "\n",
       "[395 rows x 2 columns]"
      ]
     },
     "execution_count": 87,
     "metadata": {},
     "output_type": "execute_result"
    }
   ],
   "source": [
    "data[\"Dalc_native\"] = data[\"Dalc\"].apply(lambda x: Dalc_dict[x])# adding a new column (Dalc_native) and assigning binary values (0 & 1) respectively\n",
    "data[[\"Dalc\", \"Dalc_native\"]] # output of the Dalc and newly added (Dalc_native) columns "
   ]
  },
  {
   "cell_type": "markdown",
   "metadata": {},
   "source": [
    "#### xiii) Changing Walc variables to ordinary numbers based on number of cases in the data set and adding the new column Walc_native and its values. "
   ]
  },
  {
   "cell_type": "code",
   "execution_count": 88,
   "metadata": {},
   "outputs": [
    {
     "data": {
      "text/plain": [
       "array(['very low', 'medium', 'low', 'high', 'very high'], dtype=object)"
      ]
     },
     "execution_count": 88,
     "metadata": {},
     "output_type": "execute_result"
    }
   ],
   "source": [
    "data_Walc = data[\"Walc\"].unique()  # sorting out the unique elements of Walc column\n",
    "data_Walc # displaying the unique element of Walc column"
   ]
  },
  {
   "cell_type": "code",
   "execution_count": 89,
   "metadata": {},
   "outputs": [
    {
     "data": {
      "text/plain": [
       "{'very low': 0, 'medium': 1, 'low': 2, 'high': 3, 'very high': 4}"
      ]
     },
     "execution_count": 89,
     "metadata": {},
     "output_type": "execute_result"
    }
   ],
   "source": [
    "Walc_dict = dict(zip(data_Walc,range(len(data_Walc)))) # assigning the unique elements with binary values to Walc elements\n",
    "Walc_dict # displaying assigned (0 and 1) binary value output "
   ]
  },
  {
   "cell_type": "code",
   "execution_count": 90,
   "metadata": {},
   "outputs": [
    {
     "data": {
      "text/html": [
       "<div>\n",
       "<style scoped>\n",
       "    .dataframe tbody tr th:only-of-type {\n",
       "        vertical-align: middle;\n",
       "    }\n",
       "\n",
       "    .dataframe tbody tr th {\n",
       "        vertical-align: top;\n",
       "    }\n",
       "\n",
       "    .dataframe thead th {\n",
       "        text-align: right;\n",
       "    }\n",
       "</style>\n",
       "<table border=\"1\" class=\"dataframe\">\n",
       "  <thead>\n",
       "    <tr style=\"text-align: right;\">\n",
       "      <th></th>\n",
       "      <th>Walc</th>\n",
       "      <th>Walc_native</th>\n",
       "    </tr>\n",
       "  </thead>\n",
       "  <tbody>\n",
       "    <tr>\n",
       "      <th>0</th>\n",
       "      <td>very low</td>\n",
       "      <td>0</td>\n",
       "    </tr>\n",
       "    <tr>\n",
       "      <th>1</th>\n",
       "      <td>very low</td>\n",
       "      <td>0</td>\n",
       "    </tr>\n",
       "    <tr>\n",
       "      <th>2</th>\n",
       "      <td>medium</td>\n",
       "      <td>1</td>\n",
       "    </tr>\n",
       "    <tr>\n",
       "      <th>3</th>\n",
       "      <td>very low</td>\n",
       "      <td>0</td>\n",
       "    </tr>\n",
       "    <tr>\n",
       "      <th>4</th>\n",
       "      <td>low</td>\n",
       "      <td>2</td>\n",
       "    </tr>\n",
       "    <tr>\n",
       "      <th>...</th>\n",
       "      <td>...</td>\n",
       "      <td>...</td>\n",
       "    </tr>\n",
       "    <tr>\n",
       "      <th>41</th>\n",
       "      <td>very high</td>\n",
       "      <td>4</td>\n",
       "    </tr>\n",
       "    <tr>\n",
       "      <th>42</th>\n",
       "      <td>high</td>\n",
       "      <td>3</td>\n",
       "    </tr>\n",
       "    <tr>\n",
       "      <th>43</th>\n",
       "      <td>medium</td>\n",
       "      <td>1</td>\n",
       "    </tr>\n",
       "    <tr>\n",
       "      <th>44</th>\n",
       "      <td>high</td>\n",
       "      <td>3</td>\n",
       "    </tr>\n",
       "    <tr>\n",
       "      <th>45</th>\n",
       "      <td>medium</td>\n",
       "      <td>1</td>\n",
       "    </tr>\n",
       "  </tbody>\n",
       "</table>\n",
       "<p>395 rows × 2 columns</p>\n",
       "</div>"
      ],
      "text/plain": [
       "         Walc  Walc_native\n",
       "0    very low            0\n",
       "1    very low            0\n",
       "2      medium            1\n",
       "3    very low            0\n",
       "4         low            2\n",
       "..        ...          ...\n",
       "41  very high            4\n",
       "42       high            3\n",
       "43     medium            1\n",
       "44       high            3\n",
       "45     medium            1\n",
       "\n",
       "[395 rows x 2 columns]"
      ]
     },
     "execution_count": 90,
     "metadata": {},
     "output_type": "execute_result"
    }
   ],
   "source": [
    "data[\"Walc_native\"] = data[\"Walc\"].apply(lambda x: Walc_dict[x])# adding a new column (Walc_native) and assigning binary values (0 & 1) respectively\n",
    "data[[\"Walc\", \"Walc_native\"]] # output of the Walc and newly added (Walc_native) columns "
   ]
  },
  {
   "cell_type": "markdown",
   "metadata": {},
   "source": [
    "#### xiv) Changing health variables to ordinary numbers based on number of cases in the data set and adding the new column health_native and its values. "
   ]
  },
  {
   "cell_type": "code",
   "execution_count": 91,
   "metadata": {},
   "outputs": [
    {
     "data": {
      "text/plain": [
       "array(['good', 'excellent', 'very bad', 'bad', 'very good'], dtype=object)"
      ]
     },
     "execution_count": 91,
     "metadata": {},
     "output_type": "execute_result"
    }
   ],
   "source": [
    "data_health = data[\"health\"].unique()  # sorting out the unique elements of health column\n",
    "data_health # displaying the unique element of health column"
   ]
  },
  {
   "cell_type": "code",
   "execution_count": 92,
   "metadata": {},
   "outputs": [
    {
     "data": {
      "text/plain": [
       "{'good': 0, 'excellent': 1, 'very bad': 2, 'bad': 3, 'very good': 4}"
      ]
     },
     "execution_count": 92,
     "metadata": {},
     "output_type": "execute_result"
    }
   ],
   "source": [
    "health_dict = dict(zip(data_health,range(len(data_health)))) # assigning the unique elements with binary values to health elements\n",
    "health_dict # displaying assigned (0 and 1) binary value output "
   ]
  },
  {
   "cell_type": "code",
   "execution_count": 93,
   "metadata": {},
   "outputs": [
    {
     "data": {
      "text/html": [
       "<div>\n",
       "<style scoped>\n",
       "    .dataframe tbody tr th:only-of-type {\n",
       "        vertical-align: middle;\n",
       "    }\n",
       "\n",
       "    .dataframe tbody tr th {\n",
       "        vertical-align: top;\n",
       "    }\n",
       "\n",
       "    .dataframe thead th {\n",
       "        text-align: right;\n",
       "    }\n",
       "</style>\n",
       "<table border=\"1\" class=\"dataframe\">\n",
       "  <thead>\n",
       "    <tr style=\"text-align: right;\">\n",
       "      <th></th>\n",
       "      <th>health</th>\n",
       "      <th>health_native</th>\n",
       "    </tr>\n",
       "  </thead>\n",
       "  <tbody>\n",
       "    <tr>\n",
       "      <th>0</th>\n",
       "      <td>good</td>\n",
       "      <td>0</td>\n",
       "    </tr>\n",
       "    <tr>\n",
       "      <th>1</th>\n",
       "      <td>good</td>\n",
       "      <td>0</td>\n",
       "    </tr>\n",
       "    <tr>\n",
       "      <th>2</th>\n",
       "      <td>good</td>\n",
       "      <td>0</td>\n",
       "    </tr>\n",
       "    <tr>\n",
       "      <th>3</th>\n",
       "      <td>excellent</td>\n",
       "      <td>1</td>\n",
       "    </tr>\n",
       "    <tr>\n",
       "      <th>4</th>\n",
       "      <td>excellent</td>\n",
       "      <td>1</td>\n",
       "    </tr>\n",
       "    <tr>\n",
       "      <th>...</th>\n",
       "      <td>...</td>\n",
       "      <td>...</td>\n",
       "    </tr>\n",
       "    <tr>\n",
       "      <th>41</th>\n",
       "      <td>very good</td>\n",
       "      <td>4</td>\n",
       "    </tr>\n",
       "    <tr>\n",
       "      <th>42</th>\n",
       "      <td>bad</td>\n",
       "      <td>3</td>\n",
       "    </tr>\n",
       "    <tr>\n",
       "      <th>43</th>\n",
       "      <td>good</td>\n",
       "      <td>0</td>\n",
       "    </tr>\n",
       "    <tr>\n",
       "      <th>44</th>\n",
       "      <td>excellent</td>\n",
       "      <td>1</td>\n",
       "    </tr>\n",
       "    <tr>\n",
       "      <th>45</th>\n",
       "      <td>excellent</td>\n",
       "      <td>1</td>\n",
       "    </tr>\n",
       "  </tbody>\n",
       "</table>\n",
       "<p>395 rows × 2 columns</p>\n",
       "</div>"
      ],
      "text/plain": [
       "       health  health_native\n",
       "0        good              0\n",
       "1        good              0\n",
       "2        good              0\n",
       "3   excellent              1\n",
       "4   excellent              1\n",
       "..        ...            ...\n",
       "41  very good              4\n",
       "42        bad              3\n",
       "43       good              0\n",
       "44  excellent              1\n",
       "45  excellent              1\n",
       "\n",
       "[395 rows x 2 columns]"
      ]
     },
     "execution_count": 93,
     "metadata": {},
     "output_type": "execute_result"
    }
   ],
   "source": [
    "data[\"health_native\"] = data[\"health\"].apply(lambda x: health_dict[x])# adding a new column (health_native) and assigning binary values (0 & 1) respectively\n",
    "data[[\"health\", \"health_native\"]] # output of the health and newly added (health_native) columns "
   ]
  },
  {
   "cell_type": "markdown",
   "metadata": {},
   "source": [
    "#### c) create a new column named age_category whose values should be based on the values in the age column, divide the values into 3 ordinal numbers; 1 – 15 to 17, 2 – 18 to 20, 3 – 21 and over (1.5 marks)\n"
   ]
  },
  {
   "cell_type": "code",
   "execution_count": 94,
   "metadata": {},
   "outputs": [
    {
     "data": {
      "text/html": [
       "<div>\n",
       "<style scoped>\n",
       "    .dataframe tbody tr th:only-of-type {\n",
       "        vertical-align: middle;\n",
       "    }\n",
       "\n",
       "    .dataframe tbody tr th {\n",
       "        vertical-align: top;\n",
       "    }\n",
       "\n",
       "    .dataframe thead th {\n",
       "        text-align: right;\n",
       "    }\n",
       "</style>\n",
       "<table border=\"1\" class=\"dataframe\">\n",
       "  <thead>\n",
       "    <tr style=\"text-align: right;\">\n",
       "      <th></th>\n",
       "      <th>age</th>\n",
       "      <th>age_category</th>\n",
       "    </tr>\n",
       "  </thead>\n",
       "  <tbody>\n",
       "    <tr>\n",
       "      <th>0</th>\n",
       "      <td>18</td>\n",
       "      <td>2</td>\n",
       "    </tr>\n",
       "    <tr>\n",
       "      <th>1</th>\n",
       "      <td>17</td>\n",
       "      <td>1</td>\n",
       "    </tr>\n",
       "    <tr>\n",
       "      <th>2</th>\n",
       "      <td>15</td>\n",
       "      <td>1</td>\n",
       "    </tr>\n",
       "    <tr>\n",
       "      <th>3</th>\n",
       "      <td>15</td>\n",
       "      <td>1</td>\n",
       "    </tr>\n",
       "    <tr>\n",
       "      <th>4</th>\n",
       "      <td>16</td>\n",
       "      <td>1</td>\n",
       "    </tr>\n",
       "    <tr>\n",
       "      <th>...</th>\n",
       "      <td>...</td>\n",
       "      <td>...</td>\n",
       "    </tr>\n",
       "    <tr>\n",
       "      <th>41</th>\n",
       "      <td>20</td>\n",
       "      <td>2</td>\n",
       "    </tr>\n",
       "    <tr>\n",
       "      <th>42</th>\n",
       "      <td>17</td>\n",
       "      <td>1</td>\n",
       "    </tr>\n",
       "    <tr>\n",
       "      <th>43</th>\n",
       "      <td>21</td>\n",
       "      <td>3</td>\n",
       "    </tr>\n",
       "    <tr>\n",
       "      <th>44</th>\n",
       "      <td>18</td>\n",
       "      <td>2</td>\n",
       "    </tr>\n",
       "    <tr>\n",
       "      <th>45</th>\n",
       "      <td>19</td>\n",
       "      <td>2</td>\n",
       "    </tr>\n",
       "  </tbody>\n",
       "</table>\n",
       "<p>395 rows × 2 columns</p>\n",
       "</div>"
      ],
      "text/plain": [
       "    age age_category\n",
       "0    18            2\n",
       "1    17            1\n",
       "2    15            1\n",
       "3    15            1\n",
       "4    16            1\n",
       "..  ...          ...\n",
       "41   20            2\n",
       "42   17            1\n",
       "43   21            3\n",
       "44   18            2\n",
       "45   19            2\n",
       "\n",
       "[395 rows x 2 columns]"
      ]
     },
     "execution_count": 94,
     "metadata": {},
     "output_type": "execute_result"
    }
   ],
   "source": [
    "label_age = [1,2,3]\n",
    "range_age= [14,17,20,100]\n",
    "data[\"age_category\"] = pd.cut(data[\"age\"], range_age, labels=label_age)\n",
    "data[[\"age\",\"age_category\"]]"
   ]
  },
  {
   "cell_type": "markdown",
   "metadata": {},
   "source": [
    "### d) create a new column named passed (yes or no) whose values should be based on the values present in the G3 column (>=8 – yes, <8 – no) (1.5 marks)"
   ]
  },
  {
   "cell_type": "code",
   "execution_count": 95,
   "metadata": {},
   "outputs": [
    {
     "data": {
      "text/html": [
       "<div>\n",
       "<style scoped>\n",
       "    .dataframe tbody tr th:only-of-type {\n",
       "        vertical-align: middle;\n",
       "    }\n",
       "\n",
       "    .dataframe tbody tr th {\n",
       "        vertical-align: top;\n",
       "    }\n",
       "\n",
       "    .dataframe thead th {\n",
       "        text-align: right;\n",
       "    }\n",
       "</style>\n",
       "<table border=\"1\" class=\"dataframe\">\n",
       "  <thead>\n",
       "    <tr style=\"text-align: right;\">\n",
       "      <th></th>\n",
       "      <th>G3</th>\n",
       "      <th>passed</th>\n",
       "    </tr>\n",
       "  </thead>\n",
       "  <tbody>\n",
       "    <tr>\n",
       "      <th>0</th>\n",
       "      <td>6</td>\n",
       "      <td>no</td>\n",
       "    </tr>\n",
       "    <tr>\n",
       "      <th>1</th>\n",
       "      <td>6</td>\n",
       "      <td>no</td>\n",
       "    </tr>\n",
       "    <tr>\n",
       "      <th>2</th>\n",
       "      <td>10</td>\n",
       "      <td>yes</td>\n",
       "    </tr>\n",
       "    <tr>\n",
       "      <th>3</th>\n",
       "      <td>15</td>\n",
       "      <td>yes</td>\n",
       "    </tr>\n",
       "    <tr>\n",
       "      <th>4</th>\n",
       "      <td>10</td>\n",
       "      <td>yes</td>\n",
       "    </tr>\n",
       "    <tr>\n",
       "      <th>...</th>\n",
       "      <td>...</td>\n",
       "      <td>...</td>\n",
       "    </tr>\n",
       "    <tr>\n",
       "      <th>41</th>\n",
       "      <td>9</td>\n",
       "      <td>yes</td>\n",
       "    </tr>\n",
       "    <tr>\n",
       "      <th>42</th>\n",
       "      <td>16</td>\n",
       "      <td>yes</td>\n",
       "    </tr>\n",
       "    <tr>\n",
       "      <th>43</th>\n",
       "      <td>7</td>\n",
       "      <td>no</td>\n",
       "    </tr>\n",
       "    <tr>\n",
       "      <th>44</th>\n",
       "      <td>10</td>\n",
       "      <td>yes</td>\n",
       "    </tr>\n",
       "    <tr>\n",
       "      <th>45</th>\n",
       "      <td>9</td>\n",
       "      <td>yes</td>\n",
       "    </tr>\n",
       "  </tbody>\n",
       "</table>\n",
       "<p>395 rows × 2 columns</p>\n",
       "</div>"
      ],
      "text/plain": [
       "    G3 passed\n",
       "0    6     no\n",
       "1    6     no\n",
       "2   10    yes\n",
       "3   15    yes\n",
       "4   10    yes\n",
       "..  ..    ...\n",
       "41   9    yes\n",
       "42  16    yes\n",
       "43   7     no\n",
       "44  10    yes\n",
       "45   9    yes\n",
       "\n",
       "[395 rows x 2 columns]"
      ]
     },
     "execution_count": 95,
     "metadata": {},
     "output_type": "execute_result"
    }
   ],
   "source": [
    "label_mark = [\"no\", \"yes\"]\n",
    "range_mark = [-1,7,100]\n",
    "data[\"passed\"] = pd.cut(data[\"G3\"], range_mark, labels=label_mark)\n",
    "data[['G3','passed']]"
   ]
  },
  {
   "cell_type": "markdown",
   "metadata": {},
   "source": [
    "# 4. Initial Data Analysis\n",
    "\n",
    "### a) Write code to show the summary statistics (sum, mean, median, standard deviation, max and min) of the variables age, absences, G1, G2 and G3. \n",
    "\n",
    "#### i) Sum of age, absences, G1, G2, G3"
   ]
  },
  {
   "cell_type": "code",
   "execution_count": 96,
   "metadata": {},
   "outputs": [
    {
     "data": {
      "text/plain": [
       "6595"
      ]
     },
     "execution_count": 96,
     "metadata": {},
     "output_type": "execute_result"
    }
   ],
   "source": [
    "sum_age = data[\"age\"].sum() # calculating sum of the column \"age\"\n",
    "sum_age"
   ]
  },
  {
   "cell_type": "code",
   "execution_count": 97,
   "metadata": {},
   "outputs": [
    {
     "data": {
      "text/plain": [
       "2255"
      ]
     },
     "execution_count": 97,
     "metadata": {},
     "output_type": "execute_result"
    }
   ],
   "source": [
    "sum_absences = data[\"absences\"].sum() # calculating sum of the column \"absences\"\n",
    "sum_absences"
   ]
  },
  {
   "cell_type": "code",
   "execution_count": 98,
   "metadata": {},
   "outputs": [
    {
     "data": {
      "text/plain": [
       "4309"
      ]
     },
     "execution_count": 98,
     "metadata": {},
     "output_type": "execute_result"
    }
   ],
   "source": [
    "sum_G1 = data[\"G1\"].sum() # calculating sum of the column \"G1\"\n",
    "sum_G1"
   ]
  },
  {
   "cell_type": "code",
   "execution_count": 99,
   "metadata": {},
   "outputs": [
    {
     "data": {
      "text/plain": [
       "4232"
      ]
     },
     "execution_count": 99,
     "metadata": {},
     "output_type": "execute_result"
    }
   ],
   "source": [
    "sum_G2 = data[\"G2\"].sum() # calculating sum of the column \"G2\"\n",
    "sum_G2"
   ]
  },
  {
   "cell_type": "code",
   "execution_count": 100,
   "metadata": {},
   "outputs": [
    {
     "data": {
      "text/plain": [
       "4114"
      ]
     },
     "execution_count": 100,
     "metadata": {},
     "output_type": "execute_result"
    }
   ],
   "source": [
    "sum_G3 = data[\"G3\"].sum() # calculating sum of the column \"G3\"\n",
    "sum_G3"
   ]
  },
  {
   "cell_type": "markdown",
   "metadata": {},
   "source": [
    "#### ii) Mean of age, absences, G1, G2, G3"
   ]
  },
  {
   "cell_type": "code",
   "execution_count": 101,
   "metadata": {},
   "outputs": [
    {
     "data": {
      "text/plain": [
       "16.696202531645568"
      ]
     },
     "execution_count": 101,
     "metadata": {},
     "output_type": "execute_result"
    }
   ],
   "source": [
    "mean_age = data[\"age\"].mean() # calculating mean of the column \"\"\n",
    "mean_age"
   ]
  },
  {
   "cell_type": "code",
   "execution_count": 102,
   "metadata": {},
   "outputs": [
    {
     "data": {
      "text/plain": [
       "5.708860759493671"
      ]
     },
     "execution_count": 102,
     "metadata": {},
     "output_type": "execute_result"
    }
   ],
   "source": [
    "mean_absences = data[\"absences\"].mean() # calculating mean of the column \"absences\"\n",
    "mean_absences"
   ]
  },
  {
   "cell_type": "code",
   "execution_count": 103,
   "metadata": {},
   "outputs": [
    {
     "data": {
      "text/plain": [
       "10.90886075949367"
      ]
     },
     "execution_count": 103,
     "metadata": {},
     "output_type": "execute_result"
    }
   ],
   "source": [
    "mean_G1 = data[\"G1\"].mean() # calculating mean of the column \"G1\"\n",
    "mean_G1"
   ]
  },
  {
   "cell_type": "code",
   "execution_count": 104,
   "metadata": {},
   "outputs": [
    {
     "data": {
      "text/plain": [
       "10.713924050632912"
      ]
     },
     "execution_count": 104,
     "metadata": {},
     "output_type": "execute_result"
    }
   ],
   "source": [
    "mean_G2 = data[\"G2\"].mean() # calculating mean of the column \"G2\"\n",
    "mean_G2"
   ]
  },
  {
   "cell_type": "code",
   "execution_count": 105,
   "metadata": {},
   "outputs": [
    {
     "data": {
      "text/plain": [
       "10.415189873417722"
      ]
     },
     "execution_count": 105,
     "metadata": {},
     "output_type": "execute_result"
    }
   ],
   "source": [
    "mean_G3 = data[\"G3\"].mean() # calculating mean of the column \"G3\"\n",
    "mean_G3"
   ]
  },
  {
   "cell_type": "markdown",
   "metadata": {},
   "source": [
    "#### iii) Median of age, absences, G1, G2, G3"
   ]
  },
  {
   "cell_type": "code",
   "execution_count": 106,
   "metadata": {},
   "outputs": [
    {
     "data": {
      "text/plain": [
       "17.0"
      ]
     },
     "execution_count": 106,
     "metadata": {},
     "output_type": "execute_result"
    }
   ],
   "source": [
    "median_age = data[\"age\"].median() # calculating median of the column \"age\"\n",
    "median_age"
   ]
  },
  {
   "cell_type": "code",
   "execution_count": 107,
   "metadata": {},
   "outputs": [
    {
     "data": {
      "text/plain": [
       "4.0"
      ]
     },
     "execution_count": 107,
     "metadata": {},
     "output_type": "execute_result"
    }
   ],
   "source": [
    "median_absences = data[\"absences\"].median() # calculating median of the column \"absences\"\n",
    "median_absences"
   ]
  },
  {
   "cell_type": "code",
   "execution_count": 108,
   "metadata": {},
   "outputs": [
    {
     "data": {
      "text/plain": [
       "11.0"
      ]
     },
     "execution_count": 108,
     "metadata": {},
     "output_type": "execute_result"
    }
   ],
   "source": [
    "median_G1 = data[\"G1\"].median() # calculating median of the column \"G1\"\n",
    "median_G1"
   ]
  },
  {
   "cell_type": "code",
   "execution_count": 109,
   "metadata": {},
   "outputs": [
    {
     "data": {
      "text/plain": [
       "11.0"
      ]
     },
     "execution_count": 109,
     "metadata": {},
     "output_type": "execute_result"
    }
   ],
   "source": [
    "median_G2 = data[\"G2\"].median() # calculating median of the column \"G2\"\n",
    "median_G2"
   ]
  },
  {
   "cell_type": "code",
   "execution_count": 110,
   "metadata": {},
   "outputs": [
    {
     "data": {
      "text/plain": [
       "11.0"
      ]
     },
     "execution_count": 110,
     "metadata": {},
     "output_type": "execute_result"
    }
   ],
   "source": [
    "median_G3 = data[\"G3\"].median() # calculating median of the column \"G3\"\n",
    "median_G3"
   ]
  },
  {
   "cell_type": "markdown",
   "metadata": {},
   "source": [
    "#### iv) Max of age, absences, G1, G2, G3"
   ]
  },
  {
   "cell_type": "code",
   "execution_count": 111,
   "metadata": {},
   "outputs": [
    {
     "data": {
      "text/plain": [
       "22"
      ]
     },
     "execution_count": 111,
     "metadata": {},
     "output_type": "execute_result"
    }
   ],
   "source": [
    "max_age = data[\"age\"].max() # calculating median of the column \"age\"\n",
    "max_age"
   ]
  },
  {
   "cell_type": "code",
   "execution_count": 112,
   "metadata": {},
   "outputs": [
    {
     "data": {
      "text/plain": [
       "75"
      ]
     },
     "execution_count": 112,
     "metadata": {},
     "output_type": "execute_result"
    }
   ],
   "source": [
    "max_absences = data[\"absences\"].max() # calculating median of the column \"absences\"\n",
    "max_absences"
   ]
  },
  {
   "cell_type": "code",
   "execution_count": 113,
   "metadata": {},
   "outputs": [
    {
     "data": {
      "text/plain": [
       "19"
      ]
     },
     "execution_count": 113,
     "metadata": {},
     "output_type": "execute_result"
    }
   ],
   "source": [
    "max_G1 = data[\"G1\"].max() # calculating median of the column \"G1\"\n",
    "max_G1"
   ]
  },
  {
   "cell_type": "code",
   "execution_count": 114,
   "metadata": {},
   "outputs": [
    {
     "data": {
      "text/plain": [
       "19"
      ]
     },
     "execution_count": 114,
     "metadata": {},
     "output_type": "execute_result"
    }
   ],
   "source": [
    "max_G2 = data[\"G2\"].max() # calculating median of the column \"G2\"\n",
    "max_G2"
   ]
  },
  {
   "cell_type": "code",
   "execution_count": 115,
   "metadata": {},
   "outputs": [
    {
     "data": {
      "text/plain": [
       "20"
      ]
     },
     "execution_count": 115,
     "metadata": {},
     "output_type": "execute_result"
    }
   ],
   "source": [
    "max_G3= data[\"G3\"].max() # calculating median of the column \"G3\"\n",
    "max_G3"
   ]
  },
  {
   "cell_type": "markdown",
   "metadata": {},
   "source": [
    "#### v) Min of age, absences, G1, G2, G3"
   ]
  },
  {
   "cell_type": "code",
   "execution_count": 116,
   "metadata": {},
   "outputs": [
    {
     "data": {
      "text/plain": [
       "15"
      ]
     },
     "execution_count": 116,
     "metadata": {},
     "output_type": "execute_result"
    }
   ],
   "source": [
    "min_age = data[\"age\"].min() # calculating median of the column \"age\"\n",
    "min_age"
   ]
  },
  {
   "cell_type": "code",
   "execution_count": 117,
   "metadata": {},
   "outputs": [
    {
     "data": {
      "text/plain": [
       "0"
      ]
     },
     "execution_count": 117,
     "metadata": {},
     "output_type": "execute_result"
    }
   ],
   "source": [
    "min_absences = data[\"absences\"].min() # calculating median of the column \"absences\"\n",
    "min_absences"
   ]
  },
  {
   "cell_type": "code",
   "execution_count": 118,
   "metadata": {},
   "outputs": [
    {
     "data": {
      "text/plain": [
       "3"
      ]
     },
     "execution_count": 118,
     "metadata": {},
     "output_type": "execute_result"
    }
   ],
   "source": [
    "min_G1 = data[\"G1\"].min() # calculating median of the column \"G1\"\n",
    "min_G1"
   ]
  },
  {
   "cell_type": "code",
   "execution_count": 119,
   "metadata": {},
   "outputs": [
    {
     "data": {
      "text/plain": [
       "0"
      ]
     },
     "execution_count": 119,
     "metadata": {},
     "output_type": "execute_result"
    }
   ],
   "source": [
    "min_G2 = data[\"G2\"].min() # calculating median of the column \"G2\"\n",
    "min_G2"
   ]
  },
  {
   "cell_type": "code",
   "execution_count": 120,
   "metadata": {},
   "outputs": [
    {
     "data": {
      "text/plain": [
       "0"
      ]
     },
     "execution_count": 120,
     "metadata": {},
     "output_type": "execute_result"
    }
   ],
   "source": [
    "min_G3 = data[\"G3\"].min() # calculating median of the column \"G3\"\n",
    "min_G3"
   ]
  },
  {
   "cell_type": "markdown",
   "metadata": {},
   "source": [
    "#### vi) Standard deviation of age, absences, G1, G2, G3"
   ]
  },
  {
   "cell_type": "code",
   "execution_count": 121,
   "metadata": {},
   "outputs": [
    {
     "data": {
      "text/plain": [
       "1.2760427246056245"
      ]
     },
     "execution_count": 121,
     "metadata": {},
     "output_type": "execute_result"
    }
   ],
   "source": [
    "std_age = data[\"age\"].std() # calculating standard deviation of the column \"age\"\n",
    "std_age"
   ]
  },
  {
   "cell_type": "code",
   "execution_count": 122,
   "metadata": {},
   "outputs": [
    {
     "data": {
      "text/plain": [
       "8.003095687108177"
      ]
     },
     "execution_count": 122,
     "metadata": {},
     "output_type": "execute_result"
    }
   ],
   "source": [
    "std_absences = data[\"absences\"].std() # calculating standard deviation of the column \"absences\"\n",
    "std_absences"
   ]
  },
  {
   "cell_type": "code",
   "execution_count": 123,
   "metadata": {},
   "outputs": [
    {
     "data": {
      "text/plain": [
       "3.3191946715076686"
      ]
     },
     "execution_count": 123,
     "metadata": {},
     "output_type": "execute_result"
    }
   ],
   "source": [
    "std_G1 = data[\"G1\"].std() # calculating standard deviation of the column \"G1\"\n",
    "std_G1"
   ]
  },
  {
   "cell_type": "code",
   "execution_count": 124,
   "metadata": {},
   "outputs": [
    {
     "data": {
      "text/plain": [
       "3.761504659556034"
      ]
     },
     "execution_count": 124,
     "metadata": {},
     "output_type": "execute_result"
    }
   ],
   "source": [
    "std_G2 = data[\"G2\"].std() # calculating standard deviation of the column \"G2\"\n",
    "std_G2"
   ]
  },
  {
   "cell_type": "code",
   "execution_count": 125,
   "metadata": {},
   "outputs": [
    {
     "data": {
      "text/plain": [
       "4.5814426109978434"
      ]
     },
     "execution_count": 125,
     "metadata": {},
     "output_type": "execute_result"
    }
   ],
   "source": [
    "std_G3 = data[\"G3\"].std() # calculating standard deviation of the column \"G3\"\n",
    "std_G3"
   ]
  },
  {
   "cell_type": "markdown",
   "metadata": {},
   "source": [
    "### b) Write code to calculate and show the correlation between the variables absences, failures, G1, G2 and G3. Present the result using a heatmap and interpret the results. "
   ]
  },
  {
   "cell_type": "code",
   "execution_count": 126,
   "metadata": {},
   "outputs": [
    {
     "data": {
      "text/plain": [
       "1.0"
      ]
     },
     "execution_count": 126,
     "metadata": {},
     "output_type": "execute_result"
    }
   ],
   "source": [
    "data[\"absences\"].corr(data[\"absences\"]) #calculating the correlation of absences column"
   ]
  },
  {
   "cell_type": "code",
   "execution_count": 127,
   "metadata": {},
   "outputs": [
    {
     "data": {
      "text/plain": [
       "0.06372583253905985"
      ]
     },
     "execution_count": 127,
     "metadata": {},
     "output_type": "execute_result"
    }
   ],
   "source": [
    "data[\"absences\"].corr(data[\"failures\"]) #calculating the correlation between absences and failures column"
   ]
  },
  {
   "cell_type": "code",
   "execution_count": 128,
   "metadata": {},
   "outputs": [
    {
     "data": {
      "text/plain": [
       "-0.03100290094902835"
      ]
     },
     "execution_count": 128,
     "metadata": {},
     "output_type": "execute_result"
    }
   ],
   "source": [
    "data[\"absences\"].corr(data[\"G1\"]) #calculating the correlation between absences and G1 columns"
   ]
  },
  {
   "cell_type": "code",
   "execution_count": 129,
   "metadata": {},
   "outputs": [
    {
     "data": {
      "text/plain": [
       "-0.03177670362670715"
      ]
     },
     "execution_count": 129,
     "metadata": {},
     "output_type": "execute_result"
    }
   ],
   "source": [
    "data[\"absences\"].corr(data[\"G2\"]) #calculating the correlation between absences and G2 columns"
   ]
  },
  {
   "cell_type": "code",
   "execution_count": 130,
   "metadata": {},
   "outputs": [
    {
     "data": {
      "text/plain": [
       "0.03424731615006932"
      ]
     },
     "execution_count": 130,
     "metadata": {},
     "output_type": "execute_result"
    }
   ],
   "source": [
    "data[\"absences\"].corr(data[\"G3\"]) #calculating the correlation between absences and G3 columns"
   ]
  },
  {
   "cell_type": "code",
   "execution_count": 131,
   "metadata": {},
   "outputs": [
    {
     "data": {
      "text/plain": [
       "0.9999999999999999"
      ]
     },
     "execution_count": 131,
     "metadata": {},
     "output_type": "execute_result"
    }
   ],
   "source": [
    "data[\"failures\"].corr(data[\"failures\"]) #calculating the correlation of failures"
   ]
  },
  {
   "cell_type": "code",
   "execution_count": 132,
   "metadata": {},
   "outputs": [
    {
     "data": {
      "text/plain": [
       "-0.35471761301563537"
      ]
     },
     "execution_count": 132,
     "metadata": {},
     "output_type": "execute_result"
    }
   ],
   "source": [
    "data[\"failures\"].corr(data[\"G1\"]) #calculating the correlation between failures and G1 columns"
   ]
  },
  {
   "cell_type": "code",
   "execution_count": 133,
   "metadata": {},
   "outputs": [
    {
     "data": {
      "text/plain": [
       "-0.355895634552574"
      ]
     },
     "execution_count": 133,
     "metadata": {},
     "output_type": "execute_result"
    }
   ],
   "source": [
    "data[\"failures\"].corr(data[\"G2\"]) #calculating the correlation between failures and G2 columns"
   ]
  },
  {
   "cell_type": "code",
   "execution_count": 134,
   "metadata": {},
   "outputs": [
    {
     "data": {
      "text/plain": [
       "-0.3604149404616497"
      ]
     },
     "execution_count": 134,
     "metadata": {},
     "output_type": "execute_result"
    }
   ],
   "source": [
    "data[\"failures\"].corr(data[\"G3\"]) #calculating the correlation between failures and G3 columns"
   ]
  },
  {
   "cell_type": "code",
   "execution_count": 135,
   "metadata": {},
   "outputs": [
    {
     "data": {
      "text/plain": [
       "1.0"
      ]
     },
     "execution_count": 135,
     "metadata": {},
     "output_type": "execute_result"
    }
   ],
   "source": [
    "data[\"G1\"].corr(data[\"G1\"]) #calculating the correlation of G1 column"
   ]
  },
  {
   "cell_type": "code",
   "execution_count": 136,
   "metadata": {},
   "outputs": [
    {
     "data": {
      "text/plain": [
       "0.8521180663648064"
      ]
     },
     "execution_count": 136,
     "metadata": {},
     "output_type": "execute_result"
    }
   ],
   "source": [
    "data[\"G1\"].corr(data[\"G2\"]) #calculating the correlation between G1 and G2 columns"
   ]
  },
  {
   "cell_type": "code",
   "execution_count": 137,
   "metadata": {},
   "outputs": [
    {
     "data": {
      "text/plain": [
       "0.8014679320174148"
      ]
     },
     "execution_count": 137,
     "metadata": {},
     "output_type": "execute_result"
    }
   ],
   "source": [
    "data[\"G1\"].corr(data[\"G3\"]) #calculating the correlation between G1 and G3 columns"
   ]
  },
  {
   "cell_type": "code",
   "execution_count": 138,
   "metadata": {},
   "outputs": [
    {
     "data": {
      "text/plain": [
       "1.0"
      ]
     },
     "execution_count": 138,
     "metadata": {},
     "output_type": "execute_result"
    }
   ],
   "source": [
    "data[\"G2\"].corr(data[\"G2\"]) #calculating the correlation of G2 column"
   ]
  },
  {
   "cell_type": "code",
   "execution_count": 139,
   "metadata": {},
   "outputs": [
    {
     "data": {
      "text/plain": [
       "0.9048679892693011"
      ]
     },
     "execution_count": 139,
     "metadata": {},
     "output_type": "execute_result"
    }
   ],
   "source": [
    "data[\"G2\"].corr(data[\"G3\"]) #calculating the correlation between G2 and G3 columns"
   ]
  },
  {
   "cell_type": "code",
   "execution_count": 140,
   "metadata": {},
   "outputs": [
    {
     "data": {
      "text/plain": [
       "1.0"
      ]
     },
     "execution_count": 140,
     "metadata": {},
     "output_type": "execute_result"
    }
   ],
   "source": [
    "data[\"G3\"].corr(data[\"G3\"]) #calculating the correlation of G3 column"
   ]
  },
  {
   "cell_type": "markdown",
   "metadata": {},
   "source": [
    "#### Heatmap"
   ]
  },
  {
   "cell_type": "code",
   "execution_count": 141,
   "metadata": {},
   "outputs": [
    {
     "data": {
      "text/html": [
       "<div>\n",
       "<style scoped>\n",
       "    .dataframe tbody tr th:only-of-type {\n",
       "        vertical-align: middle;\n",
       "    }\n",
       "\n",
       "    .dataframe tbody tr th {\n",
       "        vertical-align: top;\n",
       "    }\n",
       "\n",
       "    .dataframe thead th {\n",
       "        text-align: right;\n",
       "    }\n",
       "</style>\n",
       "<table border=\"1\" class=\"dataframe\">\n",
       "  <thead>\n",
       "    <tr style=\"text-align: right;\">\n",
       "      <th></th>\n",
       "      <th>absences</th>\n",
       "      <th>failures</th>\n",
       "      <th>G1</th>\n",
       "      <th>G2</th>\n",
       "      <th>G3</th>\n",
       "    </tr>\n",
       "  </thead>\n",
       "  <tbody>\n",
       "    <tr>\n",
       "      <th>absences</th>\n",
       "      <td>1.000000</td>\n",
       "      <td>0.063726</td>\n",
       "      <td>-0.031003</td>\n",
       "      <td>-0.031777</td>\n",
       "      <td>0.034247</td>\n",
       "    </tr>\n",
       "    <tr>\n",
       "      <th>failures</th>\n",
       "      <td>0.063726</td>\n",
       "      <td>1.000000</td>\n",
       "      <td>-0.354718</td>\n",
       "      <td>-0.355896</td>\n",
       "      <td>-0.360415</td>\n",
       "    </tr>\n",
       "    <tr>\n",
       "      <th>G1</th>\n",
       "      <td>-0.031003</td>\n",
       "      <td>-0.354718</td>\n",
       "      <td>1.000000</td>\n",
       "      <td>0.852118</td>\n",
       "      <td>0.801468</td>\n",
       "    </tr>\n",
       "    <tr>\n",
       "      <th>G2</th>\n",
       "      <td>-0.031777</td>\n",
       "      <td>-0.355896</td>\n",
       "      <td>0.852118</td>\n",
       "      <td>1.000000</td>\n",
       "      <td>0.904868</td>\n",
       "    </tr>\n",
       "    <tr>\n",
       "      <th>G3</th>\n",
       "      <td>0.034247</td>\n",
       "      <td>-0.360415</td>\n",
       "      <td>0.801468</td>\n",
       "      <td>0.904868</td>\n",
       "      <td>1.000000</td>\n",
       "    </tr>\n",
       "  </tbody>\n",
       "</table>\n",
       "</div>"
      ],
      "text/plain": [
       "          absences  failures        G1        G2        G3\n",
       "absences  1.000000  0.063726 -0.031003 -0.031777  0.034247\n",
       "failures  0.063726  1.000000 -0.354718 -0.355896 -0.360415\n",
       "G1       -0.031003 -0.354718  1.000000  0.852118  0.801468\n",
       "G2       -0.031777 -0.355896  0.852118  1.000000  0.904868\n",
       "G3        0.034247 -0.360415  0.801468  0.904868  1.000000"
      ]
     },
     "execution_count": 141,
     "metadata": {},
     "output_type": "execute_result"
    }
   ],
   "source": [
    "import seaborn as sns # to create heatmap\n",
    "import matplotlib.pyplot as plt \n",
    "\n",
    "# finding correlation between absences, failures, G1, G2, G3 columns \n",
    "corels = data[['absences','failures','G1','G2','G3']].corr() \n",
    "corels"
   ]
  },
  {
   "cell_type": "code",
   "execution_count": 142,
   "metadata": {},
   "outputs": [
    {
     "data": {
      "text/plain": [
       "<matplotlib.axes._subplots.AxesSubplot at 0x26d4c4df848>"
      ]
     },
     "execution_count": 142,
     "metadata": {},
     "output_type": "execute_result"
    },
    {
     "data": {
      "image/png": "[encoded data removed]",
      "text/plain": [
       "<Figure size 1080x720 with 2 Axes>"
      ]
     },
     "metadata": {
      "needs_background": "light"
     },
     "output_type": "display_data"
    }
   ],
   "source": [
    "plt.figure(figsize=(15,10)) #specifying the heatmap figure size\n",
    "sns.heatmap(corels, annot=True) #creating the heatmap of corels variable"
   ]
  },
  {
   "cell_type": "markdown",
   "metadata": {},
   "source": [
    "### c) Using the similarity metrics (Euclidean distance and Manhattan distance), write code to find out the 5 most similar students to the students with studentIDs GP23 and MS46. The choice of the attributes to calculate the similarities is up to you. "
   ]
  },
  {
   "cell_type": "markdown",
   "metadata": {},
   "source": [
    "### Euclidean distance"
   ]
  },
  {
   "cell_type": "code",
   "execution_count": 143,
   "metadata": {},
   "outputs": [],
   "source": [
    "#defining a function for euclidean distance\n",
    "def euclidean_distance(p,q):\n",
    "    return np.sqrt(np.power(p-q, 2).sum())"
   ]
  },
  {
   "cell_type": "code",
   "execution_count": 144,
   "metadata": {},
   "outputs": [],
   "source": [
    "#function to sort out the nearest data\n",
    "def perform_euclidean_distance(stdData, studentData, removeData):\n",
    "    dict_={}\n",
    "    for i in range(len(stdData.iloc[:,1:])):\n",
    "        dict_[stdData.iloc[i,0]]=euclidean_distance(np.array(studentData.iloc[:,1:]),\n",
    "                                                        np.array(stdData.iloc[i,1:]))\n",
    "\n",
    "    # removing data starts with GP for dictionaray\n",
    "    for k in list(dict_):\n",
    "        if k.startswith(removeData):\n",
    "            dict_.pop(k)\n",
    "    print(\"Length of the dictionary: \", len(dict_))\n",
    "    print()\n",
    "    \n",
    "    # sorting out dictionary data in ascending order\n",
    "    sortedDict= sorted(dict_.items(), key=lambda x: x[1])\n",
    "    print(\"Sorted data\", sortedDict)\n",
    "    print()\n",
    "    \n",
    "    # finding our nearest data\n",
    "    nearestStudent = [sortedDict[i][0] for i in range(1,6)]\n",
    "    print(\"Nearest Student\", nearestStudent)"
   ]
  },
  {
   "cell_type": "code",
   "execution_count": 145,
   "metadata": {},
   "outputs": [
    {
     "data": {
      "text/html": [
       "<div>\n",
       "<style scoped>\n",
       "    .dataframe tbody tr th:only-of-type {\n",
       "        vertical-align: middle;\n",
       "    }\n",
       "\n",
       "    .dataframe tbody tr th {\n",
       "        vertical-align: top;\n",
       "    }\n",
       "\n",
       "    .dataframe thead th {\n",
       "        text-align: right;\n",
       "    }\n",
       "</style>\n",
       "<table border=\"1\" class=\"dataframe\">\n",
       "  <thead>\n",
       "    <tr style=\"text-align: right;\">\n",
       "      <th></th>\n",
       "      <th>studentID</th>\n",
       "      <th>age</th>\n",
       "      <th>G1</th>\n",
       "      <th>G2</th>\n",
       "      <th>G3</th>\n",
       "      <th>school_native</th>\n",
       "      <th>sex_native</th>\n",
       "      <th>address_native</th>\n",
       "      <th>famsize_native</th>\n",
       "      <th>Pstatus_native</th>\n",
       "      <th>...</th>\n",
       "      <th>reason_native</th>\n",
       "      <th>guardian_native</th>\n",
       "      <th>traveltime_native</th>\n",
       "      <th>studytime_native</th>\n",
       "      <th>famrel_native</th>\n",
       "      <th>freetime_native</th>\n",
       "      <th>Dalc_native</th>\n",
       "      <th>Walc_native</th>\n",
       "      <th>health_native</th>\n",
       "      <th>age_category</th>\n",
       "    </tr>\n",
       "  </thead>\n",
       "  <tbody>\n",
       "    <tr>\n",
       "      <th>0</th>\n",
       "      <td>GP1</td>\n",
       "      <td>18</td>\n",
       "      <td>5</td>\n",
       "      <td>6</td>\n",
       "      <td>6</td>\n",
       "      <td>0</td>\n",
       "      <td>0</td>\n",
       "      <td>0</td>\n",
       "      <td>0</td>\n",
       "      <td>0</td>\n",
       "      <td>...</td>\n",
       "      <td>0</td>\n",
       "      <td>0</td>\n",
       "      <td>0</td>\n",
       "      <td>0</td>\n",
       "      <td>0</td>\n",
       "      <td>0</td>\n",
       "      <td>0</td>\n",
       "      <td>0</td>\n",
       "      <td>0</td>\n",
       "      <td>2</td>\n",
       "    </tr>\n",
       "    <tr>\n",
       "      <th>1</th>\n",
       "      <td>GP2</td>\n",
       "      <td>17</td>\n",
       "      <td>5</td>\n",
       "      <td>5</td>\n",
       "      <td>6</td>\n",
       "      <td>0</td>\n",
       "      <td>0</td>\n",
       "      <td>0</td>\n",
       "      <td>0</td>\n",
       "      <td>1</td>\n",
       "      <td>...</td>\n",
       "      <td>0</td>\n",
       "      <td>1</td>\n",
       "      <td>1</td>\n",
       "      <td>0</td>\n",
       "      <td>1</td>\n",
       "      <td>0</td>\n",
       "      <td>0</td>\n",
       "      <td>0</td>\n",
       "      <td>0</td>\n",
       "      <td>1</td>\n",
       "    </tr>\n",
       "    <tr>\n",
       "      <th>2</th>\n",
       "      <td>GP3</td>\n",
       "      <td>15</td>\n",
       "      <td>7</td>\n",
       "      <td>8</td>\n",
       "      <td>10</td>\n",
       "      <td>0</td>\n",
       "      <td>0</td>\n",
       "      <td>0</td>\n",
       "      <td>1</td>\n",
       "      <td>1</td>\n",
       "      <td>...</td>\n",
       "      <td>1</td>\n",
       "      <td>0</td>\n",
       "      <td>1</td>\n",
       "      <td>0</td>\n",
       "      <td>0</td>\n",
       "      <td>0</td>\n",
       "      <td>1</td>\n",
       "      <td>1</td>\n",
       "      <td>0</td>\n",
       "      <td>1</td>\n",
       "    </tr>\n",
       "    <tr>\n",
       "      <th>3</th>\n",
       "      <td>GP4</td>\n",
       "      <td>15</td>\n",
       "      <td>15</td>\n",
       "      <td>14</td>\n",
       "      <td>15</td>\n",
       "      <td>0</td>\n",
       "      <td>0</td>\n",
       "      <td>0</td>\n",
       "      <td>0</td>\n",
       "      <td>1</td>\n",
       "      <td>...</td>\n",
       "      <td>2</td>\n",
       "      <td>0</td>\n",
       "      <td>1</td>\n",
       "      <td>1</td>\n",
       "      <td>2</td>\n",
       "      <td>1</td>\n",
       "      <td>0</td>\n",
       "      <td>0</td>\n",
       "      <td>1</td>\n",
       "      <td>1</td>\n",
       "    </tr>\n",
       "  </tbody>\n",
       "</table>\n",
       "<p>4 rows × 32 columns</p>\n",
       "</div>"
      ],
      "text/plain": [
       "  studentID  age  G1  G2  G3  school_native  sex_native  address_native  \\\n",
       "0       GP1   18   5   6   6              0           0               0   \n",
       "1       GP2   17   5   5   6              0           0               0   \n",
       "2       GP3   15   7   8  10              0           0               0   \n",
       "3       GP4   15  15  14  15              0           0               0   \n",
       "\n",
       "   famsize_native  Pstatus_native  ...  reason_native  guardian_native  \\\n",
       "0               0               0  ...              0                0   \n",
       "1               0               1  ...              0                1   \n",
       "2               1               1  ...              1                0   \n",
       "3               0               1  ...              2                0   \n",
       "\n",
       "   traveltime_native  studytime_native  famrel_native  freetime_native  \\\n",
       "0                  0                 0              0                0   \n",
       "1                  1                 0              1                0   \n",
       "2                  1                 0              0                0   \n",
       "3                  1                 1              2                1   \n",
       "\n",
       "   Dalc_native  Walc_native  health_native  age_category  \n",
       "0            0            0              0             2  \n",
       "1            0            0              0             1  \n",
       "2            1            1              0             1  \n",
       "3            0            0              1             1  \n",
       "\n",
       "[4 rows x 32 columns]"
      ]
     },
     "execution_count": 145,
     "metadata": {},
     "output_type": "execute_result"
    }
   ],
   "source": [
    "#Fetching specific data from data pandas DataFrame\n",
    "stdData = data[[\"studentID\",\"age\",\"G1\",\"G2\",\"G3\",\"school_native\",\n",
    "                   \"sex_native\",\"address_native\",\"famsize_native\",\n",
    "                   \"Pstatus_native\",\"schoolsup_native\",\"famsup_native\",\n",
    "                   \"paid_native\",\"activities_native\",\"nursery_native\",\n",
    "                   \"higher_native\",\"internet_native\",\"romantic_native\",\n",
    "                   \"Medu_native\",\"Fedu_native\",\"Mjob_native\",\"Fjob_native\",\n",
    "                   \"reason_native\",\"guardian_native\",\"traveltime_native\",\n",
    "                   \"studytime_native\",\"famrel_native\",\"freetime_native\",\n",
    "                   \"Dalc_native\",\"Walc_native\",\"health_native\",\n",
    "                   \"age_category\"]]\n",
    "stdData.head(4)"
   ]
  },
  {
   "cell_type": "markdown",
   "metadata": {},
   "source": [
    "### Euclidean distance: StudentID GP23"
   ]
  },
  {
   "cell_type": "code",
   "execution_count": 146,
   "metadata": {},
   "outputs": [
    {
     "data": {
      "text/html": [
       "<div>\n",
       "<style scoped>\n",
       "    .dataframe tbody tr th:only-of-type {\n",
       "        vertical-align: middle;\n",
       "    }\n",
       "\n",
       "    .dataframe tbody tr th {\n",
       "        vertical-align: top;\n",
       "    }\n",
       "\n",
       "    .dataframe thead th {\n",
       "        text-align: right;\n",
       "    }\n",
       "</style>\n",
       "<table border=\"1\" class=\"dataframe\">\n",
       "  <thead>\n",
       "    <tr style=\"text-align: right;\">\n",
       "      <th></th>\n",
       "      <th>studentID</th>\n",
       "      <th>age</th>\n",
       "      <th>G1</th>\n",
       "      <th>G2</th>\n",
       "      <th>G3</th>\n",
       "      <th>school_native</th>\n",
       "      <th>sex_native</th>\n",
       "      <th>address_native</th>\n",
       "      <th>famsize_native</th>\n",
       "      <th>Pstatus_native</th>\n",
       "      <th>...</th>\n",
       "      <th>reason_native</th>\n",
       "      <th>guardian_native</th>\n",
       "      <th>traveltime_native</th>\n",
       "      <th>studytime_native</th>\n",
       "      <th>famrel_native</th>\n",
       "      <th>freetime_native</th>\n",
       "      <th>Dalc_native</th>\n",
       "      <th>Walc_native</th>\n",
       "      <th>health_native</th>\n",
       "      <th>age_category</th>\n",
       "    </tr>\n",
       "  </thead>\n",
       "  <tbody>\n",
       "    <tr>\n",
       "      <th>22</th>\n",
       "      <td>GP23</td>\n",
       "      <td>16</td>\n",
       "      <td>15</td>\n",
       "      <td>15</td>\n",
       "      <td>16</td>\n",
       "      <td>0</td>\n",
       "      <td>1</td>\n",
       "      <td>0</td>\n",
       "      <td>1</td>\n",
       "      <td>1</td>\n",
       "      <td>...</td>\n",
       "      <td>0</td>\n",
       "      <td>0</td>\n",
       "      <td>1</td>\n",
       "      <td>0</td>\n",
       "      <td>0</td>\n",
       "      <td>4</td>\n",
       "      <td>0</td>\n",
       "      <td>1</td>\n",
       "      <td>1</td>\n",
       "      <td>1</td>\n",
       "    </tr>\n",
       "  </tbody>\n",
       "</table>\n",
       "<p>1 rows × 32 columns</p>\n",
       "</div>"
      ],
      "text/plain": [
       "   studentID  age  G1  G2  G3  school_native  sex_native  address_native  \\\n",
       "22      GP23   16  15  15  16              0           1               0   \n",
       "\n",
       "    famsize_native  Pstatus_native  ...  reason_native  guardian_native  \\\n",
       "22               1               1  ...              0                0   \n",
       "\n",
       "    traveltime_native  studytime_native  famrel_native  freetime_native  \\\n",
       "22                  1                 0              0                4   \n",
       "\n",
       "    Dalc_native  Walc_native  health_native  age_category  \n",
       "22            0            1              1             1  \n",
       "\n",
       "[1 rows x 32 columns]"
      ]
     },
     "execution_count": 146,
     "metadata": {},
     "output_type": "execute_result"
    }
   ],
   "source": [
    "# Fetching choosen data of studentId GP23\n",
    "dataGP23 = data.loc[data['studentID']=='GP23'][[\"studentID\",\"age\",\"G1\",\"G2\",\"G3\",\"school_native\",\"sex_native\",\n",
    "                                     \"address_native\",\"famsize_native\",\"Pstatus_native\",\n",
    "                                     \"schoolsup_native\",\"famsup_native\",\"paid_native\",\"activities_native\",\n",
    "                                     \"nursery_native\",\"higher_native\",\"internet_native\",\"romantic_native\",\n",
    "                                     \"Medu_native\",\"Fedu_native\",\"Mjob_native\",\"Fjob_native\",\"reason_native\",\n",
    "                                     \"guardian_native\",\"traveltime_native\",\"studytime_native\",\"famrel_native\",\n",
    "                                     \"freetime_native\",\"Dalc_native\",\"Walc_native\",\"health_native\",\"age_category\"]]\n",
    "dataGP23"
   ]
  },
  {
   "cell_type": "code",
   "execution_count": 147,
   "metadata": {},
   "outputs": [
    {
     "name": "stdout",
     "output_type": "stream",
     "text": [
      "Length of the dictionary:  349\n",
      "\n",
      "Sorted data [('GP23', 0.0), ('GP66', 3.7416573867739413), ('GP116', 3.7416573867739413), ('GP60', 4.0), ('GP6', 4.47213595499958), ('GP336', 4.47213595499958), ('GP33', 4.58257569495584), ('GP10', 4.898979485566356), ('GP21', 5.0), ('GP188', 5.196152422706632), ('GP37', 5.385164807134504), ('GP92', 5.385164807134504), ('GP216', 5.385164807134504), ('GP15', 5.656854249492381), ('GP49', 5.656854249492381), ('GP102', 5.656854249492381), ('GP168', 5.656854249492381), ('GP197', 5.656854249492381), ('GP227', 5.656854249492381), ('GP140', 5.744562646538029), ('GP122', 5.830951894845301), ('GP105', 5.916079783099616), ('GP324', 5.916079783099616), ('GP139', 6.0), ('GP4', 6.082762530298219), ('GP58', 6.082762530298219), ('GP290', 6.082762530298219), ('GP343', 6.082762530298219), ('GP35', 6.164414002968976), ('GP57', 6.164414002968976), ('GP196', 6.164414002968976), ('GP110', 6.244997998398398), ('GP292', 6.244997998398398), ('GP300', 6.244997998398398), ('GP321', 6.244997998398398), ('GP346', 6.244997998398398), ('GP16', 6.324555320336759), ('GP121', 6.324555320336759), ('GP347', 6.324555320336759), ('GP118', 6.4031242374328485), ('GP32', 6.48074069840786), ('GP183', 6.48074069840786), ('GP70', 6.557438524302), ('GP9', 6.6332495807108), ('GP13', 6.6332495807108), ('GP22', 6.6332495807108), ('GP170', 6.6332495807108), ('GP225', 6.6332495807108), ('GP261', 6.6332495807108), ('GP349', 6.6332495807108), ('GP84', 6.708203932499369), ('GP88', 6.708203932499369), ('GP172', 6.708203932499369), ('GP108', 6.782329983125268), ('GP114', 6.782329983125268), ('GP305', 6.782329983125268), ('GP17', 6.855654600401044), ('GP289', 6.855654600401044), ('GP330', 6.855654600401044), ('GP38', 6.928203230275509), ('GP201', 6.928203230275509), ('GP295', 6.928203230275509), ('GP259', 7.0), ('GP339', 7.0), ('GP231', 7.0710678118654755), ('GP274', 7.0710678118654755), ('GP159', 7.14142842854285), ('GP28', 7.211102550927978), ('GP303', 7.211102550927978), ('GP307', 7.211102550927978), ('GP182', 7.280109889280518), ('GP272', 7.280109889280518), ('GP123', 7.3484692283495345), ('GP195', 7.3484692283495345), ('GP223', 7.3484692283495345), ('GP71', 7.416198487095663), ('GP234', 7.416198487095663), ('GP250', 7.416198487095663), ('GP43', 7.483314773547883), ('GP111', 7.483314773547883), ('GP199', 7.483314773547883), ('GP238', 7.483314773547883), ('GP117', 7.54983443527075), ('GP124', 7.54983443527075), ('GP130', 7.54983443527075), ('GP276', 7.54983443527075), ('GP332', 7.54983443527075), ('GP24', 7.615773105863909), ('GP126', 7.615773105863909), ('GP244', 7.615773105863909), ('GP309', 7.745966692414834), ('GP52', 7.810249675906654), ('GP120', 7.810249675906654), ('GP257', 7.810249675906654), ('GP294', 7.810249675906654), ('GP299', 7.810249675906654), ('GP327', 7.810249675906654), ('GP337', 7.810249675906654), ('GP144', 7.874007874011811), ('GP166', 7.874007874011811), ('GP237', 7.874007874011811), ('GP315', 7.874007874011811), ('GP266', 7.937253933193772), ('GP51', 8.0), ('GP99', 8.0), ('GP103', 8.0), ('GP42', 8.06225774829855), ('GP74', 8.06225774829855), ('GP247', 8.06225774829855), ('GP304', 8.06225774829855), ('GP263', 8.12403840463596), ('GP296', 8.12403840463596), ('GP7', 8.18535277187245), ('GP208', 8.18535277187245), ('GP241', 8.18535277187245), ('GP288', 8.18535277187245), ('GP97', 8.246211251235321), ('GP177', 8.306623862918075), ('GP246', 8.306623862918075), ('GP191', 8.366600265340756), ('GP293', 8.366600265340756), ('GP152', 8.426149773176359), ('GP185', 8.426149773176359), ('GP157', 8.660254037844387), ('GP113', 8.717797887081348), ('GP133', 8.717797887081348), ('GP173', 8.717797887081348), ('GP213', 8.717797887081348), ('GP306', 8.774964387392123), ('GP325', 8.831760866327848), ('GP27', 8.888194417315589), ('GP232', 8.888194417315589), ('GP313', 8.888194417315589), ('GP312', 8.94427190999916), ('GP39', 9.0), ('GP40', 9.0), ('GP186', 9.0), ('GP291', 9.1104335791443), ('GP95', 9.16515138991168), ('GP187', 9.16515138991168), ('GP212', 9.16515138991168), ('GP320', 9.16515138991168), ('GP134', 9.219544457292887), ('GP273', 9.219544457292887), ('GP160', 9.273618495495704), ('GP228', 9.273618495495704), ('GP230', 9.273618495495704), ('GP155', 9.38083151964686), ('GP14', 9.433981132056603), ('GP30', 9.433981132056603), ('GP75', 9.486832980505138), ('GP29', 9.539392014169456), ('GP81', 9.539392014169456), ('GP224', 9.539392014169456), ('GP316', 9.539392014169456), ('GP48', 9.591663046625438), ('GP283', 9.643650760992955), ('GP302', 9.643650760992955), ('GP77', 9.695359714832659), ('GP287', 9.695359714832659), ('GP55', 9.746794344808963), ('GP67', 9.797958971132712), ('GP12', 9.848857801796104), ('GP239', 9.848857801796104), ('GP323', 9.848857801796104), ('GP143', 9.899494936611665), ('GP242', 9.899494936611665), ('GP180', 9.9498743710662), ('GP314', 10.0), ('GP280', 10.04987562112089), ('GP341', 10.099504938362077), ('GP78', 10.198039027185569), ('GP326', 10.198039027185569), ('GP47', 10.246950765959598), ('GP301', 10.246950765959598), ('GP53', 10.295630140987), ('GP94', 10.295630140987), ('GP255', 10.295630140987), ('GP286', 10.295630140987), ('GP89', 10.344080432788601), ('GP148', 10.344080432788601), ('GP258', 10.392304845413264), ('GP82', 10.44030650891055), ('GP146', 10.44030650891055), ('GP268', 10.44030650891055), ('GP31', 10.488088481701515), ('GP285', 10.535653752852738), ('GP109', 10.677078252031311), ('GP61', 10.770329614269007), ('GP65', 10.770329614269007), ('GP348', 10.816653826391969), ('GP310', 10.954451150103322), ('GP282', 11.045361017187261), ('GP34', 11.090536506409418), ('GP72', 11.135528725660043), ('GP233', 11.135528725660043), ('GP153', 11.224972160321824), ('GP175', 11.224972160321824), ('GP328', 11.224972160321824), ('GP203', 11.269427669584644), ('GP200', 11.313708498984761), ('GP319', 11.313708498984761), ('GP205', 11.357816691600547), ('GP269', 11.40175425099138), ('GP106', 11.445523142259598), ('GP345', 11.445523142259598), ('GP62', 11.489125293076057), ('GP322', 11.489125293076057), ('GP167', 11.532562594670797), ('GP76', 11.575836902790225), ('GP20', 11.61895003862225), ('GP329', 11.61895003862225), ('GP54', 11.704699910719626), ('GP267', 11.704699910719626), ('GP340', 11.74734012447073), ('GP85', 11.789826122551595), ('GP164', 11.789826122551595), ('GP215', 11.789826122551595), ('GP277', 11.789826122551595), ('GP236', 11.916375287812984), ('GP45', 11.958260743101398), ('GP318', 11.958260743101398), ('GP63', 12.12435565298214), ('GP64', 12.12435565298214), ('GP176', 12.12435565298214), ('GP59', 12.206555615733702), ('GP44', 12.288205727444508), ('GP202', 12.328828005937952), ('GP264', 12.328828005937952), ('GP112', 12.36931687685298), ('GP150', 12.36931687685298), ('GP127', 12.409673645990857), ('GP275', 12.409673645990857), ('GP284', 12.449899597988733), ('GP41', 12.569805089976535), ('GP98', 12.609520212918492), ('GP115', 12.649110640673518), ('GP278', 12.649110640673518), ('GP18', 12.68857754044952), ('GP209', 12.68857754044952), ('GP190', 12.727922061357855), ('GP56', 12.767145334803704), ('GP179', 12.767145334803704), ('GP220', 12.767145334803704), ('GP79', 12.806248474865697), ('GP206', 12.806248474865697), ('GP198', 12.84523257866513), ('GP181', 12.922847983320086), ('GP25', 12.96148139681572), ('GP156', 12.96148139681572), ('GP11', 13.076696830622021), ('GP96', 13.076696830622021), ('GP298', 13.076696830622021), ('GP194', 13.152946437965905), ('GP184', 13.30413469565007), ('GP271', 13.341664064126334), ('GP5', 13.379088160259652), ('GP281', 13.490737563232042), ('GP331', 13.490737563232042), ('GP158', 13.527749258468683), ('GP142', 13.638181696985855), ('GP252', 13.638181696985855), ('GP256', 13.674794331177344), ('GP192', 13.711309200802088), ('GP119', 13.784048752090222), ('GP3', 13.820274961085254), ('GP262', 13.820274961085254), ('GP86', 13.856406460551018), ('GP254', 13.892443989449804), ('GP69', 13.96424004376894), ('GP100', 14.2828568570857), ('GP229', 14.2828568570857), ('GP125', 14.317821063276353), ('GP107', 14.491376746189438), ('GP308', 14.594519519326424), ('GP189', 14.628738838327793), ('GP279', 14.696938456699069), ('GP226', 14.832396974191326), ('GP46', 14.866068747318506), ('GP251', 14.866068747318506), ('GP235', 14.933184523068078), ('GP26', 14.966629547095765), ('GP128', 15.0), ('GP211', 15.0), ('GP50', 15.132745950421556), ('GP253', 15.165750888103101), ('GP193', 15.297058540778355), ('GP91', 15.394804318340652), ('GP214', 15.491933384829668), ('GP162', 15.556349186104045), ('GP210', 15.556349186104045), ('GP36', 15.620499351813308), ('GP90', 15.84297951775486), ('GP219', 16.1245154965971), ('GP87', 16.217274740226856), ('GP207', 16.24807680927192), ('GP68', 16.30950643030009), ('GP83', 16.401219466856727), ('GP248', 16.431676725154983), ('GP165', 16.492422502470642), ('GP218', 16.61324772583615), ('GP104', 16.822603841260722), ('GP101', 16.911534525287763), ('GP93', 17.0), ('GP204', 17.204650534085253), ('GP73', 17.320508075688775), ('GP8', 17.4928556845359), ('GP221', 17.72004514666935), ('GP19', 17.916472867168917), ('GP1', 18.2208671582886), ('GP178', 18.2208671582886), ('GP217', 18.439088914585774), ('GP2', 18.547236990991408), ('GP342', 18.57417562100671), ('GP260', 18.841443681416774), ('GP311', 19.1049731745428), ('GP80', 19.261360284258224), ('GP335', 19.364916731037084), ('GP265', 19.390719429665317), ('GP317', 19.849433241279208), ('GP297', 19.87460691435179), ('GP249', 20.0), ('GP141', 20.024984394500787), ('GP334', 20.09975124224178), ('GP338', 20.223748416156685), ('GP174', 20.346989949375804), ('GP344', 20.42057785666214), ('GP169', 20.8806130178211), ('GP149', 20.904544960366874), ('GP240', 20.952326839756964), ('GP147', 21.142374511865974), ('GP161', 21.400934559032695), ('GP171', 21.79449471770337), ('GP222', 22.090722034374522), ('GP129', 22.40535650240808), ('GP151', 22.494443758403985), ('GP131', 22.825424421026653), ('GP136', 23.108440016582687), ('GP137', 23.366642891095847), ('GP163', 23.769728648009426), ('GP135', 23.895606290697042), ('GP243', 23.979157616563597), ('GP245', 24.145392935299274), ('GP132', 24.186773244895647), ('GP333', 24.289915602982237), ('GP145', 24.758836806279895), ('GP270', 24.819347291981714), ('GP154', 25.059928172283335), ('GP138', 25.357444666211933)]\n",
      "\n",
      "Nearest Student ['GP66', 'GP116', 'GP60', 'GP6', 'GP336']\n"
     ]
    }
   ],
   "source": [
    "perform_euclidean_distance(stdData, dataGP23, \"MS\")"
   ]
  },
  {
   "cell_type": "markdown",
   "metadata": {},
   "source": [
    "#### Euclidean distance: StudentID MS46"
   ]
  },
  {
   "cell_type": "code",
   "execution_count": 148,
   "metadata": {},
   "outputs": [
    {
     "data": {
      "text/html": [
       "<div>\n",
       "<style scoped>\n",
       "    .dataframe tbody tr th:only-of-type {\n",
       "        vertical-align: middle;\n",
       "    }\n",
       "\n",
       "    .dataframe tbody tr th {\n",
       "        vertical-align: top;\n",
       "    }\n",
       "\n",
       "    .dataframe thead th {\n",
       "        text-align: right;\n",
       "    }\n",
       "</style>\n",
       "<table border=\"1\" class=\"dataframe\">\n",
       "  <thead>\n",
       "    <tr style=\"text-align: right;\">\n",
       "      <th></th>\n",
       "      <th>studentID</th>\n",
       "      <th>age</th>\n",
       "      <th>G1</th>\n",
       "      <th>G2</th>\n",
       "      <th>G3</th>\n",
       "      <th>school_native</th>\n",
       "      <th>sex_native</th>\n",
       "      <th>address_native</th>\n",
       "      <th>famsize_native</th>\n",
       "      <th>Pstatus_native</th>\n",
       "      <th>...</th>\n",
       "      <th>reason_native</th>\n",
       "      <th>guardian_native</th>\n",
       "      <th>traveltime_native</th>\n",
       "      <th>studytime_native</th>\n",
       "      <th>famrel_native</th>\n",
       "      <th>freetime_native</th>\n",
       "      <th>Dalc_native</th>\n",
       "      <th>Walc_native</th>\n",
       "      <th>health_native</th>\n",
       "      <th>age_category</th>\n",
       "    </tr>\n",
       "  </thead>\n",
       "  <tbody>\n",
       "    <tr>\n",
       "      <th>45</th>\n",
       "      <td>MS46</td>\n",
       "      <td>19</td>\n",
       "      <td>8</td>\n",
       "      <td>9</td>\n",
       "      <td>9</td>\n",
       "      <td>1</td>\n",
       "      <td>1</td>\n",
       "      <td>0</td>\n",
       "      <td>1</td>\n",
       "      <td>1</td>\n",
       "      <td>...</td>\n",
       "      <td>0</td>\n",
       "      <td>1</td>\n",
       "      <td>1</td>\n",
       "      <td>2</td>\n",
       "      <td>2</td>\n",
       "      <td>1</td>\n",
       "      <td>3</td>\n",
       "      <td>1</td>\n",
       "      <td>1</td>\n",
       "      <td>2</td>\n",
       "    </tr>\n",
       "  </tbody>\n",
       "</table>\n",
       "<p>1 rows × 32 columns</p>\n",
       "</div>"
      ],
      "text/plain": [
       "   studentID  age  G1  G2  G3  school_native  sex_native  address_native  \\\n",
       "45      MS46   19   8   9   9              1           1               0   \n",
       "\n",
       "    famsize_native  Pstatus_native  ...  reason_native  guardian_native  \\\n",
       "45               1               1  ...              0                1   \n",
       "\n",
       "    traveltime_native  studytime_native  famrel_native  freetime_native  \\\n",
       "45                  1                 2              2                1   \n",
       "\n",
       "    Dalc_native  Walc_native  health_native  age_category  \n",
       "45            3            1              1             2  \n",
       "\n",
       "[1 rows x 32 columns]"
      ]
     },
     "execution_count": 148,
     "metadata": {},
     "output_type": "execute_result"
    }
   ],
   "source": [
    "# Fetching choosen data of studentId MS46\n",
    "dataMS46 = data.loc[data['studentID']=='MS46'][[\"studentID\",\"age\",\"G1\",\"G2\",\"G3\",\"school_native\",\"sex_native\",\n",
    "                                     \"address_native\",\"famsize_native\",\"Pstatus_native\",\n",
    "                                     \"schoolsup_native\",\"famsup_native\",\"paid_native\",\"activities_native\",\n",
    "                                     \"nursery_native\",\"higher_native\",\"internet_native\",\"romantic_native\",\n",
    "                                     \"Medu_native\",\"Fedu_native\",\"Mjob_native\",\"Fjob_native\",\"reason_native\",\n",
    "                                     \"guardian_native\",\"traveltime_native\",\"studytime_native\",\"famrel_native\",\n",
    "                                     \"freetime_native\",\"Dalc_native\",\"Walc_native\",\"health_native\",\"age_category\"]]\n",
    "dataMS46"
   ]
  },
  {
   "cell_type": "code",
   "execution_count": 149,
   "metadata": {},
   "outputs": [
    {
     "name": "stdout",
     "output_type": "stream",
     "text": [
      "Length of the dictionary:  46\n",
      "\n",
      "Sorted data [('MS46', 0.0), ('MS5', 5.0), ('MS2', 5.196152422706632), ('MS10', 5.477225575051661), ('MS4', 5.5677643628300215), ('MS29', 5.5677643628300215), ('MS7', 6.0), ('MS40', 6.0), ('MS22', 6.082762530298219), ('MS44', 6.244997998398398), ('MS17', 6.708203932499369), ('MS45', 6.708203932499369), ('MS27', 7.0), ('MS33', 7.0710678118654755), ('MS42', 7.0710678118654755), ('MS14', 7.14142842854285), ('MS37', 7.280109889280518), ('MS20', 7.3484692283495345), ('MS34', 7.615773105863909), ('MS16', 7.745966692414834), ('MS36', 7.810249675906654), ('MS31', 8.0), ('MS38', 8.0), ('MS24', 8.12403840463596), ('MS25', 8.660254037844387), ('MS9', 8.717797887081348), ('MS13', 8.831760866327848), ('MS1', 9.055385138137417), ('MS23', 9.055385138137417), ('MS18', 9.1104335791443), ('MS21', 9.1104335791443), ('MS8', 9.486832980505138), ('MS6', 9.797958971132712), ('MS12', 10.04987562112089), ('MS3', 10.198039027185569), ('MS35', 11.180339887498949), ('MS19', 11.357816691600547), ('MS39', 11.61895003862225), ('MS41', 11.661903789690601), ('MS28', 12.041594578792296), ('MS32', 12.288205727444508), ('MS43', 12.68857754044952), ('MS30', 12.96148139681572), ('MS15', 13.152946437965905), ('MS11', 15.198684153570664), ('MS26', 18.466185312619388)]\n",
      "\n",
      "Nearest Student ['MS5', 'MS2', 'MS10', 'MS4', 'MS29']\n"
     ]
    }
   ],
   "source": [
    "perform_euclidean_distance(stdData, dataMS46, \"GP\")"
   ]
  },
  {
   "cell_type": "markdown",
   "metadata": {},
   "source": [
    "### Manhattan distance"
   ]
  },
  {
   "cell_type": "code",
   "execution_count": 150,
   "metadata": {},
   "outputs": [],
   "source": [
    "def manhattan_distance(p,q):\n",
    "    return np.absolute(p-q).sum()"
   ]
  },
  {
   "cell_type": "code",
   "execution_count": 151,
   "metadata": {},
   "outputs": [],
   "source": [
    "#function to sort out the nearest data\n",
    "def perform_manhattan_distance(data, stdData, removeData):\n",
    "    dict_={}\n",
    "    for i in range(len(data.iloc[:,1:])):\n",
    "        dict_[data.iloc[i,0]]=manhattan_distance(np.array(stdData.iloc[:,1:]),\n",
    "                                                   np.array(data.iloc[i,1:]))\n",
    "\n",
    "    # removing data starts with GP for dictionaray\n",
    "    for k in list(dict_):\n",
    "        if k.startswith(removeData):\n",
    "            dict_.pop(k)\n",
    "    print(\"Length of the dictionary:\", len(dict_))\n",
    "    print()\n",
    "    \n",
    "    # sorting out dictionary data in ascending order\n",
    "    sortedDict= sorted(dict_.items(), key=lambda x: x[1])\n",
    "    print(\"Sorted data:\", sortedDict)\n",
    "    print()\n",
    "\n",
    "    # finding our nearest data\n",
    "    nearestStudent = [sortedDict[i][0] for i in range(1,6)]\n",
    "    print(\"Nearest Student:\", nearestStudent)"
   ]
  },
  {
   "cell_type": "markdown",
   "metadata": {},
   "source": [
    "### Manhattan distance: Student GP23"
   ]
  },
  {
   "cell_type": "code",
   "execution_count": 152,
   "metadata": {},
   "outputs": [
    {
     "name": "stdout",
     "output_type": "stream",
     "text": [
      "Length of the dictionary: 349\n",
      "\n",
      "Sorted data: [('GP23', 0), ('GP60', 10), ('GP116', 10), ('GP6', 12), ('GP66', 12), ('GP33', 13), ('GP188', 13), ('GP336', 14), ('GP21', 15), ('GP10', 16), ('GP49', 16), ('GP139', 16), ('GP227', 16), ('GP37', 17), ('GP92', 17), ('GP140', 17), ('GP216', 17), ('GP343', 17), ('GP114', 18), ('GP168', 18), ('GP196', 18), ('GP197', 18), ('GP58', 19), ('GP84', 19), ('GP13', 20), ('GP15', 20), ('GP32', 20), ('GP57', 20), ('GP102', 20), ('GP121', 20), ('GP122', 20), ('GP201', 20), ('GP347', 20), ('GP4', 21), ('GP88', 21), ('GP105', 21), ('GP110', 21), ('GP172', 21), ('GP290', 21), ('GP292', 21), ('GP9', 22), ('GP16', 22), ('GP35', 22), ('GP43', 22), ('GP108', 22), ('GP111', 22), ('GP173', 22), ('GP225', 22), ('GP244', 22), ('GP349', 22), ('GP7', 23), ('GP52', 23), ('GP118', 23), ('GP124', 23), ('GP159', 23), ('GP182', 23), ('GP241', 23), ('GP250', 23), ('GP259', 23), ('GP289', 23), ('GP300', 23), ('GP321', 23), ('GP324', 23), ('GP22', 24), ('GP24', 24), ('GP28', 24), ('GP38', 24), ('GP103', 24), ('GP170', 24), ('GP183', 24), ('GP223', 24), ('GP231', 24), ('GP238', 24), ('GP303', 24), ('GP305', 24), ('GP307', 24), ('GP17', 25), ('GP70', 25), ('GP71', 25), ('GP130', 25), ('GP208', 25), ('GP234', 25), ('GP257', 25), ('GP276', 25), ('GP327', 25), ('GP330', 25), ('GP339', 25), ('GP346', 25), ('GP51', 26), ('GP99', 26), ('GP113', 26), ('GP123', 26), ('GP144', 26), ('GP166', 26), ('GP191', 26), ('GP195', 26), ('GP261', 26), ('GP274', 26), ('GP295', 26), ('GP296', 26), ('GP309', 26), ('GP14', 27), ('GP74', 27), ('GP117', 27), ('GP152', 27), ('GP177', 27), ('GP232', 27), ('GP246', 27), ('GP272', 27), ('GP291', 27), ('GP332', 27), ('GP77', 28), ('GP97', 28), ('GP126', 28), ('GP133', 28), ('GP143', 28), ('GP199', 28), ('GP237', 28), ('GP263', 28), ('GP320', 28), ('GP27', 29), ('GP29', 29), ('GP30', 29), ('GP42', 29), ('GP120', 29), ('GP157', 29), ('GP180', 29), ('GP185', 29), ('GP186', 29), ('GP247', 29), ('GP280', 29), ('GP288', 29), ('GP299', 29), ('GP313', 29), ('GP48', 30), ('GP76', 30), ('GP94', 30), ('GP95', 30), ('GP160', 30), ('GP187', 30), ('GP200', 30), ('GP233', 30), ('GP293', 30), ('GP315', 30), ('GP325', 30), ('GP326', 30), ('GP20', 31), ('GP34', 31), ('GP39', 31), ('GP89', 31), ('GP134', 31), ('GP146', 31), ('GP148', 31), ('GP266', 31), ('GP285', 31), ('GP294', 31), ('GP302', 31), ('GP304', 31), ('GP348', 31), ('GP72', 32), ('GP75', 32), ('GP212', 32), ('GP213', 32), ('GP228', 32), ('GP230', 32), ('GP242', 32), ('GP255', 32), ('GP40', 33), ('GP63', 33), ('GP176', 33), ('GP181', 33), ('GP203', 33), ('GP239', 33), ('GP273', 33), ('GP306', 33), ('GP323', 33), ('GP329', 33), ('GP337', 33), ('GP53', 34), ('GP65', 34), ('GP78', 34), ('GP155', 34), ('GP175', 34), ('GP258', 34), ('GP269', 34), ('GP282', 34), ('GP286', 34), ('GP322', 34), ('GP12', 35), ('GP45', 35), ('GP47', 35), ('GP55', 35), ('GP59', 35), ('GP81', 35), ('GP82', 35), ('GP150', 35), ('GP167', 35), ('GP256', 35), ('GP267', 35), ('GP268', 35), ('GP301', 35), ('GP316', 35), ('GP318', 35), ('GP31', 36), ('GP61', 36), ('GP236', 36), ('GP281', 36), ('GP287', 36), ('GP310', 36), ('GP312', 36), ('GP314', 36), ('GP331', 36), ('GP341', 36), ('GP44', 37), ('GP54', 37), ('GP85', 37), ('GP98', 37), ('GP112', 37), ('GP179', 37), ('GP215', 37), ('GP224', 37), ('GP262', 37), ('GP283', 37), ('GP345', 37), ('GP41', 38), ('GP62', 38), ('GP67', 38), ('GP79', 38), ('GP115', 38), ('GP119', 38), ('GP127', 38), ('GP156', 38), ('GP190', 38), ('GP192', 38), ('GP202', 38), ('GP328', 38), ('GP340', 38), ('GP3', 39), ('GP5', 39), ('GP46', 39), ('GP56', 39), ('GP64', 39), ('GP125', 39), ('GP164', 39), ('GP184', 39), ('GP205', 39), ('GP235', 39), ('GP277', 39), ('GP284', 39), ('GP25', 40), ('GP86', 40), ('GP153', 40), ('GP264', 40), ('GP278', 40), ('GP319', 40), ('GP11', 41), ('GP18', 41), ('GP50', 41), ('GP83', 41), ('GP194', 41), ('GP209', 41), ('GP220', 41), ('GP251', 41), ('GP254', 41), ('GP298', 41), ('GP100', 42), ('GP107', 42), ('GP109', 42), ('GP162', 42), ('GP214', 42), ('GP19', 43), ('GP69', 43), ('GP87', 43), ('GP90', 43), ('GP96', 43), ('GP106', 43), ('GP198', 43), ('GP26', 44), ('GP36', 44), ('GP68', 44), ('GP142', 44), ('GP206', 44), ('GP210', 44), ('GP252', 44), ('GP271', 44), ('GP275', 44), ('GP91', 45), ('GP342', 45), ('GP101', 46), ('GP165', 46), ('GP189', 46), ('GP193', 46), ('GP226', 46), ('GP104', 47), ('GP158', 47), ('GP260', 47), ('GP8', 48), ('GP207', 48), ('GP229', 48), ('GP253', 48), ('GP93', 49), ('GP128', 49), ('GP211', 49), ('GP243', 49), ('GP308', 49), ('GP311', 49), ('GP2', 50), ('GP174', 50), ('GP178', 50), ('GP204', 50), ('GP217', 50), ('GP221', 50), ('GP249', 50), ('GP279', 50), ('GP317', 50), ('GP80', 51), ('GP141', 51), ('GP149', 51), ('GP163', 51), ('GP335', 51), ('GP338', 51), ('GP1', 52), ('GP73', 52), ('GP136', 52), ('GP169', 52), ('GP218', 52), ('GP265', 52), ('GP334', 52), ('GP219', 54), ('GP248', 54), ('GP131', 55), ('GP147', 55), ('GP137', 56), ('GP161', 56), ('GP222', 56), ('GP171', 57), ('GP240', 57), ('GP297', 57), ('GP145', 59), ('GP344', 59), ('GP129', 60), ('GP333', 60), ('GP132', 61), ('GP135', 61), ('GP151', 62), ('GP138', 63), ('GP245', 63), ('GP154', 64), ('GP270', 66)]\n",
      "\n",
      "Nearest Student: ['GP60', 'GP116', 'GP6', 'GP66', 'GP33']\n"
     ]
    }
   ],
   "source": [
    "perform_manhattan_distance(stdData, dataGP23, \"MS\")"
   ]
  },
  {
   "cell_type": "markdown",
   "metadata": {},
   "source": [
    "### Manhattan distance: Student MS46"
   ]
  },
  {
   "cell_type": "code",
   "execution_count": 153,
   "metadata": {},
   "outputs": [
    {
     "name": "stdout",
     "output_type": "stream",
     "text": [
      "Length of the dictionary: 46\n",
      "\n",
      "Sorted data: [('MS46', 0), ('MS5', 15), ('MS2', 17), ('MS10', 18), ('MS4', 19), ('MS29', 21), ('MS44', 21), ('MS7', 22), ('MS40', 22), ('MS22', 23), ('MS45', 23), ('MS27', 25), ('MS33', 26), ('MS42', 26), ('MS17', 27), ('MS36', 27), ('MS16', 28), ('MS20', 28), ('MS14', 29), ('MS25', 29), ('MS35', 29), ('MS37', 29), ('MS24', 30), ('MS34', 30), ('MS18', 31), ('MS21', 31), ('MS1', 32), ('MS13', 32), ('MS23', 32), ('MS38', 32), ('MS9', 34), ('MS31', 34), ('MS41', 34), ('MS19', 35), ('MS39', 35), ('MS12', 37), ('MS43', 37), ('MS3', 38), ('MS8', 38), ('MS11', 41), ('MS28', 41), ('MS32', 41), ('MS6', 42), ('MS15', 43), ('MS30', 44), ('MS26', 51)]\n",
      "\n",
      "Nearest Student: ['MS5', 'MS2', 'MS10', 'MS4', 'MS29']\n"
     ]
    }
   ],
   "source": [
    "perform_manhattan_distance(stdData, dataMS46, \"GP\")     "
   ]
  },
  {
   "cell_type": "markdown",
   "metadata": {},
   "source": [
    "# 5. Data Exploration and Visualization\n",
    "\n",
    "### a) Write code to show histogram plots of the variables age, absences, G1, G2 and G3. Use proper labels in the graph."
   ]
  },
  {
   "cell_type": "code",
   "execution_count": 154,
   "metadata": {},
   "outputs": [
    {
     "data": {
      "text/plain": [
       "Text(0.5, 1.0, 'Student Enrollment Statistics By Age')"
      ]
     },
     "execution_count": 154,
     "metadata": {},
     "output_type": "execute_result"
    },
    {
     "data": {
      "image/png": "[encoded data removed]",
      "text/plain": [
       "<Figure size 432x288 with 1 Axes>"
      ]
     },
     "metadata": {
      "needs_background": "light"
     },
     "output_type": "display_data"
    }
   ],
   "source": [
    "#Plotting histogram of the age level of the enrolled student\n",
    "plt.hist(data[\"age\"], label=\"age\", color=\"seagreen\",\n",
    "         edgecolor=\"black\", linewidth=0.6)\n",
    "plt.xlabel('Student Age')\n",
    "plt.ylabel('Number of students')\n",
    "plt.legend()\n",
    "plt.title(\"Student Enrollment Statistics By Age\")"
   ]
  },
  {
   "cell_type": "code",
   "execution_count": 155,
   "metadata": {},
   "outputs": [
    {
     "data": {
      "text/plain": [
       "Text(0.5, 1.0, 'Student Enrollment Statistics By Absences')"
      ]
     },
     "execution_count": 155,
     "metadata": {},
     "output_type": "execute_result"
    },
    {
     "data": {
      "image/png": "[encoded data removed]",
      "text/plain": [
       "<Figure size 432x288 with 1 Axes>"
      ]
     },
     "metadata": {
      "needs_background": "light"
     },
     "output_type": "display_data"
    }
   ],
   "source": [
    "#Plotting histogram consisting the number of absent days of the student\n",
    "plt.hist(data[\"absences\"], label=\"absences\", color=\"seagreen\",\n",
    "         edgecolor=\"black\", linewidth=0.6)\n",
    "plt.xlabel('Student Absences')\n",
    "plt.ylabel('Number of students')\n",
    "plt.legend()\n",
    "plt.title(\"Student Enrollment Statistics By Absences\")"
   ]
  },
  {
   "cell_type": "code",
   "execution_count": 156,
   "metadata": {},
   "outputs": [
    {
     "data": {
      "text/plain": [
       "Text(0.5, 1.0, 'First Period Grade Statistics')"
      ]
     },
     "execution_count": 156,
     "metadata": {},
     "output_type": "execute_result"
    },
    {
     "data": {
      "image/png": "[encoded data removed]",
      "text/plain": [
       "<Figure size 432x288 with 1 Axes>"
      ]
     },
     "metadata": {
      "needs_background": "light"
     },
     "output_type": "display_data"
    }
   ],
   "source": [
    "#Plotting histogram of the first period grade that students achieved\n",
    "plt.hist(data[\"G1\"], label=\"G1\", edgecolor=\"black\", linewidth=0.6)\n",
    "plt.legend()\n",
    "plt.xlabel('First Period Grade')\n",
    "plt.ylabel('Number of students')\n",
    "plt.title(\"First Period Grade Statistics\")"
   ]
  },
  {
   "cell_type": "code",
   "execution_count": 157,
   "metadata": {},
   "outputs": [
    {
     "data": {
      "text/plain": [
       "Text(0.5, 1.0, 'Second Period Grade Statistics')"
      ]
     },
     "execution_count": 157,
     "metadata": {},
     "output_type": "execute_result"
    },
    {
     "data": {
      "image/png": "[encoded data removed]",
      "text/plain": [
       "<Figure size 432x288 with 1 Axes>"
      ]
     },
     "metadata": {
      "needs_background": "light"
     },
     "output_type": "display_data"
    }
   ],
   "source": [
    "#Plotting histogram of the second period grade that students achieved\n",
    "plt.hist(data[\"G2\"], label=\"G2\", edgecolor=\"black\", linewidth=0.6)\n",
    "plt.legend()\n",
    "plt.xlabel('Second period grade')\n",
    "plt.ylabel('Number of students')\n",
    "plt.title(\"Second Period Grade Statistics\")"
   ]
  },
  {
   "cell_type": "code",
   "execution_count": 158,
   "metadata": {},
   "outputs": [
    {
     "data": {
      "text/plain": [
       "Text(0.5, 1.0, 'Final Grade Statistics')"
      ]
     },
     "execution_count": 158,
     "metadata": {},
     "output_type": "execute_result"
    },
    {
     "data": {
      "image/png": "[encoded data removed]",
      "text/plain": [
       "<Figure size 432x288 with 1 Axes>"
      ]
     },
     "metadata": {
      "needs_background": "light"
     },
     "output_type": "display_data"
    }
   ],
   "source": [
    "#Plotting histogram of the final grade that students achieved\n",
    "plt.hist(data[\"G3\"], label=\"G3\", edgecolor=\"black\", linewidth=0.6)\n",
    "plt.xlabel('Final grade')\n",
    "plt.ylabel('Number of students')\n",
    "plt.legend()\n",
    "plt.title(\"Final Grade Statistics\")"
   ]
  },
  {
   "cell_type": "markdown",
   "metadata": {},
   "source": [
    "### b) Write code to show a bar graph of the total number of students who passed the final term grouped according to the school that they belong to. Use proper labels in the graph."
   ]
  },
  {
   "cell_type": "code",
   "execution_count": 159,
   "metadata": {},
   "outputs": [
    {
     "data": {
      "text/html": [
       "<div>\n",
       "<style scoped>\n",
       "    .dataframe tbody tr th:only-of-type {\n",
       "        vertical-align: middle;\n",
       "    }\n",
       "\n",
       "    .dataframe tbody tr th {\n",
       "        vertical-align: top;\n",
       "    }\n",
       "\n",
       "    .dataframe thead th {\n",
       "        text-align: right;\n",
       "    }\n",
       "</style>\n",
       "<table border=\"1\" class=\"dataframe\">\n",
       "  <thead>\n",
       "    <tr style=\"text-align: right;\">\n",
       "      <th></th>\n",
       "      <th>G3</th>\n",
       "      <th>passed</th>\n",
       "    </tr>\n",
       "  </thead>\n",
       "  <tbody>\n",
       "    <tr>\n",
       "      <th>0</th>\n",
       "      <td>6</td>\n",
       "      <td>no</td>\n",
       "    </tr>\n",
       "    <tr>\n",
       "      <th>1</th>\n",
       "      <td>6</td>\n",
       "      <td>no</td>\n",
       "    </tr>\n",
       "    <tr>\n",
       "      <th>2</th>\n",
       "      <td>10</td>\n",
       "      <td>yes</td>\n",
       "    </tr>\n",
       "    <tr>\n",
       "      <th>3</th>\n",
       "      <td>15</td>\n",
       "      <td>yes</td>\n",
       "    </tr>\n",
       "    <tr>\n",
       "      <th>4</th>\n",
       "      <td>10</td>\n",
       "      <td>yes</td>\n",
       "    </tr>\n",
       "  </tbody>\n",
       "</table>\n",
       "</div>"
      ],
      "text/plain": [
       "   G3 passed\n",
       "0   6     no\n",
       "1   6     no\n",
       "2  10    yes\n",
       "3  15    yes\n",
       "4  10    yes"
      ]
     },
     "execution_count": 159,
     "metadata": {},
     "output_type": "execute_result"
    }
   ],
   "source": [
    "data[[\"G3\",\"passed\"]].head() # displaying passed status on the final grade (G3)"
   ]
  },
  {
   "cell_type": "code",
   "execution_count": 160,
   "metadata": {},
   "outputs": [
    {
     "data": {
      "text/plain": [
       "GP    288\n",
       "MS     37\n",
       "Name: school, dtype: int64"
      ]
     },
     "execution_count": 160,
     "metadata": {},
     "output_type": "execute_result"
    }
   ],
   "source": [
    "passed_data = data[data.passed==\"yes\"] #extracting passed students of final term\n",
    "schl_cnt = passed_data['school'].value_counts() #counting passed students of each school\n",
    "schl_cnt"
   ]
  },
  {
   "cell_type": "code",
   "execution_count": 161,
   "metadata": {},
   "outputs": [
    {
     "data": {
      "text/plain": [
       "Text(1, 40, '37')"
      ]
     },
     "execution_count": 161,
     "metadata": {},
     "output_type": "execute_result"
    },
    {
     "data": {
      "image/png": "[encoded data removed]",
      "text/plain": [
       "<Figure size 432x288 with 1 Axes>"
      ]
     },
     "metadata": {
      "needs_background": "light"
     },
     "output_type": "display_data"
    }
   ],
   "source": [
    "#Plotting the bargraph showing the total number of passed student in the final term\n",
    "#according to the school (GP and MS)\n",
    "schl_cnt.plot(kind=\"bar\", edgecolor=\"black\")\n",
    "plt.title(\"No. of passed student in final term\")\n",
    "plt.ylabel(\"Number of students\")\n",
    "plt.xlabel(\"School\")\n",
    "plt.text(0,290,288)\n",
    "plt.text(1,40,37)"
   ]
  },
  {
   "cell_type": "markdown",
   "metadata": {},
   "source": [
    "### c) Write code to show a bar graph of the total number of students who failed the final term grouped according to their weekly study time. Use proper labels in the graph."
   ]
  },
  {
   "cell_type": "code",
   "execution_count": 162,
   "metadata": {},
   "outputs": [
    {
     "data": {
      "text/html": [
       "<div>\n",
       "<style scoped>\n",
       "    .dataframe tbody tr th:only-of-type {\n",
       "        vertical-align: middle;\n",
       "    }\n",
       "\n",
       "    .dataframe tbody tr th {\n",
       "        vertical-align: top;\n",
       "    }\n",
       "\n",
       "    .dataframe thead th {\n",
       "        text-align: right;\n",
       "    }\n",
       "</style>\n",
       "<table border=\"1\" class=\"dataframe\">\n",
       "  <thead>\n",
       "    <tr style=\"text-align: right;\">\n",
       "      <th></th>\n",
       "      <th>studytime</th>\n",
       "      <th>G3</th>\n",
       "    </tr>\n",
       "  </thead>\n",
       "  <tbody>\n",
       "    <tr>\n",
       "      <th>0</th>\n",
       "      <td>2 to 5 hours</td>\n",
       "      <td>6</td>\n",
       "    </tr>\n",
       "    <tr>\n",
       "      <th>1</th>\n",
       "      <td>2 to 5 hours</td>\n",
       "      <td>6</td>\n",
       "    </tr>\n",
       "    <tr>\n",
       "      <th>2</th>\n",
       "      <td>2 to 5 hours</td>\n",
       "      <td>10</td>\n",
       "    </tr>\n",
       "    <tr>\n",
       "      <th>3</th>\n",
       "      <td>5 to 10 hours</td>\n",
       "      <td>15</td>\n",
       "    </tr>\n",
       "    <tr>\n",
       "      <th>4</th>\n",
       "      <td>2 to 5 hours</td>\n",
       "      <td>10</td>\n",
       "    </tr>\n",
       "  </tbody>\n",
       "</table>\n",
       "</div>"
      ],
      "text/plain": [
       "       studytime  G3\n",
       "0   2 to 5 hours   6\n",
       "1   2 to 5 hours   6\n",
       "2   2 to 5 hours  10\n",
       "3  5 to 10 hours  15\n",
       "4   2 to 5 hours  10"
      ]
     },
     "execution_count": 162,
     "metadata": {},
     "output_type": "execute_result"
    }
   ],
   "source": [
    "data[['studytime','G3']].head()"
   ]
  },
  {
   "cell_type": "code",
   "execution_count": 163,
   "metadata": {},
   "outputs": [
    {
     "data": {
      "text/plain": [
       "2 to 5 hours     37\n",
       "<2 hours         22\n",
       "5 to 10 hours     7\n",
       ">10 hours         4\n",
       "Name: studytime, dtype: int64"
      ]
     },
     "execution_count": 163,
     "metadata": {},
     "output_type": "execute_result"
    }
   ],
   "source": [
    "fail_data = data[data.G3 < 8] #Getting final failed result from column G3 \n",
    "wstdtime_cnt = fail_data['studytime'].value_counts() #Total number of failed students according to fail_data\n",
    "wstdtime_cnt"
   ]
  },
  {
   "cell_type": "code",
   "execution_count": 164,
   "metadata": {},
   "outputs": [
    {
     "data": {
      "text/plain": [
       "<matplotlib.legend.Legend at 0x26d4d19c6c8>"
      ]
     },
     "execution_count": 164,
     "metadata": {},
     "output_type": "execute_result"
    },
    {
     "data": {
      "image/png": "[encoded data removed]",
      "text/plain": [
       "<Figure size 432x288 with 1 Axes>"
      ]
     },
     "metadata": {
      "needs_background": "light"
     },
     "output_type": "display_data"
    }
   ],
   "source": [
    "#Plotting the bargraph showing the total number of failed student in the final term (G3)\n",
    "wstdtime_cnt.plot(kind='bar', color=\"grey\", edgecolor=\"black\")\n",
    "plt.title(\"Fail Students Statistics\")\n",
    "plt.ylabel(\"Number of students\")\n",
    "plt.xlabel(\"Weekly study-time\")\n",
    "plt.text(-0.1,37.5,37)\n",
    "plt.text(0.9,22.5,22)\n",
    "plt.text(1.9,7.5,7)\n",
    "plt.text(2.9,4.5,4)\n",
    "plt.legend()"
   ]
  },
  {
   "cell_type": "markdown",
   "metadata": {},
   "source": [
    "# 6. Further Analysis\n",
    "### a) Total students in each school according to the dataset"
   ]
  },
  {
   "cell_type": "code",
   "execution_count": 165,
   "metadata": {},
   "outputs": [
    {
     "data": {
      "text/plain": [
       "GP    349\n",
       "MS     46\n",
       "Name: school, dtype: int64"
      ]
     },
     "execution_count": 165,
     "metadata": {},
     "output_type": "execute_result"
    }
   ],
   "source": [
    "#Counting the total no. of school with its total students\n",
    "student_schl = data['school'].value_counts()\n",
    "student_schl"
   ]
  },
  {
   "cell_type": "code",
   "execution_count": 166,
   "metadata": {},
   "outputs": [
    {
     "data": {
      "text/plain": [
       "Text(0.5, 1.0, 'Number of Students According to the School')"
      ]
     },
     "execution_count": 166,
     "metadata": {},
     "output_type": "execute_result"
    },
    {
     "data": {
      "image/png": "[encoded data removed]",
      "text/plain": [
       "<Figure size 432x288 with 1 Axes>"
      ]
     },
     "metadata": {},
     "output_type": "display_data"
    }
   ],
   "source": [
    "#Plotting pie-chart containing the total no of each school student's\n",
    "plt.pie(student_schl, \n",
    "        explode=[0,0.2], \n",
    "        labels=[\"GP\",\"MS\"], \n",
    "        autopct=\"%.2f%%\",\n",
    "        radius=1.2,\n",
    "       )\n",
    "plt.title(\"Number of Students According to the School\")"
   ]
  },
  {
   "cell_type": "markdown",
   "metadata": {},
   "source": [
    "### b) Gender Calculation of each schools' the students \n",
    "\n",
    "#### i) Gender Statistics of GP School"
   ]
  },
  {
   "cell_type": "code",
   "execution_count": 167,
   "metadata": {},
   "outputs": [
    {
     "data": {
      "text/plain": [
       "F    183\n",
       "M    166\n",
       "Name: sex, dtype: int64"
      ]
     },
     "execution_count": 167,
     "metadata": {},
     "output_type": "execute_result"
    }
   ],
   "source": [
    "#Counting the total no. of male and female gender in GP school\n",
    "gp_std_sex = data.loc[data[\"school\"]==\"GP\",\"sex\"].value_counts()\n",
    "gp_std_sex"
   ]
  },
  {
   "cell_type": "code",
   "execution_count": 168,
   "metadata": {},
   "outputs": [
    {
     "data": {
      "text/plain": [
       "Text(0.5, 1.0, 'Gender Statistics of GP School')"
      ]
     },
     "execution_count": 168,
     "metadata": {},
     "output_type": "execute_result"
    },
    {
     "data": {
      "image/png": "[encoded data removed]",
      "text/plain": [
       "<Figure size 432x288 with 1 Axes>"
      ]
     },
     "metadata": {},
     "output_type": "display_data"
    }
   ],
   "source": [
    "#Plotting pie-chart containing the total no of male and female students in GP school\n",
    "plt.pie(gp_std_sex, \n",
    "        explode=[0,0.2], \n",
    "        labels=[\"Male\",\"Female\"], \n",
    "        autopct=\"%.0f%%\",\n",
    "       )\n",
    "plt.title(\"Gender Statistics of GP School\")"
   ]
  },
  {
   "cell_type": "markdown",
   "metadata": {},
   "source": [
    "#### ii) Gender Statistics of MS School"
   ]
  },
  {
   "cell_type": "code",
   "execution_count": 169,
   "metadata": {},
   "outputs": [
    {
     "data": {
      "text/plain": [
       "F    25\n",
       "M    21\n",
       "Name: sex, dtype: int64"
      ]
     },
     "execution_count": 169,
     "metadata": {},
     "output_type": "execute_result"
    }
   ],
   "source": [
    "#Counting the total no. of male and female gender in MS school\n",
    "ms_std_sex = data.loc[data[\"school\"]==\"MS\",\"sex\"].value_counts()\n",
    "ms_std_sex"
   ]
  },
  {
   "cell_type": "code",
   "execution_count": 170,
   "metadata": {},
   "outputs": [
    {
     "data": {
      "text/plain": [
       "Text(0.5, 1.0, 'Gender Statistics of GP School')"
      ]
     },
     "execution_count": 170,
     "metadata": {},
     "output_type": "execute_result"
    },
    {
     "data": {
      "image/png": "[encoded data removed]",
      "text/plain": [
       "<Figure size 432x288 with 1 Axes>"
      ]
     },
     "metadata": {},
     "output_type": "display_data"
    }
   ],
   "source": [
    "#Plotting pie-chart containing the total no of male and female students in GP school\n",
    "plt.pie(ms_std_sex, \n",
    "        explode=[0,0.2], \n",
    "        labels=[\"Male\",\"Female\"], \n",
    "        autopct=\"%.0f%%\",\n",
    "       )\n",
    "plt.title(\"Gender Statistics of GP School\")"
   ]
  },
  {
   "cell_type": "markdown",
   "metadata": {},
   "source": [
    "#### iii) Gender Statistics of Overall Schools"
   ]
  },
  {
   "cell_type": "code",
   "execution_count": 171,
   "metadata": {},
   "outputs": [
    {
     "data": {
      "text/plain": [
       "F    208\n",
       "M    187\n",
       "Name: sex, dtype: int64"
      ]
     },
     "execution_count": 171,
     "metadata": {},
     "output_type": "execute_result"
    }
   ],
   "source": [
    "#Counting the total no. of male and female gender\n",
    "school_sex = data[\"sex\"].value_counts()\n",
    "school_sex"
   ]
  },
  {
   "cell_type": "code",
   "execution_count": 172,
   "metadata": {},
   "outputs": [
    {
     "data": {
      "text/plain": [
       "Text(0.5, 1.0, 'Gender Statistics of GP School')"
      ]
     },
     "execution_count": 172,
     "metadata": {},
     "output_type": "execute_result"
    },
    {
     "data": {
      "image/png": "[encoded data removed]",
      "text/plain": [
       "<Figure size 432x288 with 1 Axes>"
      ]
     },
     "metadata": {},
     "output_type": "display_data"
    }
   ],
   "source": [
    "#Plotting pie-chart containing the total no of male and female students\n",
    "plt.pie(school_sex, \n",
    "        explode=[0,0.2], \n",
    "        labels=[\"Male\",\"Female\"], \n",
    "        autopct=\"%.0f%%\",\n",
    "       )\n",
    "plt.title(\"Gender Statistics of GP School\")"
   ]
  },
  {
   "cell_type": "markdown",
   "metadata": {},
   "source": [
    "### c) Total number of passed and failed students in each school\n",
    "\n",
    "#### i) Passed Column Status of GP School"
   ]
  },
  {
   "cell_type": "code",
   "execution_count": 173,
   "metadata": {},
   "outputs": [
    {
     "data": {
      "text/plain": [
       "yes    288\n",
       "no      61\n",
       "Name: passed, dtype: int64"
      ]
     },
     "execution_count": 173,
     "metadata": {},
     "output_type": "execute_result"
    }
   ],
   "source": [
    "#Counting the total no. of male and female gender in GP school\n",
    "gp_passed_count = data.loc[data[\"school\"]==\"GP\",\"passed\"].value_counts()\n",
    "gp_passed_count"
   ]
  },
  {
   "cell_type": "code",
   "execution_count": 174,
   "metadata": {},
   "outputs": [
    {
     "data": {
      "text/plain": [
       "82.52148997134671"
      ]
     },
     "execution_count": 174,
     "metadata": {},
     "output_type": "execute_result"
    }
   ],
   "source": [
    "# calculating total percentage rate of passed students\n",
    "gp_passed_rate = (gp_passed_count['yes']/gp_passed_count.sum())*100\n",
    "gp_passed_rate"
   ]
  },
  {
   "cell_type": "code",
   "execution_count": 175,
   "metadata": {},
   "outputs": [
    {
     "data": {
      "text/plain": [
       "17.478510028653297"
      ]
     },
     "execution_count": 175,
     "metadata": {},
     "output_type": "execute_result"
    }
   ],
   "source": [
    "# calculating total percentage rate of failed students\n",
    "gp_fail_rate = (gp_passed_count['no']/gp_passed_count.sum())*100\n",
    "gp_fail_rate"
   ]
  },
  {
   "cell_type": "markdown",
   "metadata": {},
   "source": [
    "#### ii) Passed Column Status of MS School"
   ]
  },
  {
   "cell_type": "code",
   "execution_count": 176,
   "metadata": {},
   "outputs": [
    {
     "data": {
      "text/plain": [
       "yes    37\n",
       "no      9\n",
       "Name: passed, dtype: int64"
      ]
     },
     "execution_count": 176,
     "metadata": {},
     "output_type": "execute_result"
    }
   ],
   "source": [
    "#Counting the total no. of male and female gender in MS school\n",
    "ms_passed_count = data.loc[data[\"school\"]==\"MS\",\"passed\"].value_counts()\n",
    "ms_passed_count"
   ]
  },
  {
   "cell_type": "code",
   "execution_count": 177,
   "metadata": {},
   "outputs": [
    {
     "data": {
      "text/plain": [
       "80.43478260869566"
      ]
     },
     "execution_count": 177,
     "metadata": {},
     "output_type": "execute_result"
    }
   ],
   "source": [
    "# calculating total percentage rate of passed students\n",
    "ms_passed_rate = (ms_passed_count['yes']/ms_passed_count.sum())*100\n",
    "ms_passed_rate"
   ]
  },
  {
   "cell_type": "code",
   "execution_count": 178,
   "metadata": {},
   "outputs": [
    {
     "data": {
      "text/plain": [
       "19.565217391304348"
      ]
     },
     "execution_count": 178,
     "metadata": {},
     "output_type": "execute_result"
    }
   ],
   "source": [
    "# calculating total percentage rate of failed students\n",
    "ms_fail_rate = (ms_passed_count['no']/ms_passed_count.sum())*100\n",
    "ms_fail_rate"
   ]
  },
  {
   "cell_type": "markdown",
   "metadata": {},
   "source": [
    "#### iii) Passed Column Status of both MS & GP School in a bar-graph"
   ]
  },
  {
   "cell_type": "code",
   "execution_count": 179,
   "metadata": {},
   "outputs": [],
   "source": [
    "rate_index=[\"gp_passed_rate\",\"gp_fail_rate\",\"ms_passed_rate\",\"ms_fail_rate\"]"
   ]
  },
  {
   "cell_type": "code",
   "execution_count": 180,
   "metadata": {},
   "outputs": [
    {
     "data": {
      "text/html": [
       "<div>\n",
       "<style scoped>\n",
       "    .dataframe tbody tr th:only-of-type {\n",
       "        vertical-align: middle;\n",
       "    }\n",
       "\n",
       "    .dataframe tbody tr th {\n",
       "        vertical-align: top;\n",
       "    }\n",
       "\n",
       "    .dataframe thead th {\n",
       "        text-align: right;\n",
       "    }\n",
       "</style>\n",
       "<table border=\"1\" class=\"dataframe\">\n",
       "  <thead>\n",
       "    <tr style=\"text-align: right;\">\n",
       "      <th></th>\n",
       "      <th>Percentage</th>\n",
       "    </tr>\n",
       "  </thead>\n",
       "  <tbody>\n",
       "    <tr>\n",
       "      <th>gp_passed_rate</th>\n",
       "      <td>82.521490</td>\n",
       "    </tr>\n",
       "    <tr>\n",
       "      <th>gp_fail_rate</th>\n",
       "      <td>17.478510</td>\n",
       "    </tr>\n",
       "    <tr>\n",
       "      <th>ms_passed_rate</th>\n",
       "      <td>80.434783</td>\n",
       "    </tr>\n",
       "    <tr>\n",
       "      <th>ms_fail_rate</th>\n",
       "      <td>19.565217</td>\n",
       "    </tr>\n",
       "  </tbody>\n",
       "</table>\n",
       "</div>"
      ],
      "text/plain": [
       "                Percentage\n",
       "gp_passed_rate   82.521490\n",
       "gp_fail_rate     17.478510\n",
       "ms_passed_rate   80.434783\n",
       "ms_fail_rate     19.565217"
      ]
     },
     "execution_count": 180,
     "metadata": {},
     "output_type": "execute_result"
    }
   ],
   "source": [
    "new_df = pd.DataFrame({\"Percentage\":[gp_passed_rate,gp_fail_rate,ms_passed_rate,ms_fail_rate]},\n",
    "                       index=rate_index)\n",
    "new_df"
   ]
  },
  {
   "cell_type": "code",
   "execution_count": 181,
   "metadata": {},
   "outputs": [
    {
     "data": {
      "text/plain": [
       "Text(0, 0.5, 'Percentage')"
      ]
     },
     "execution_count": 181,
     "metadata": {},
     "output_type": "execute_result"
    },
    {
     "data": {
      "image/png": "[encoded data removed]",
      "text/plain": [
       "<Figure size 720x432 with 1 Axes>"
      ]
     },
     "metadata": {
      "needs_background": "light"
     },
     "output_type": "display_data"
    }
   ],
   "source": [
    "#Plotting bar-graph containing pass status of each school\n",
    "new_df.plot.bar(rot=0, figsize=(10,6))\n",
    "plt.xticks(rotation=\"vertical\")\n",
    "plt.title(\"Passed students of each school\")\n",
    "plt.xlabel(\"Pass/Fail rate\")\n",
    "plt.ylabel(\"Percentage\")"
   ]
  },
  {
   "cell_type": "markdown",
   "metadata": {},
   "source": [
    "### d) Student's family status\n",
    "#### i) Mother Job Analysis"
   ]
  },
  {
   "cell_type": "code",
   "execution_count": 182,
   "metadata": {},
   "outputs": [
    {
     "data": {
      "text/plain": [
       "other       141\n",
       "services    103\n",
       "at_home      59\n",
       "teacher      58\n",
       "health       34\n",
       "Name: Mjob, dtype: int64"
      ]
     },
     "execution_count": 182,
     "metadata": {},
     "output_type": "execute_result"
    }
   ],
   "source": [
    "#counting mother's job  of the students\n",
    "mother_cnt = data['Mjob'].value_counts()\n",
    "mother_cnt"
   ]
  },
  {
   "cell_type": "code",
   "execution_count": 183,
   "metadata": {},
   "outputs": [
    {
     "data": {
      "text/plain": [
       "Text(3.93, 25, '34')"
      ]
     },
     "execution_count": 183,
     "metadata": {},
     "output_type": "execute_result"
    },
    {
     "data": {
      "image/png": "[encoded data removed]",
      "text/plain": [
       "<Figure size 576x360 with 1 Axes>"
      ]
     },
     "metadata": {
      "needs_background": "light"
     },
     "output_type": "display_data"
    }
   ],
   "source": [
    "#Plotting bar-graph of total mother's job\n",
    "plt.figure(figsize=(8,5))\n",
    "mother_cnt.plot(kind=\"bar\", color=\"grey\", edgecolor=\"black\")\n",
    "plt.title(\"Total Mothers Job Analysis\")\n",
    "plt.xlabel(\"Occupation\")\n",
    "plt.ylabel(\"Student's mother count\")\n",
    "plt.text(-0.1,131,141)\n",
    "plt.text(0.9,93,103)\n",
    "plt.text(1.93,49,59)\n",
    "plt.text(2.93,48,58)\n",
    "plt.text(3.93,25,34)"
   ]
  },
  {
   "cell_type": "markdown",
   "metadata": {},
   "source": [
    "#### ii) Father Job Analysis"
   ]
  },
  {
   "cell_type": "code",
   "execution_count": 184,
   "metadata": {},
   "outputs": [
    {
     "data": {
      "text/plain": [
       "other       217\n",
       "services    111\n",
       "teacher      29\n",
       "at_home      20\n",
       "health       18\n",
       "Name: Fjob, dtype: int64"
      ]
     },
     "execution_count": 184,
     "metadata": {},
     "output_type": "execute_result"
    }
   ],
   "source": [
    "#counting father's job  of the students\n",
    "father_cnt = data['Fjob'].value_counts()\n",
    "father_cnt"
   ]
  },
  {
   "cell_type": "code",
   "execution_count": 185,
   "metadata": {},
   "outputs": [
    {
     "data": {
      "text/plain": [
       "Text(3.93, 5, '18')"
      ]
     },
     "execution_count": 185,
     "metadata": {},
     "output_type": "execute_result"
    },
    {
     "data": {
      "image/png": "[encoded data removed]",
      "text/plain": [
       "<Figure size 576x360 with 1 Axes>"
      ]
     },
     "metadata": {
      "needs_background": "light"
     },
     "output_type": "display_data"
    }
   ],
   "source": [
    "#Plotting bar-graph of total father's job\n",
    "plt.figure(figsize=(8,5))\n",
    "father_cnt.plot(kind=\"bar\", color=\"grey\", edgecolor=\"black\")\n",
    "plt.title(\"Total Father Job Analysis\")\n",
    "plt.xlabel(\"Occupation\")\n",
    "plt.ylabel(\"Student's father count\")\n",
    "plt.text(-0.1,200,217)\n",
    "plt.text(0.9,95,111)\n",
    "plt.text(1.93,15,29)\n",
    "plt.text(2.93,7,20)\n",
    "plt.text(3.93,5,18)"
   ]
  },
  {
   "cell_type": "markdown",
   "metadata": {},
   "source": [
    "### iii) Parent's Education"
   ]
  },
  {
   "cell_type": "code",
   "execution_count": 186,
   "metadata": {},
   "outputs": [
    {
     "data": {
      "text/plain": [
       "5th to 9th grade                 115\n",
       "higher education                  96\n",
       "none                               2\n",
       "primary education (4th grade)     82\n",
       "secondary education              100\n",
       "Name: Fedu, dtype: int64"
      ]
     },
     "execution_count": 186,
     "metadata": {},
     "output_type": "execute_result"
    }
   ],
   "source": [
    "#counting father's education\n",
    "Fedu_cnt = data['Fedu'].value_counts().sort_index(ascending=True)\n",
    "Fedu_cnt"
   ]
  },
  {
   "cell_type": "code",
   "execution_count": 187,
   "metadata": {},
   "outputs": [
    {
     "data": {
      "text/plain": [
       "5th to 9th grade                 103\n",
       "higher education                 131\n",
       "none                               3\n",
       "primary education (4th grade)     59\n",
       "secondary education               99\n",
       "Name: Medu, dtype: int64"
      ]
     },
     "execution_count": 187,
     "metadata": {},
     "output_type": "execute_result"
    }
   ],
   "source": [
    "#counting mothers's education\n",
    "Medu_cnt = data['Medu'].value_counts().sort_index(ascending=True)\n",
    "Medu_cnt"
   ]
  },
  {
   "cell_type": "code",
   "execution_count": 188,
   "metadata": {},
   "outputs": [
    {
     "data": {
      "text/plain": [
       "Index(['5th to 9th grade', 'higher education', 'none',\n",
       "       'primary education (4th grade)', 'secondary education'],\n",
       "      dtype='object')"
      ]
     },
     "execution_count": 188,
     "metadata": {},
     "output_type": "execute_result"
    }
   ],
   "source": [
    "edu_index = Medu_cnt.index #Fetching index of Medu_cnt relation\n",
    "edu_index"
   ]
  },
  {
   "cell_type": "code",
   "execution_count": 189,
   "metadata": {},
   "outputs": [
    {
     "data": {
      "text/html": [
       "<div>\n",
       "<style scoped>\n",
       "    .dataframe tbody tr th:only-of-type {\n",
       "        vertical-align: middle;\n",
       "    }\n",
       "\n",
       "    .dataframe tbody tr th {\n",
       "        vertical-align: top;\n",
       "    }\n",
       "\n",
       "    .dataframe thead th {\n",
       "        text-align: right;\n",
       "    }\n",
       "</style>\n",
       "<table border=\"1\" class=\"dataframe\">\n",
       "  <thead>\n",
       "    <tr style=\"text-align: right;\">\n",
       "      <th></th>\n",
       "      <th>Fedu</th>\n",
       "      <th>Medu</th>\n",
       "    </tr>\n",
       "  </thead>\n",
       "  <tbody>\n",
       "    <tr>\n",
       "      <th>5th to 9th grade</th>\n",
       "      <td>115</td>\n",
       "      <td>103</td>\n",
       "    </tr>\n",
       "    <tr>\n",
       "      <th>higher education</th>\n",
       "      <td>96</td>\n",
       "      <td>131</td>\n",
       "    </tr>\n",
       "    <tr>\n",
       "      <th>none</th>\n",
       "      <td>2</td>\n",
       "      <td>3</td>\n",
       "    </tr>\n",
       "    <tr>\n",
       "      <th>primary education (4th grade)</th>\n",
       "      <td>82</td>\n",
       "      <td>59</td>\n",
       "    </tr>\n",
       "    <tr>\n",
       "      <th>secondary education</th>\n",
       "      <td>100</td>\n",
       "      <td>99</td>\n",
       "    </tr>\n",
       "  </tbody>\n",
       "</table>\n",
       "</div>"
      ],
      "text/plain": [
       "                               Fedu  Medu\n",
       "5th to 9th grade                115   103\n",
       "higher education                 96   131\n",
       "none                              2     3\n",
       "primary education (4th grade)    82    59\n",
       "secondary education             100    99"
      ]
     },
     "execution_count": 189,
     "metadata": {},
     "output_type": "execute_result"
    }
   ],
   "source": [
    "#Creating a new pandas dataframe combining Medu_cnt and Fedu_cnt variables\n",
    "d2 = pd.DataFrame({'Fedu':Fedu_cnt,\n",
    "                  'Medu':Medu_cnt},index=edu_index)\n",
    "d2"
   ]
  },
  {
   "cell_type": "code",
   "execution_count": 190,
   "metadata": {},
   "outputs": [
    {
     "data": {
      "text/plain": [
       "Text(0, 0.5, 'No. of Parents')"
      ]
     },
     "execution_count": 190,
     "metadata": {},
     "output_type": "execute_result"
    },
    {
     "data": {
      "image/png": "[encoded data removed]",
      "text/plain": [
       "<Figure size 720x432 with 1 Axes>"
      ]
     },
     "metadata": {
      "needs_background": "light"
     },
     "output_type": "display_data"
    }
   ],
   "source": [
    "#Plotting bar-graph containing family education status\n",
    "d2.plot.bar(rot=0, figsize=(10,6))\n",
    "plt.xticks(rotation=\"vertical\")\n",
    "plt.title(\"Total No. of Parent's Education\")\n",
    "plt.xlabel(\"Education\")\n",
    "plt.ylabel(\"No. of Parents\")"
   ]
  },
  {
   "cell_type": "markdown",
   "metadata": {},
   "source": [
    "### iv) Students Pass and fail status according to the family relationship"
   ]
  },
  {
   "cell_type": "code",
   "execution_count": 191,
   "metadata": {},
   "outputs": [
    {
     "data": {
      "text/plain": [
       "very good    162\n",
       "excellent     88\n",
       "good          55\n",
       "bad           13\n",
       "very bad       7\n",
       "Name: famrel, dtype: int64"
      ]
     },
     "execution_count": 191,
     "metadata": {},
     "output_type": "execute_result"
    }
   ],
   "source": [
    "pass_data = data[data.passed==\"yes\"] #Fetching all the passed students\n",
    "pass_rel_cnt = pass_data[\"famrel\"].value_counts() #Counting the no. of passed students according to family relation\n",
    "pass_rel_cnt"
   ]
  },
  {
   "cell_type": "code",
   "execution_count": 192,
   "metadata": {},
   "outputs": [
    {
     "data": {
      "text/plain": [
       "very good    33\n",
       "excellent    18\n",
       "good         13\n",
       "bad           5\n",
       "very bad      1\n",
       "Name: famrel, dtype: int64"
      ]
     },
     "execution_count": 192,
     "metadata": {},
     "output_type": "execute_result"
    }
   ],
   "source": [
    "fail_data = data[data.passed==\"no\"] #Fetching all the failed students\n",
    "fail_rel_cnt = fail_data[\"famrel\"].value_counts() #Counting the no. of failed students according to family relation\n",
    "fail_rel_cnt"
   ]
  },
  {
   "cell_type": "code",
   "execution_count": 193,
   "metadata": {},
   "outputs": [
    {
     "data": {
      "text/plain": [
       "Index(['very good', 'excellent', 'good', 'bad', 'very bad'], dtype='object')"
      ]
     },
     "execution_count": 193,
     "metadata": {},
     "output_type": "execute_result"
    }
   ],
   "source": [
    "frel_index = pass_rel_cnt.index #Fetching index of family relation\n",
    "frel_index"
   ]
  },
  {
   "cell_type": "code",
   "execution_count": 194,
   "metadata": {},
   "outputs": [
    {
     "data": {
      "text/html": [
       "<div>\n",
       "<style scoped>\n",
       "    .dataframe tbody tr th:only-of-type {\n",
       "        vertical-align: middle;\n",
       "    }\n",
       "\n",
       "    .dataframe tbody tr th {\n",
       "        vertical-align: top;\n",
       "    }\n",
       "\n",
       "    .dataframe thead th {\n",
       "        text-align: right;\n",
       "    }\n",
       "</style>\n",
       "<table border=\"1\" class=\"dataframe\">\n",
       "  <thead>\n",
       "    <tr style=\"text-align: right;\">\n",
       "      <th></th>\n",
       "      <th>frel_pass_rate</th>\n",
       "      <th>frel_fail_rate</th>\n",
       "    </tr>\n",
       "  </thead>\n",
       "  <tbody>\n",
       "    <tr>\n",
       "      <th>very good</th>\n",
       "      <td>162</td>\n",
       "      <td>33</td>\n",
       "    </tr>\n",
       "    <tr>\n",
       "      <th>excellent</th>\n",
       "      <td>88</td>\n",
       "      <td>18</td>\n",
       "    </tr>\n",
       "    <tr>\n",
       "      <th>good</th>\n",
       "      <td>55</td>\n",
       "      <td>13</td>\n",
       "    </tr>\n",
       "    <tr>\n",
       "      <th>bad</th>\n",
       "      <td>13</td>\n",
       "      <td>5</td>\n",
       "    </tr>\n",
       "    <tr>\n",
       "      <th>very bad</th>\n",
       "      <td>7</td>\n",
       "      <td>1</td>\n",
       "    </tr>\n",
       "  </tbody>\n",
       "</table>\n",
       "</div>"
      ],
      "text/plain": [
       "           frel_pass_rate  frel_fail_rate\n",
       "very good             162              33\n",
       "excellent              88              18\n",
       "good                   55              13\n",
       "bad                    13               5\n",
       "very bad                7               1"
      ]
     },
     "execution_count": 194,
     "metadata": {},
     "output_type": "execute_result"
    }
   ],
   "source": [
    "#Creating a new pandas dataframe to add pass_relation_count data and fail_relation_count data\n",
    "d3 = pd.DataFrame({'frel_pass_rate':pass_rel_cnt,\n",
    "                  'frel_fail_rate':fail_rel_cnt},index=frel_index)\n",
    "d3"
   ]
  },
  {
   "cell_type": "code",
   "execution_count": 195,
   "metadata": {},
   "outputs": [
    {
     "data": {
      "text/plain": [
       "Text(0, 0.5, 'No. of Students')"
      ]
     },
     "execution_count": 195,
     "metadata": {},
     "output_type": "execute_result"
    },
    {
     "data": {
      "image/png": "[encoded data removed]",
      "text/plain": [
       "<Figure size 720x432 with 2 Axes>"
      ]
     },
     "metadata": {
      "needs_background": "light"
     },
     "output_type": "display_data"
    }
   ],
   "source": [
    "#Plotting bar-graph containing family relation of passed and failed student\n",
    "d3.plot.bar(rot=0, subplots=True, figsize=(10,6))\n",
    "plt.xticks(rotation=\"vertical\")\n",
    "plt.title(\"Student & Family Relationship - Passed Rate Status\")\n",
    "plt.xlabel(\"Category\")\n",
    "plt.ylabel(\"No. of Students\")"
   ]
  },
  {
   "cell_type": "markdown",
   "metadata": {},
   "source": [
    "### e) Passed rate according to student's health condition"
   ]
  },
  {
   "cell_type": "code",
   "execution_count": 196,
   "metadata": {},
   "outputs": [
    {
     "data": {
      "text/plain": [
       "excellent    120\n",
       "good          75\n",
       "very good     53\n",
       "very bad      42\n",
       "bad           35\n",
       "Name: health, dtype: int64"
      ]
     },
     "execution_count": 196,
     "metadata": {},
     "output_type": "execute_result"
    }
   ],
   "source": [
    "h_data = pass_data['health'].value_counts() #Count pass data according to their health condition\n",
    "h_data"
   ]
  },
  {
   "cell_type": "code",
   "execution_count": 197,
   "metadata": {},
   "outputs": [
    {
     "data": {
      "text/plain": [
       "Text(0.5, 1.0, 'Gender Statistics of GP School')"
      ]
     },
     "execution_count": 197,
     "metadata": {},
     "output_type": "execute_result"
    },
    {
     "data": {
      "image/png": "[encoded data removed]",
      "text/plain": [
       "<Figure size 432x288 with 1 Axes>"
      ]
     },
     "metadata": {},
     "output_type": "display_data"
    }
   ],
   "source": [
    "#Plotting pie-chart containing the pass rate of the students according to the health condition\n",
    "plt.pie(h_data, \n",
    "        explode=[0.1,0.1,0.1,0.1,0.1], \n",
    "        labels=[\"Excellent\",\"Good\",\"Very Good\", \"Bad\", \"Very Bad\"], \n",
    "        autopct=\"%.0f%%\",\n",
    "       )\n",
    "plt.title(\"Gender Statistics of GP School\")"
   ]
  },
  {
   "cell_type": "markdown",
   "metadata": {},
   "source": [
    "### f) How much TravelTime affected to student attendance  "
   ]
  },
  {
   "cell_type": "code",
   "execution_count": 198,
   "metadata": {},
   "outputs": [
    {
     "data": {
      "text/plain": [
       "646"
      ]
     },
     "execution_count": 198,
     "metadata": {},
     "output_type": "execute_result"
    }
   ],
   "source": [
    "data[data[\"traveltime\"]=='15 to 30 min.'][\"absences\"].sum()"
   ]
  },
  {
   "cell_type": "code",
   "execution_count": 199,
   "metadata": {},
   "outputs": [
    {
     "data": {
      "text/plain": [
       "1459"
      ]
     },
     "execution_count": 199,
     "metadata": {},
     "output_type": "execute_result"
    }
   ],
   "source": [
    "data[data[\"traveltime\"]=='<15 min.'][\"absences\"].sum()"
   ]
  },
  {
   "cell_type": "code",
   "execution_count": 200,
   "metadata": {},
   "outputs": [
    {
     "data": {
      "text/plain": [
       "0"
      ]
     },
     "execution_count": 200,
     "metadata": {},
     "output_type": "execute_result"
    }
   ],
   "source": [
    "data[data[\"traveltime\"]=='0 min. to 1 hour'][\"absences\"].sum()"
   ]
  },
  {
   "cell_type": "code",
   "execution_count": 201,
   "metadata": {},
   "outputs": [
    {
     "data": {
      "text/plain": [
       "36"
      ]
     },
     "execution_count": 201,
     "metadata": {},
     "output_type": "execute_result"
    }
   ],
   "source": [
    "data[data[\"traveltime\"]=='>1 hour'][\"absences\"].sum()"
   ]
  },
  {
   "cell_type": "markdown",
   "metadata": {},
   "source": [
    "### g) Alcohol drinking students Analysis\n",
    "\n",
    "#### i) Total weekly alcohol consuming student "
   ]
  },
  {
   "cell_type": "code",
   "execution_count": 202,
   "metadata": {},
   "outputs": [
    {
     "data": {
      "text/plain": [
       "very low     151\n",
       "low           85\n",
       "medium        80\n",
       "high          51\n",
       "very high     28\n",
       "Name: Walc, dtype: int64"
      ]
     },
     "execution_count": 202,
     "metadata": {},
     "output_type": "execute_result"
    }
   ],
   "source": [
    "walc_cnt = data['Walc'].value_counts()\n",
    "walc_cnt"
   ]
  },
  {
   "cell_type": "markdown",
   "metadata": {},
   "source": [
    "#### i) Weekly alcohol consuming student pass status count"
   ]
  },
  {
   "cell_type": "code",
   "execution_count": 203,
   "metadata": {},
   "outputs": [
    {
     "data": {
      "text/plain": [
       "yes    23\n",
       "no      5\n",
       "Name: passed, dtype: int64"
      ]
     },
     "execution_count": 203,
     "metadata": {},
     "output_type": "execute_result"
    }
   ],
   "source": [
    "data[data['Walc']==\"very high\"][\"passed\"].value_counts()"
   ]
  },
  {
   "cell_type": "code",
   "execution_count": 204,
   "metadata": {},
   "outputs": [
    {
     "data": {
      "text/plain": [
       "yes    43\n",
       "no      8\n",
       "Name: passed, dtype: int64"
      ]
     },
     "execution_count": 204,
     "metadata": {},
     "output_type": "execute_result"
    }
   ],
   "source": [
    "data[data['Walc']==\"high\"][\"passed\"].value_counts()"
   ]
  },
  {
   "cell_type": "code",
   "execution_count": 205,
   "metadata": {},
   "outputs": [
    {
     "data": {
      "text/plain": [
       "yes    71\n",
       "no      9\n",
       "Name: passed, dtype: int64"
      ]
     },
     "execution_count": 205,
     "metadata": {},
     "output_type": "execute_result"
    }
   ],
   "source": [
    "data[data['Walc']==\"medium\"][\"passed\"].value_counts()"
   ]
  },
  {
   "cell_type": "code",
   "execution_count": 206,
   "metadata": {},
   "outputs": [
    {
     "data": {
      "text/plain": [
       "yes    66\n",
       "no     19\n",
       "Name: passed, dtype: int64"
      ]
     },
     "execution_count": 206,
     "metadata": {},
     "output_type": "execute_result"
    }
   ],
   "source": [
    "data[data['Walc']==\"low\"][\"passed\"].value_counts()"
   ]
  },
  {
   "cell_type": "code",
   "execution_count": 207,
   "metadata": {},
   "outputs": [
    {
     "data": {
      "text/plain": [
       "yes    122\n",
       "no      29\n",
       "Name: passed, dtype: int64"
      ]
     },
     "execution_count": 207,
     "metadata": {},
     "output_type": "execute_result"
    }
   ],
   "source": [
    "data[data['Walc']==\"very low\"][\"passed\"].value_counts()"
   ]
  },
  {
   "cell_type": "markdown",
   "metadata": {},
   "source": [
    "#### iii) Weekly alcohol consuming student absence rate"
   ]
  },
  {
   "cell_type": "code",
   "execution_count": 208,
   "metadata": {},
   "outputs": [
    {
     "data": {
      "text/plain": [
       "193"
      ]
     },
     "execution_count": 208,
     "metadata": {},
     "output_type": "execute_result"
    }
   ],
   "source": [
    "data[data['Walc']==\"very high\"][\"absences\"].sum()"
   ]
  },
  {
   "cell_type": "code",
   "execution_count": 209,
   "metadata": {},
   "outputs": [
    {
     "data": {
      "text/plain": [
       "425"
      ]
     },
     "execution_count": 209,
     "metadata": {},
     "output_type": "execute_result"
    }
   ],
   "source": [
    "data[data['Walc']==\"high\"][\"absences\"].sum()"
   ]
  },
  {
   "cell_type": "code",
   "execution_count": 210,
   "metadata": {},
   "outputs": [
    {
     "data": {
      "text/plain": [
       "514"
      ]
     },
     "execution_count": 210,
     "metadata": {},
     "output_type": "execute_result"
    }
   ],
   "source": [
    "data[data['Walc']==\"medium\"][\"absences\"].sum()"
   ]
  },
  {
   "cell_type": "code",
   "execution_count": 211,
   "metadata": {},
   "outputs": [
    {
     "data": {
      "text/plain": [
       "390"
      ]
     },
     "execution_count": 211,
     "metadata": {},
     "output_type": "execute_result"
    }
   ],
   "source": [
    "data[data['Walc']==\"low\"][\"absences\"].sum()"
   ]
  },
  {
   "cell_type": "code",
   "execution_count": 212,
   "metadata": {},
   "outputs": [
    {
     "data": {
      "text/plain": [
       "733"
      ]
     },
     "execution_count": 212,
     "metadata": {},
     "output_type": "execute_result"
    }
   ],
   "source": [
    "data[data['Walc']==\"very low\"][\"absences\"].sum()"
   ]
  },
  {
   "cell_type": "markdown",
   "metadata": {},
   "source": [
    "### Use of Seaborn charts for further analysis"
   ]
  },
  {
   "cell_type": "markdown",
   "metadata": {},
   "source": [
    "#### Passed student in final grade according to the gender and their age"
   ]
  },
  {
   "cell_type": "code",
   "execution_count": 213,
   "metadata": {},
   "outputs": [
    {
     "data": {
      "image/png": "[encoded data removed]",
      "text/plain": [
       "<Figure size 432x288 with 1 Axes>"
      ]
     },
     "metadata": {
      "needs_background": "light"
     },
     "output_type": "display_data"
    }
   ],
   "source": [
    "internet_G3_sns = sns.scatterplot(x=\"G3\",\n",
    "                                  y=\"sex\",\n",
    "                                  data=data,\n",
    "                                  hue=\"passed\",\n",
    "                                  style=\"age_category\",\n",
    "                                  size=\"G3\")\n"
   ]
  },
  {
   "cell_type": "markdown",
   "metadata": {},
   "source": [
    "#### Passed student according to the studytime"
   ]
  },
  {
   "cell_type": "code",
   "execution_count": 214,
   "metadata": {},
   "outputs": [
    {
     "data": {
      "text/plain": [
       "<seaborn.axisgrid.FacetGrid at 0x26d4e8c8408>"
      ]
     },
     "execution_count": 214,
     "metadata": {},
     "output_type": "execute_result"
    },
    {
     "data": {
      "image/png": "[encoded data removed]",
      "text/plain": [
       "<Figure size 413.25x360 with 1 Axes>"
      ]
     },
     "metadata": {
      "needs_background": "light"
     },
     "output_type": "display_data"
    }
   ],
   "source": [
    "sns.catplot(x=\"studytime\",y=\"G3\", data=data, hue=\"passed\", kind=\"swarm\")"
   ]
  },
  {
   "cell_type": "markdown",
   "metadata": {},
   "source": [
    "#### Passed student according to the mothers job"
   ]
  },
  {
   "cell_type": "code",
   "execution_count": 215,
   "metadata": {},
   "outputs": [
    {
     "data": {
      "image/png": "[encoded data removed]",
      "text/plain": [
       "<Figure size 1008x648 with 2 Axes>"
      ]
     },
     "metadata": {
      "needs_background": "light"
     },
     "output_type": "display_data"
    }
   ],
   "source": [
    "f, axes = plt.subplots(2, 1, figsize=(14,9)) # creates subplot grid with 1 row and 2 columns\n",
    "passGradeG1=sns.barplot(y=\"Medu\", x=\"G3\", data=data, hue=\"passed\",ax=axes[0],ci=None,palette=\"Set1\")\n",
    "passGradeG1.set(xlabel=\"Final Term Grade\",ylabel=\"Mother's education\")\n",
    "passGradeG2=sns.barplot(y=\"Fedu\", x=\"G3\", data=data, hue=\"passed\",ax=axes[1],ci=None,palette=\"Set2\")\n",
    "passGradeG2.set(xlabel=\"Final Term Grade\",ylabel=\"Father's education\")\n",
    "plt.subplots_adjust(top=1)"
   ]
  },
  {
   "cell_type": "markdown",
   "metadata": {},
   "source": [
    "#### Health Condition of the weekly and daily alcohol comsumption of the students"
   ]
  },
  {
   "cell_type": "code",
   "execution_count": 216,
   "metadata": {},
   "outputs": [
    {
     "data": {
      "text/plain": [
       "<matplotlib.axes._subplots.AxesSubplot at 0x26d4ea921c8>"
      ]
     },
     "execution_count": 216,
     "metadata": {},
     "output_type": "execute_result"
    },
    {
     "data": {
      "image/png": "[encoded data removed]",
      "text/plain": [
       "<Figure size 1080x576 with 1 Axes>"
      ]
     },
     "metadata": {
      "needs_background": "light"
     },
     "output_type": "display_data"
    }
   ],
   "source": [
    "plt.figure(figsize=(15,8))\n",
    "sns.boxplot(x=\"Dalc\",y=\"Walc_native\",data=data, hue=\"health\")"
   ]
  },
  {
   "cell_type": "markdown",
   "metadata": {},
   "source": [
    "#### Compating pass status on first & second to the final period grade"
   ]
  },
  {
   "cell_type": "code",
   "execution_count": 232,
   "metadata": {},
   "outputs": [
    {
     "data": {
      "image/png": "[encoded data removed]",
      "text/plain": [
       "<Figure size 1296x720 with 2 Axes>"
      ]
     },
     "metadata": {
      "needs_background": "light"
     },
     "output_type": "display_data"
    }
   ],
   "source": [
    "f, axes = plt.subplots(2,1, figsize=(18,10))\n",
    "pg1 = sns.barplot(y=\"G1\", x=\"G3\", data=data, hue=\"passed\", ax=axes[0])\n",
    "pg1.set(xlabel=\"Final Grade\", ylabel=\"First Grade\")\n",
    "pg2 = sns.barplot(y=\"G2\", x=\"G3\", data=data, hue=\"passed\", ax=axes[1])\n",
    "pg2.set(xlabel=\"Final Grade\", ylabel=\"Second Grade\")\n",
    "plt.subplots_adjust(top=0.8)"
   ]
  },
  {
   "cell_type": "raw",
   "metadata": {},
   "source": [
    "#### On free time student uses internet or study analysis"
   ]
  },
  {
   "cell_type": "code",
   "execution_count": null,
   "metadata": {},
   "outputs": [],
   "source": [
    "sns.catplot(x=\"internet\", y=\"studytime_native\", data=data, kind=\"swarm\", hue=\"freetime_native\", aspect=2)"
   ]
  }
 ],
 "metadata": {
  "kernelspec": {
   "display_name": "Python 3",
   "language": "python",
   "name": "python3"
  },
  "language_info": {
   "codemirror_mode": {
    "name": "ipython",
    "version": 3
   },
   "file_extension": ".py",
   "mimetype": "text/x-python",
   "name": "python",
   "nbconvert_exporter": "python",
   "pygments_lexer": "ipython3",
   "version": "3.7.6"
  }
 },
 "nbformat": 4,
 "nbformat_minor": 4
}
